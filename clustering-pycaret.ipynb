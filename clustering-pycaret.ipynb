{
 "cells": [
  {
   "cell_type": "code",
   "execution_count": 1,
   "metadata": {},
   "outputs": [
    {
     "data": {
      "text/plain": [
       "'3.2.0'"
      ]
     },
     "execution_count": 1,
     "metadata": {},
     "output_type": "execute_result"
    }
   ],
   "source": [
    "import pycaret\n",
    "pycaret.__version__"
   ]
  },
  {
   "cell_type": "code",
   "execution_count": 8,
   "metadata": {},
   "outputs": [],
   "source": [
    "import pandas as pd"
   ]
  },
  {
   "cell_type": "code",
   "execution_count": 11,
   "metadata": {},
   "outputs": [
    {
     "data": {
      "text/html": [
       "<div>\n",
       "<style scoped>\n",
       "    .dataframe tbody tr th:only-of-type {\n",
       "        vertical-align: middle;\n",
       "    }\n",
       "\n",
       "    .dataframe tbody tr th {\n",
       "        vertical-align: top;\n",
       "    }\n",
       "\n",
       "    .dataframe thead th {\n",
       "        text-align: right;\n",
       "    }\n",
       "</style>\n",
       "<table border=\"1\" class=\"dataframe\">\n",
       "  <thead>\n",
       "    <tr style=\"text-align: right;\">\n",
       "      <th></th>\n",
       "      <th>Alcohol</th>\n",
       "      <th>Malic_Acid</th>\n",
       "      <th>Ash</th>\n",
       "      <th>Ash_Alcanity</th>\n",
       "      <th>Magnesium</th>\n",
       "      <th>Total_Phenols</th>\n",
       "      <th>Flavanoids</th>\n",
       "      <th>Nonflavanoid_Phenols</th>\n",
       "      <th>Proanthocyanins</th>\n",
       "      <th>Color_Intensity</th>\n",
       "      <th>Hue</th>\n",
       "      <th>OD280</th>\n",
       "      <th>Proline</th>\n",
       "    </tr>\n",
       "  </thead>\n",
       "  <tbody>\n",
       "    <tr>\n",
       "      <th>0</th>\n",
       "      <td>14.23</td>\n",
       "      <td>1.71</td>\n",
       "      <td>2.43</td>\n",
       "      <td>15.6</td>\n",
       "      <td>127</td>\n",
       "      <td>2.80</td>\n",
       "      <td>3.06</td>\n",
       "      <td>0.28</td>\n",
       "      <td>2.29</td>\n",
       "      <td>5.64</td>\n",
       "      <td>1.04</td>\n",
       "      <td>3.92</td>\n",
       "      <td>1065</td>\n",
       "    </tr>\n",
       "    <tr>\n",
       "      <th>1</th>\n",
       "      <td>13.20</td>\n",
       "      <td>1.78</td>\n",
       "      <td>2.14</td>\n",
       "      <td>11.2</td>\n",
       "      <td>100</td>\n",
       "      <td>2.65</td>\n",
       "      <td>2.76</td>\n",
       "      <td>0.26</td>\n",
       "      <td>1.28</td>\n",
       "      <td>4.38</td>\n",
       "      <td>1.05</td>\n",
       "      <td>3.40</td>\n",
       "      <td>1050</td>\n",
       "    </tr>\n",
       "    <tr>\n",
       "      <th>2</th>\n",
       "      <td>13.16</td>\n",
       "      <td>2.36</td>\n",
       "      <td>2.67</td>\n",
       "      <td>18.6</td>\n",
       "      <td>101</td>\n",
       "      <td>2.80</td>\n",
       "      <td>3.24</td>\n",
       "      <td>0.30</td>\n",
       "      <td>2.81</td>\n",
       "      <td>5.68</td>\n",
       "      <td>1.03</td>\n",
       "      <td>3.17</td>\n",
       "      <td>1185</td>\n",
       "    </tr>\n",
       "    <tr>\n",
       "      <th>3</th>\n",
       "      <td>14.37</td>\n",
       "      <td>1.95</td>\n",
       "      <td>2.50</td>\n",
       "      <td>16.8</td>\n",
       "      <td>113</td>\n",
       "      <td>3.85</td>\n",
       "      <td>3.49</td>\n",
       "      <td>0.24</td>\n",
       "      <td>2.18</td>\n",
       "      <td>7.80</td>\n",
       "      <td>0.86</td>\n",
       "      <td>3.45</td>\n",
       "      <td>1480</td>\n",
       "    </tr>\n",
       "    <tr>\n",
       "      <th>4</th>\n",
       "      <td>13.24</td>\n",
       "      <td>2.59</td>\n",
       "      <td>2.87</td>\n",
       "      <td>21.0</td>\n",
       "      <td>118</td>\n",
       "      <td>2.80</td>\n",
       "      <td>2.69</td>\n",
       "      <td>0.39</td>\n",
       "      <td>1.82</td>\n",
       "      <td>4.32</td>\n",
       "      <td>1.04</td>\n",
       "      <td>2.93</td>\n",
       "      <td>735</td>\n",
       "    </tr>\n",
       "  </tbody>\n",
       "</table>\n",
       "</div>"
      ],
      "text/plain": [
       "   Alcohol  Malic_Acid   Ash  Ash_Alcanity  Magnesium  Total_Phenols  \\\n",
       "0    14.23        1.71  2.43          15.6        127           2.80   \n",
       "1    13.20        1.78  2.14          11.2        100           2.65   \n",
       "2    13.16        2.36  2.67          18.6        101           2.80   \n",
       "3    14.37        1.95  2.50          16.8        113           3.85   \n",
       "4    13.24        2.59  2.87          21.0        118           2.80   \n",
       "\n",
       "   Flavanoids  Nonflavanoid_Phenols  Proanthocyanins  Color_Intensity   Hue  \\\n",
       "0        3.06                  0.28             2.29             5.64  1.04   \n",
       "1        2.76                  0.26             1.28             4.38  1.05   \n",
       "2        3.24                  0.30             2.81             5.68  1.03   \n",
       "3        3.49                  0.24             2.18             7.80  0.86   \n",
       "4        2.69                  0.39             1.82             4.32  1.04   \n",
       "\n",
       "   OD280  Proline  \n",
       "0   3.92     1065  \n",
       "1   3.40     1050  \n",
       "2   3.17     1185  \n",
       "3   3.45     1480  \n",
       "4   2.93      735  "
      ]
     },
     "execution_count": 11,
     "metadata": {},
     "output_type": "execute_result"
    }
   ],
   "source": [
    "winedata = pd.read_csv('data\\wine-clustering.csv') #csv path\n",
    "winedata.head()"
   ]
  },
  {
   "cell_type": "markdown",
   "metadata": {},
   "source": [
    "# Seup experiment"
   ]
  },
  {
   "cell_type": "code",
   "execution_count": 12,
   "metadata": {},
   "outputs": [
    {
     "data": {
      "text/html": [
       "<style type=\"text/css\">\n",
       "#T_df579_row4_col1 {\n",
       "  background-color: lightgreen;\n",
       "}\n",
       "</style>\n",
       "<table id=\"T_df579\">\n",
       "  <thead>\n",
       "    <tr>\n",
       "      <th class=\"blank level0\" >&nbsp;</th>\n",
       "      <th id=\"T_df579_level0_col0\" class=\"col_heading level0 col0\" >Description</th>\n",
       "      <th id=\"T_df579_level0_col1\" class=\"col_heading level0 col1\" >Value</th>\n",
       "    </tr>\n",
       "  </thead>\n",
       "  <tbody>\n",
       "    <tr>\n",
       "      <th id=\"T_df579_level0_row0\" class=\"row_heading level0 row0\" >0</th>\n",
       "      <td id=\"T_df579_row0_col0\" class=\"data row0 col0\" >Session id</td>\n",
       "      <td id=\"T_df579_row0_col1\" class=\"data row0 col1\" >123</td>\n",
       "    </tr>\n",
       "    <tr>\n",
       "      <th id=\"T_df579_level0_row1\" class=\"row_heading level0 row1\" >1</th>\n",
       "      <td id=\"T_df579_row1_col0\" class=\"data row1 col0\" >Original data shape</td>\n",
       "      <td id=\"T_df579_row1_col1\" class=\"data row1 col1\" >(178, 13)</td>\n",
       "    </tr>\n",
       "    <tr>\n",
       "      <th id=\"T_df579_level0_row2\" class=\"row_heading level0 row2\" >2</th>\n",
       "      <td id=\"T_df579_row2_col0\" class=\"data row2 col0\" >Transformed data shape</td>\n",
       "      <td id=\"T_df579_row2_col1\" class=\"data row2 col1\" >(178, 13)</td>\n",
       "    </tr>\n",
       "    <tr>\n",
       "      <th id=\"T_df579_level0_row3\" class=\"row_heading level0 row3\" >3</th>\n",
       "      <td id=\"T_df579_row3_col0\" class=\"data row3 col0\" >Numeric features</td>\n",
       "      <td id=\"T_df579_row3_col1\" class=\"data row3 col1\" >13</td>\n",
       "    </tr>\n",
       "    <tr>\n",
       "      <th id=\"T_df579_level0_row4\" class=\"row_heading level0 row4\" >4</th>\n",
       "      <td id=\"T_df579_row4_col0\" class=\"data row4 col0\" >Preprocess</td>\n",
       "      <td id=\"T_df579_row4_col1\" class=\"data row4 col1\" >True</td>\n",
       "    </tr>\n",
       "    <tr>\n",
       "      <th id=\"T_df579_level0_row5\" class=\"row_heading level0 row5\" >5</th>\n",
       "      <td id=\"T_df579_row5_col0\" class=\"data row5 col0\" >Imputation type</td>\n",
       "      <td id=\"T_df579_row5_col1\" class=\"data row5 col1\" >simple</td>\n",
       "    </tr>\n",
       "    <tr>\n",
       "      <th id=\"T_df579_level0_row6\" class=\"row_heading level0 row6\" >6</th>\n",
       "      <td id=\"T_df579_row6_col0\" class=\"data row6 col0\" >Numeric imputation</td>\n",
       "      <td id=\"T_df579_row6_col1\" class=\"data row6 col1\" >mean</td>\n",
       "    </tr>\n",
       "    <tr>\n",
       "      <th id=\"T_df579_level0_row7\" class=\"row_heading level0 row7\" >7</th>\n",
       "      <td id=\"T_df579_row7_col0\" class=\"data row7 col0\" >Categorical imputation</td>\n",
       "      <td id=\"T_df579_row7_col1\" class=\"data row7 col1\" >mode</td>\n",
       "    </tr>\n",
       "    <tr>\n",
       "      <th id=\"T_df579_level0_row8\" class=\"row_heading level0 row8\" >8</th>\n",
       "      <td id=\"T_df579_row8_col0\" class=\"data row8 col0\" >CPU Jobs</td>\n",
       "      <td id=\"T_df579_row8_col1\" class=\"data row8 col1\" >-1</td>\n",
       "    </tr>\n",
       "    <tr>\n",
       "      <th id=\"T_df579_level0_row9\" class=\"row_heading level0 row9\" >9</th>\n",
       "      <td id=\"T_df579_row9_col0\" class=\"data row9 col0\" >Use GPU</td>\n",
       "      <td id=\"T_df579_row9_col1\" class=\"data row9 col1\" >False</td>\n",
       "    </tr>\n",
       "    <tr>\n",
       "      <th id=\"T_df579_level0_row10\" class=\"row_heading level0 row10\" >10</th>\n",
       "      <td id=\"T_df579_row10_col0\" class=\"data row10 col0\" >Log Experiment</td>\n",
       "      <td id=\"T_df579_row10_col1\" class=\"data row10 col1\" >False</td>\n",
       "    </tr>\n",
       "    <tr>\n",
       "      <th id=\"T_df579_level0_row11\" class=\"row_heading level0 row11\" >11</th>\n",
       "      <td id=\"T_df579_row11_col0\" class=\"data row11 col0\" >Experiment Name</td>\n",
       "      <td id=\"T_df579_row11_col1\" class=\"data row11 col1\" >cluster-default-name</td>\n",
       "    </tr>\n",
       "    <tr>\n",
       "      <th id=\"T_df579_level0_row12\" class=\"row_heading level0 row12\" >12</th>\n",
       "      <td id=\"T_df579_row12_col0\" class=\"data row12 col0\" >USI</td>\n",
       "      <td id=\"T_df579_row12_col1\" class=\"data row12 col1\" >5372</td>\n",
       "    </tr>\n",
       "  </tbody>\n",
       "</table>\n"
      ],
      "text/plain": [
       "<pandas.io.formats.style.Styler at 0x275eaf624f0>"
      ]
     },
     "metadata": {},
     "output_type": "display_data"
    }
   ],
   "source": [
    "from pycaret.clustering import *\n",
    "clust1 = setup(winedata, session_id = 123)"
   ]
  },
  {
   "cell_type": "markdown",
   "metadata": {},
   "source": [
    "Access all the variables created by the setup function using get_config()"
   ]
  },
  {
   "cell_type": "code",
   "execution_count": 24,
   "metadata": {},
   "outputs": [
    {
     "data": {
      "text/plain": [
       "{'USI',\n",
       " 'X',\n",
       " 'X_train',\n",
       " 'X_train_transformed',\n",
       " 'X_transformed',\n",
       " '_available_plots',\n",
       " '_ml_usecase',\n",
       " 'data',\n",
       " 'dataset',\n",
       " 'dataset_transformed',\n",
       " 'exp_id',\n",
       " 'exp_name_log',\n",
       " 'gpu_n_jobs_param',\n",
       " 'gpu_param',\n",
       " 'html_param',\n",
       " 'idx',\n",
       " 'is_multiclass',\n",
       " 'log_plots_param',\n",
       " 'logging_param',\n",
       " 'memory',\n",
       " 'n_jobs_param',\n",
       " 'pipeline',\n",
       " 'seed',\n",
       " 'train',\n",
       " 'train_transformed',\n",
       " 'variable_and_property_keys',\n",
       " 'variables'}"
      ]
     },
     "execution_count": 24,
     "metadata": {},
     "output_type": "execute_result"
    }
   ],
   "source": [
    "get_config()"
   ]
  },
  {
   "cell_type": "markdown",
   "metadata": {},
   "source": [
    "Example of how to access and change config variables"
   ]
  },
  {
   "cell_type": "code",
   "execution_count": 26,
   "metadata": {},
   "outputs": [
    {
     "name": "stdout",
     "output_type": "stream",
     "text": [
      "The current seed is: 123\n",
      "The new seed is: 786\n"
     ]
    }
   ],
   "source": [
    "# access seed\n",
    "print(\"The current seed is: {}\".format(get_config('seed')))\n",
    "\n",
    "# change seed\n",
    "set_config('seed', 786)\n",
    "print(\"The new seed is: {}\".format(get_config('seed')))"
   ]
  },
  {
   "cell_type": "markdown",
   "metadata": {},
   "source": [
    "#### Below method uses OOP API versus the Functional API above. Both methods should yield same results"
   ]
  },
  {
   "cell_type": "code",
   "execution_count": 13,
   "metadata": {},
   "outputs": [],
   "source": [
    "from pycaret.clustering import ClusteringExperiment\n",
    "exp = ClusteringExperiment()"
   ]
  },
  {
   "cell_type": "code",
   "execution_count": 14,
   "metadata": {},
   "outputs": [
    {
     "data": {
      "text/plain": [
       "pycaret.clustering.oop.ClusteringExperiment"
      ]
     },
     "execution_count": 14,
     "metadata": {},
     "output_type": "execute_result"
    }
   ],
   "source": [
    "# Check type of emperiment. Notice this type is OOP\n",
    "\n",
    "type(exp)"
   ]
  },
  {
   "cell_type": "code",
   "execution_count": null,
   "metadata": {},
   "outputs": [],
   "source": [
    "exp.setup(winedata, session_id = 123)"
   ]
  },
  {
   "cell_type": "markdown",
   "metadata": {},
   "source": [
    "#### Continue with Functinal API"
   ]
  },
  {
   "cell_type": "markdown",
   "metadata": {},
   "source": [
    "# Logging\n",
    "Logging can be enabled during experiment setup. The default logger is mlflow. Other loggers shown below\n",
    "- mlflow\n",
    "- wandb\n",
    "- comet_ml\n",
    "- dagshub"
   ]
  },
  {
   "cell_type": "code",
   "execution_count": null,
   "metadata": {},
   "outputs": [],
   "source": [
    "# from pycaret.clustering import *\n",
    "# s = setup(winedata, log_experiment='mlflow', experiment_name='wine_project')"
   ]
  },
  {
   "cell_type": "code",
   "execution_count": null,
   "metadata": {},
   "outputs": [],
   "source": [
    "# train kmeans\n",
    "# kmeans = create_model('kmeans')\n"
   ]
  },
  {
   "cell_type": "code",
   "execution_count": null,
   "metadata": {},
   "outputs": [],
   "source": [
    "# start mlflow server on localhost:5000\n",
    "# !mlflow ui"
   ]
  },
  {
   "cell_type": "markdown",
   "metadata": {},
   "source": [
    "# Create model"
   ]
  },
  {
   "cell_type": "code",
   "execution_count": 15,
   "metadata": {},
   "outputs": [
    {
     "data": {
      "text/html": [],
      "text/plain": [
       "<IPython.core.display.HTML object>"
      ]
     },
     "metadata": {},
     "output_type": "display_data"
    },
    {
     "data": {
      "text/html": [
       "<style type=\"text/css\">\n",
       "</style>\n",
       "<table id=\"T_2f7a1\">\n",
       "  <thead>\n",
       "    <tr>\n",
       "      <th class=\"blank level0\" >&nbsp;</th>\n",
       "      <th id=\"T_2f7a1_level0_col0\" class=\"col_heading level0 col0\" >Silhouette</th>\n",
       "      <th id=\"T_2f7a1_level0_col1\" class=\"col_heading level0 col1\" >Calinski-Harabasz</th>\n",
       "      <th id=\"T_2f7a1_level0_col2\" class=\"col_heading level0 col2\" >Davies-Bouldin</th>\n",
       "      <th id=\"T_2f7a1_level0_col3\" class=\"col_heading level0 col3\" >Homogeneity</th>\n",
       "      <th id=\"T_2f7a1_level0_col4\" class=\"col_heading level0 col4\" >Rand Index</th>\n",
       "      <th id=\"T_2f7a1_level0_col5\" class=\"col_heading level0 col5\" >Completeness</th>\n",
       "    </tr>\n",
       "  </thead>\n",
       "  <tbody>\n",
       "    <tr>\n",
       "      <th id=\"T_2f7a1_level0_row0\" class=\"row_heading level0 row0\" >0</th>\n",
       "      <td id=\"T_2f7a1_row0_col0\" class=\"data row0 col0\" >0.5620</td>\n",
       "      <td id=\"T_2f7a1_row0_col1\" class=\"data row0 col1\" >708.0867</td>\n",
       "      <td id=\"T_2f7a1_row0_col2\" class=\"data row0 col2\" >0.5443</td>\n",
       "      <td id=\"T_2f7a1_row0_col3\" class=\"data row0 col3\" >0</td>\n",
       "      <td id=\"T_2f7a1_row0_col4\" class=\"data row0 col4\" >0</td>\n",
       "      <td id=\"T_2f7a1_row0_col5\" class=\"data row0 col5\" >0</td>\n",
       "    </tr>\n",
       "  </tbody>\n",
       "</table>\n"
      ],
      "text/plain": [
       "<pandas.io.formats.style.Styler at 0x275ed077eb0>"
      ]
     },
     "metadata": {},
     "output_type": "display_data"
    },
    {
     "data": {
      "text/html": [],
      "text/plain": [
       "<IPython.core.display.HTML object>"
      ]
     },
     "metadata": {},
     "output_type": "display_data"
    }
   ],
   "source": [
    "# Train K-Means Clustering model\n",
    "kmeans = create_model('kmeans')"
   ]
  },
  {
   "cell_type": "markdown",
   "metadata": {},
   "source": [
    "Below is a list of parameters that can accessed to train the model.\n",
    "- num_clusters\n",
    "- ground_truth\n",
    "- fit_kwargs\n",
    "- experiment_custom_tags\n",
    "- engine\n",
    "\n",
    "In the next code cell we can train a model with 10 clusters."
   ]
  },
  {
   "cell_type": "code",
   "execution_count": null,
   "metadata": {},
   "outputs": [],
   "source": [
    "# train kmeans with 10 clusters\n",
    "#create_model('kmeans', num_clusters = 10)"
   ]
  },
  {
   "cell_type": "code",
   "execution_count": 16,
   "metadata": {},
   "outputs": [
    {
     "data": {
      "text/html": [
       "<div>\n",
       "<style scoped>\n",
       "    .dataframe tbody tr th:only-of-type {\n",
       "        vertical-align: middle;\n",
       "    }\n",
       "\n",
       "    .dataframe tbody tr th {\n",
       "        vertical-align: top;\n",
       "    }\n",
       "\n",
       "    .dataframe thead th {\n",
       "        text-align: right;\n",
       "    }\n",
       "</style>\n",
       "<table border=\"1\" class=\"dataframe\">\n",
       "  <thead>\n",
       "    <tr style=\"text-align: right;\">\n",
       "      <th></th>\n",
       "      <th>Name</th>\n",
       "      <th>Reference</th>\n",
       "    </tr>\n",
       "    <tr>\n",
       "      <th>ID</th>\n",
       "      <th></th>\n",
       "      <th></th>\n",
       "    </tr>\n",
       "  </thead>\n",
       "  <tbody>\n",
       "    <tr>\n",
       "      <th>kmeans</th>\n",
       "      <td>K-Means Clustering</td>\n",
       "      <td>sklearn.cluster._kmeans.KMeans</td>\n",
       "    </tr>\n",
       "    <tr>\n",
       "      <th>ap</th>\n",
       "      <td>Affinity Propagation</td>\n",
       "      <td>sklearn.cluster._affinity_propagation.Affinity...</td>\n",
       "    </tr>\n",
       "    <tr>\n",
       "      <th>meanshift</th>\n",
       "      <td>Mean Shift Clustering</td>\n",
       "      <td>sklearn.cluster._mean_shift.MeanShift</td>\n",
       "    </tr>\n",
       "    <tr>\n",
       "      <th>sc</th>\n",
       "      <td>Spectral Clustering</td>\n",
       "      <td>sklearn.cluster._spectral.SpectralClustering</td>\n",
       "    </tr>\n",
       "    <tr>\n",
       "      <th>hclust</th>\n",
       "      <td>Agglomerative Clustering</td>\n",
       "      <td>sklearn.cluster._agglomerative.AgglomerativeCl...</td>\n",
       "    </tr>\n",
       "    <tr>\n",
       "      <th>dbscan</th>\n",
       "      <td>Density-Based Spatial Clustering</td>\n",
       "      <td>sklearn.cluster._dbscan.DBSCAN</td>\n",
       "    </tr>\n",
       "    <tr>\n",
       "      <th>optics</th>\n",
       "      <td>OPTICS Clustering</td>\n",
       "      <td>sklearn.cluster._optics.OPTICS</td>\n",
       "    </tr>\n",
       "    <tr>\n",
       "      <th>birch</th>\n",
       "      <td>Birch Clustering</td>\n",
       "      <td>sklearn.cluster._birch.Birch</td>\n",
       "    </tr>\n",
       "  </tbody>\n",
       "</table>\n",
       "</div>"
      ],
      "text/plain": [
       "                                       Name  \\\n",
       "ID                                            \n",
       "kmeans                   K-Means Clustering   \n",
       "ap                     Affinity Propagation   \n",
       "meanshift             Mean Shift Clustering   \n",
       "sc                      Spectral Clustering   \n",
       "hclust             Agglomerative Clustering   \n",
       "dbscan     Density-Based Spatial Clustering   \n",
       "optics                    OPTICS Clustering   \n",
       "birch                      Birch Clustering   \n",
       "\n",
       "                                                   Reference  \n",
       "ID                                                            \n",
       "kmeans                        sklearn.cluster._kmeans.KMeans  \n",
       "ap         sklearn.cluster._affinity_propagation.Affinity...  \n",
       "meanshift              sklearn.cluster._mean_shift.MeanShift  \n",
       "sc              sklearn.cluster._spectral.SpectralClustering  \n",
       "hclust     sklearn.cluster._agglomerative.AgglomerativeCl...  \n",
       "dbscan                        sklearn.cluster._dbscan.DBSCAN  \n",
       "optics                        sklearn.cluster._optics.OPTICS  \n",
       "birch                           sklearn.cluster._birch.Birch  "
      ]
     },
     "execution_count": 16,
     "metadata": {},
     "output_type": "execute_result"
    }
   ],
   "source": [
    "# List clustering models\n",
    "models()"
   ]
  },
  {
   "cell_type": "code",
   "execution_count": 17,
   "metadata": {},
   "outputs": [
    {
     "data": {
      "text/html": [],
      "text/plain": [
       "<IPython.core.display.HTML object>"
      ]
     },
     "metadata": {},
     "output_type": "display_data"
    },
    {
     "data": {
      "text/html": [
       "<style type=\"text/css\">\n",
       "</style>\n",
       "<table id=\"T_cfc8d\">\n",
       "  <thead>\n",
       "    <tr>\n",
       "      <th class=\"blank level0\" >&nbsp;</th>\n",
       "      <th id=\"T_cfc8d_level0_col0\" class=\"col_heading level0 col0\" >Silhouette</th>\n",
       "      <th id=\"T_cfc8d_level0_col1\" class=\"col_heading level0 col1\" >Calinski-Harabasz</th>\n",
       "      <th id=\"T_cfc8d_level0_col2\" class=\"col_heading level0 col2\" >Davies-Bouldin</th>\n",
       "      <th id=\"T_cfc8d_level0_col3\" class=\"col_heading level0 col3\" >Homogeneity</th>\n",
       "      <th id=\"T_cfc8d_level0_col4\" class=\"col_heading level0 col4\" >Rand Index</th>\n",
       "      <th id=\"T_cfc8d_level0_col5\" class=\"col_heading level0 col5\" >Completeness</th>\n",
       "    </tr>\n",
       "  </thead>\n",
       "  <tbody>\n",
       "    <tr>\n",
       "      <th id=\"T_cfc8d_level0_row0\" class=\"row_heading level0 row0\" >0</th>\n",
       "      <td id=\"T_cfc8d_row0_col0\" class=\"data row0 col0\" >0.5607</td>\n",
       "      <td id=\"T_cfc8d_row0_col1\" class=\"data row0 col1\" >670.6260</td>\n",
       "      <td id=\"T_cfc8d_row0_col2\" class=\"data row0 col2\" >0.5536</td>\n",
       "      <td id=\"T_cfc8d_row0_col3\" class=\"data row0 col3\" >0</td>\n",
       "      <td id=\"T_cfc8d_row0_col4\" class=\"data row0 col4\" >0</td>\n",
       "      <td id=\"T_cfc8d_row0_col5\" class=\"data row0 col5\" >0</td>\n",
       "    </tr>\n",
       "  </tbody>\n",
       "</table>\n"
      ],
      "text/plain": [
       "<pandas.io.formats.style.Styler at 0x275e69a2e80>"
      ]
     },
     "metadata": {},
     "output_type": "display_data"
    },
    {
     "data": {
      "text/html": [],
      "text/plain": [
       "<IPython.core.display.HTML object>"
      ]
     },
     "metadata": {},
     "output_type": "display_data"
    }
   ],
   "source": [
    "# Train Agglomerative Clustering model\n",
    "\n",
    "hclust = create_model('hclust')"
   ]
  },
  {
   "cell_type": "markdown",
   "metadata": {},
   "source": [
    "# Assign model\n",
    "Assign cluster labels to trained data"
   ]
  },
  {
   "cell_type": "code",
   "execution_count": 18,
   "metadata": {},
   "outputs": [
    {
     "data": {
      "text/html": [
       "<div>\n",
       "<style scoped>\n",
       "    .dataframe tbody tr th:only-of-type {\n",
       "        vertical-align: middle;\n",
       "    }\n",
       "\n",
       "    .dataframe tbody tr th {\n",
       "        vertical-align: top;\n",
       "    }\n",
       "\n",
       "    .dataframe thead th {\n",
       "        text-align: right;\n",
       "    }\n",
       "</style>\n",
       "<table border=\"1\" class=\"dataframe\">\n",
       "  <thead>\n",
       "    <tr style=\"text-align: right;\">\n",
       "      <th></th>\n",
       "      <th>Alcohol</th>\n",
       "      <th>Malic_Acid</th>\n",
       "      <th>Ash</th>\n",
       "      <th>Ash_Alcanity</th>\n",
       "      <th>Magnesium</th>\n",
       "      <th>Total_Phenols</th>\n",
       "      <th>Flavanoids</th>\n",
       "      <th>Nonflavanoid_Phenols</th>\n",
       "      <th>Proanthocyanins</th>\n",
       "      <th>Color_Intensity</th>\n",
       "      <th>Hue</th>\n",
       "      <th>OD280</th>\n",
       "      <th>Proline</th>\n",
       "      <th>Cluster</th>\n",
       "    </tr>\n",
       "  </thead>\n",
       "  <tbody>\n",
       "    <tr>\n",
       "      <th>0</th>\n",
       "      <td>14.23</td>\n",
       "      <td>1.71</td>\n",
       "      <td>2.43</td>\n",
       "      <td>15.600000</td>\n",
       "      <td>127</td>\n",
       "      <td>2.80</td>\n",
       "      <td>3.06</td>\n",
       "      <td>0.28</td>\n",
       "      <td>2.29</td>\n",
       "      <td>5.64</td>\n",
       "      <td>1.04</td>\n",
       "      <td>3.92</td>\n",
       "      <td>1065</td>\n",
       "      <td>Cluster 3</td>\n",
       "    </tr>\n",
       "    <tr>\n",
       "      <th>1</th>\n",
       "      <td>13.20</td>\n",
       "      <td>1.78</td>\n",
       "      <td>2.14</td>\n",
       "      <td>11.200000</td>\n",
       "      <td>100</td>\n",
       "      <td>2.65</td>\n",
       "      <td>2.76</td>\n",
       "      <td>0.26</td>\n",
       "      <td>1.28</td>\n",
       "      <td>4.38</td>\n",
       "      <td>1.05</td>\n",
       "      <td>3.40</td>\n",
       "      <td>1050</td>\n",
       "      <td>Cluster 3</td>\n",
       "    </tr>\n",
       "    <tr>\n",
       "      <th>2</th>\n",
       "      <td>13.16</td>\n",
       "      <td>2.36</td>\n",
       "      <td>2.67</td>\n",
       "      <td>18.600000</td>\n",
       "      <td>101</td>\n",
       "      <td>2.80</td>\n",
       "      <td>3.24</td>\n",
       "      <td>0.30</td>\n",
       "      <td>2.81</td>\n",
       "      <td>5.68</td>\n",
       "      <td>1.03</td>\n",
       "      <td>3.17</td>\n",
       "      <td>1185</td>\n",
       "      <td>Cluster 0</td>\n",
       "    </tr>\n",
       "    <tr>\n",
       "      <th>3</th>\n",
       "      <td>14.37</td>\n",
       "      <td>1.95</td>\n",
       "      <td>2.50</td>\n",
       "      <td>16.799999</td>\n",
       "      <td>113</td>\n",
       "      <td>3.85</td>\n",
       "      <td>3.49</td>\n",
       "      <td>0.24</td>\n",
       "      <td>2.18</td>\n",
       "      <td>7.80</td>\n",
       "      <td>0.86</td>\n",
       "      <td>3.45</td>\n",
       "      <td>1480</td>\n",
       "      <td>Cluster 0</td>\n",
       "    </tr>\n",
       "    <tr>\n",
       "      <th>4</th>\n",
       "      <td>13.24</td>\n",
       "      <td>2.59</td>\n",
       "      <td>2.87</td>\n",
       "      <td>21.000000</td>\n",
       "      <td>118</td>\n",
       "      <td>2.80</td>\n",
       "      <td>2.69</td>\n",
       "      <td>0.39</td>\n",
       "      <td>1.82</td>\n",
       "      <td>4.32</td>\n",
       "      <td>1.04</td>\n",
       "      <td>2.93</td>\n",
       "      <td>735</td>\n",
       "      <td>Cluster 2</td>\n",
       "    </tr>\n",
       "    <tr>\n",
       "      <th>...</th>\n",
       "      <td>...</td>\n",
       "      <td>...</td>\n",
       "      <td>...</td>\n",
       "      <td>...</td>\n",
       "      <td>...</td>\n",
       "      <td>...</td>\n",
       "      <td>...</td>\n",
       "      <td>...</td>\n",
       "      <td>...</td>\n",
       "      <td>...</td>\n",
       "      <td>...</td>\n",
       "      <td>...</td>\n",
       "      <td>...</td>\n",
       "      <td>...</td>\n",
       "    </tr>\n",
       "    <tr>\n",
       "      <th>173</th>\n",
       "      <td>13.71</td>\n",
       "      <td>5.65</td>\n",
       "      <td>2.45</td>\n",
       "      <td>20.500000</td>\n",
       "      <td>95</td>\n",
       "      <td>1.68</td>\n",
       "      <td>0.61</td>\n",
       "      <td>0.52</td>\n",
       "      <td>1.06</td>\n",
       "      <td>7.70</td>\n",
       "      <td>0.64</td>\n",
       "      <td>1.74</td>\n",
       "      <td>740</td>\n",
       "      <td>Cluster 2</td>\n",
       "    </tr>\n",
       "    <tr>\n",
       "      <th>174</th>\n",
       "      <td>13.40</td>\n",
       "      <td>3.91</td>\n",
       "      <td>2.48</td>\n",
       "      <td>23.000000</td>\n",
       "      <td>102</td>\n",
       "      <td>1.80</td>\n",
       "      <td>0.75</td>\n",
       "      <td>0.43</td>\n",
       "      <td>1.41</td>\n",
       "      <td>7.30</td>\n",
       "      <td>0.70</td>\n",
       "      <td>1.56</td>\n",
       "      <td>750</td>\n",
       "      <td>Cluster 2</td>\n",
       "    </tr>\n",
       "    <tr>\n",
       "      <th>175</th>\n",
       "      <td>13.27</td>\n",
       "      <td>4.28</td>\n",
       "      <td>2.26</td>\n",
       "      <td>20.000000</td>\n",
       "      <td>120</td>\n",
       "      <td>1.59</td>\n",
       "      <td>0.69</td>\n",
       "      <td>0.43</td>\n",
       "      <td>1.35</td>\n",
       "      <td>10.20</td>\n",
       "      <td>0.59</td>\n",
       "      <td>1.56</td>\n",
       "      <td>835</td>\n",
       "      <td>Cluster 2</td>\n",
       "    </tr>\n",
       "    <tr>\n",
       "      <th>176</th>\n",
       "      <td>13.17</td>\n",
       "      <td>2.59</td>\n",
       "      <td>2.37</td>\n",
       "      <td>20.000000</td>\n",
       "      <td>120</td>\n",
       "      <td>1.65</td>\n",
       "      <td>0.68</td>\n",
       "      <td>0.53</td>\n",
       "      <td>1.46</td>\n",
       "      <td>9.30</td>\n",
       "      <td>0.60</td>\n",
       "      <td>1.62</td>\n",
       "      <td>840</td>\n",
       "      <td>Cluster 2</td>\n",
       "    </tr>\n",
       "    <tr>\n",
       "      <th>177</th>\n",
       "      <td>14.13</td>\n",
       "      <td>4.10</td>\n",
       "      <td>2.74</td>\n",
       "      <td>24.500000</td>\n",
       "      <td>96</td>\n",
       "      <td>2.05</td>\n",
       "      <td>0.76</td>\n",
       "      <td>0.56</td>\n",
       "      <td>1.35</td>\n",
       "      <td>9.20</td>\n",
       "      <td>0.61</td>\n",
       "      <td>1.60</td>\n",
       "      <td>560</td>\n",
       "      <td>Cluster 1</td>\n",
       "    </tr>\n",
       "  </tbody>\n",
       "</table>\n",
       "<p>178 rows × 14 columns</p>\n",
       "</div>"
      ],
      "text/plain": [
       "     Alcohol  Malic_Acid   Ash  Ash_Alcanity  Magnesium  Total_Phenols  \\\n",
       "0      14.23        1.71  2.43     15.600000        127           2.80   \n",
       "1      13.20        1.78  2.14     11.200000        100           2.65   \n",
       "2      13.16        2.36  2.67     18.600000        101           2.80   \n",
       "3      14.37        1.95  2.50     16.799999        113           3.85   \n",
       "4      13.24        2.59  2.87     21.000000        118           2.80   \n",
       "..       ...         ...   ...           ...        ...            ...   \n",
       "173    13.71        5.65  2.45     20.500000         95           1.68   \n",
       "174    13.40        3.91  2.48     23.000000        102           1.80   \n",
       "175    13.27        4.28  2.26     20.000000        120           1.59   \n",
       "176    13.17        2.59  2.37     20.000000        120           1.65   \n",
       "177    14.13        4.10  2.74     24.500000         96           2.05   \n",
       "\n",
       "     Flavanoids  Nonflavanoid_Phenols  Proanthocyanins  Color_Intensity   Hue  \\\n",
       "0          3.06                  0.28             2.29             5.64  1.04   \n",
       "1          2.76                  0.26             1.28             4.38  1.05   \n",
       "2          3.24                  0.30             2.81             5.68  1.03   \n",
       "3          3.49                  0.24             2.18             7.80  0.86   \n",
       "4          2.69                  0.39             1.82             4.32  1.04   \n",
       "..          ...                   ...              ...              ...   ...   \n",
       "173        0.61                  0.52             1.06             7.70  0.64   \n",
       "174        0.75                  0.43             1.41             7.30  0.70   \n",
       "175        0.69                  0.43             1.35            10.20  0.59   \n",
       "176        0.68                  0.53             1.46             9.30  0.60   \n",
       "177        0.76                  0.56             1.35             9.20  0.61   \n",
       "\n",
       "     OD280  Proline    Cluster  \n",
       "0     3.92     1065  Cluster 3  \n",
       "1     3.40     1050  Cluster 3  \n",
       "2     3.17     1185  Cluster 0  \n",
       "3     3.45     1480  Cluster 0  \n",
       "4     2.93      735  Cluster 2  \n",
       "..     ...      ...        ...  \n",
       "173   1.74      740  Cluster 2  \n",
       "174   1.56      750  Cluster 2  \n",
       "175   1.56      835  Cluster 2  \n",
       "176   1.62      840  Cluster 2  \n",
       "177   1.60      560  Cluster 1  \n",
       "\n",
       "[178 rows x 14 columns]"
      ]
     },
     "execution_count": 18,
     "metadata": {},
     "output_type": "execute_result"
    }
   ],
   "source": [
    "kmeans_c = assign_model(kmeans)\n",
    "kmeans_c\n",
    "\n",
    "\n",
    "# Notice last column 'Cluster' containes the cluster label for each data row."
   ]
  },
  {
   "cell_type": "markdown",
   "metadata": {},
   "source": [
    "# Analyze"
   ]
  },
  {
   "cell_type": "code",
   "execution_count": 19,
   "metadata": {},
   "outputs": [
    {
     "data": {
      "text/html": [],
      "text/plain": [
       "<IPython.core.display.HTML object>"
      ]
     },
     "metadata": {},
     "output_type": "display_data"
    },
    {
     "data": {
      "application/vnd.plotly.v1+json": {
       "config": {
        "plotlyServerURL": "https://plot.ly"
       },
       "data": [
        {
         "customdata": [
          [
           13.76
          ],
          [
           13.94
          ],
          [
           13.58
          ],
          [
           13.73
          ],
          [
           13.83
          ],
          [
           13.3
          ],
          [
           13.39
          ],
          [
           13.82
          ],
          [
           13.77
          ],
          [
           13.72
          ],
          [
           14.19
          ],
          [
           14.3
          ],
          [
           13.63
          ],
          [
           14.38
          ],
          [
           13.29
          ],
          [
           13.75
          ],
          [
           13.16
          ],
          [
           14.37
          ],
          [
           14.39
          ],
          [
           14.06
          ],
          [
           14.2
          ],
          [
           14.1
          ],
          [
           14.12
          ]
         ],
         "hovertemplate": "Cluster=Cluster 0<br>PCA1=%{x}<br>PCA2=%{y}<br>Feature=%{customdata[0]}<extra></extra>",
         "legendgroup": "Cluster 0",
         "marker": {
          "color": "#636efa",
          "opacity": 0.5,
          "symbol": "circle"
         },
         "mode": "markers",
         "name": "Cluster 0",
         "orientation": "v",
         "showlegend": true,
         "textposition": "top center",
         "type": "scatter",
         "x": [
          488.60128004586363,
          513.1877480212764,
          768.0929388536857,
          538.0264521010441,
          517.9289632614851,
          537.9191650219007,
          447.9255962215581,
          443.26641129499075,
          628.2860709844289,
          538.1820973203672,
          933.1183874983616,
          533.3796506359846,
          563.2455779959612,
          800.053393857324,
          523.072851399988,
          572.8344103908065,
          438.0611329148273,
          733.2401393545342,
          542.9715808652977,
          548.4018598394671,
          703.2311917383535,
          763.0797119418303,
          532.9432277354298
         ],
         "xaxis": "x",
         "y": [
          23.565325043789375,
          -0.8637592504955957,
          -7.379897368962477,
          -8.212738830440557,
          -14.997554870705656,
          -15.388346064835819,
          -14.797331237390592,
          3.260502052298263,
          4.041145393492631,
          -1.3567801039200051,
          -8.354478444329137,
          10.804802229233767,
          2.214828686781585,
          -12.118447186328394,
          -7.096625276690219,
          -21.005014331488127,
          -6.537309445782112,
          0.19272901553257635,
          -13.518966626524048,
          11.449432397470881,
          -0.3321586768606058,
          -8.334317228287738,
          -14.287633789518942
         ],
         "yaxis": "y"
        },
        {
         "customdata": [
          [
           12
          ],
          [
           12
          ],
          [
           12.08
          ],
          [
           11.79
          ],
          [
           12.37
          ],
          [
           11.65
          ],
          [
           12.16
          ],
          [
           12.81
          ],
          [
           12.7
          ],
          [
           12.67
          ],
          [
           11.66
          ],
          [
           12.88
          ],
          [
           11.84
          ],
          [
           13.03
          ],
          [
           11.84
          ],
          [
           13.05
          ],
          [
           12.69
          ],
          [
           12.29
          ],
          [
           14.13
          ],
          [
           12.43
          ],
          [
           12.42
          ],
          [
           11.82
          ],
          [
           11.03
          ],
          [
           12.08
          ],
          [
           11.41
          ],
          [
           12.52
          ],
          [
           11.46
          ],
          [
           11.56
          ],
          [
           12.22
          ],
          [
           12.72
          ],
          [
           11.62
          ],
          [
           12.25
          ],
          [
           12.42
          ],
          [
           11.82
          ],
          [
           12.34
          ],
          [
           12.6
          ],
          [
           13.49
          ],
          [
           13.05
          ],
          [
           12.29
          ],
          [
           11.87
          ],
          [
           12.29
          ],
          [
           12.07
          ],
          [
           12.42
          ],
          [
           13.86
          ],
          [
           12.37
          ],
          [
           12.79
          ],
          [
           12.77
          ],
          [
           12.2
          ],
          [
           13.73
          ],
          [
           12.85
          ],
          [
           12.36
          ],
          [
           13.84
          ],
          [
           13.11
          ],
          [
           12.37
          ],
          [
           13.5
          ],
          [
           13.08
          ],
          [
           13.88
          ],
          [
           13.62
          ],
          [
           13.52
          ],
          [
           12
          ],
          [
           12.64
          ],
          [
           13.11
          ],
          [
           12.17
          ],
          [
           12.37
          ],
          [
           12.77
          ],
          [
           12.53
          ]
         ],
         "hovertemplate": "Cluster=Cluster 1<br>PCA1=%{x}<br>PCA2=%{y}<br>Feature=%{customdata[0]}<extra></extra>",
         "legendgroup": "Cluster 1",
         "marker": {
          "color": "#EF553B",
          "opacity": 0.5,
          "symbol": "circle"
         },
         "mode": "markers",
         "name": "Cluster 1",
         "orientation": "v",
         "showlegend": true,
         "textposition": "top center",
         "type": "scatter",
         "x": [
          -469.05935030931414,
          -297.10441467546036,
          -267.1853332030074,
          -281.03036870916077,
          -405.061287803262,
          -185.10885737442598,
          -252.04639192505894,
          -186.9151119653985,
          -283.8422476451621,
          -296.8521517342952,
          -318.8763289026063,
          -216.78453997782648,
          -246.63359745150203,
          -355.0602525147033,
          -226.9532994199844,
          -232.13298838334583,
          -252.21388507613142,
          -457.0222149419162,
          -186.94319027347035,
          -395.0788364561759,
          -401.6959734818677,
          -252.10947205801006,
          -340.11500621468974,
          -362.12963311363734,
          -313.0609481633965,
          -422.04287362421354,
          -184.7364385251689,
          -281.5345691190614,
          -434.95778011197496,
          -259.1483677334645,
          -401.8512740902259,
          -237.2066970871141,
          -381.82677823404947,
          -332.08929638359956,
          -308.8823866125759,
          -185.0737134933208,
          -275.09602588002673,
          -367.08938004599764,
          -341.0409001676616,
          -367.1571746968421,
          -319.08827280451146,
          -369.10360096714834,
          -432.0097419226584,
          -337.104122488275,
          -227.03269045435238,
          -266.6287880495051,
          -277.0835782563838,
          -236.92120794224473,
          -227.07784455454214,
          -176.76509842488127,
          -227.06883575220309,
          -267.0317323049136,
          -321.57074093606076,
          -237.24141029504412,
          -246.44919923100218,
          -196.62480660535277,
          -332.1958399896638,
          -197.0043474939659,
          -226.92620968539003,
          -183.0979291820953,
          -296.82443688741404,
          -245.21252397696085,
          -391.7524864358887,
          -327.05912559596624,
          -375.1710923656498,
          -231.95153407131167
         ],
         "xaxis": "x",
         "y": [
          -5.458923976418058,
          -8.415031618750517,
          -14.053890084298319,
          -2.535860078876337,
          -4.451073675460606,
          -8.318582036181276,
          -5.212617612199955,
          1.7100573506376042,
          6.361860801261031,
          4.452803090948591,
          2.8107711345711723,
          8.130449560452966,
          16.558436653997724,
          -7.530701825240544,
          -1.7760587922636308,
          -10.530103258082969,
          -15.251570226306486,
          -3.6973379214608264,
          -0.2133308052457463,
          -6.6798318719289105,
          15.425890266458564,
          -9.275870168867124,
          -8.689734434838394,
          -9.259295399334665,
          -6.167094014812141,
          -4.244921939380584,
          10.516463159461573,
          24.508261176197706,
          -0.0595260258782719,
          -11.078816350411444,
          5.331400217827099,
          -15.561967931781053,
          9.189109748466201,
          -7.883728754949646,
          3.751656550934498,
          -8.520519015373925,
          -7.753152132704724,
          -7.188215889601419,
          -5.750565585049913,
          -11.196320224523614,
          -9.193078189103732,
          -8.175804912303697,
          -2.0329467335450966,
          -7.623855121559469,
          -7.994967947278502,
          17.15023200213065,
          -8.740331908365333,
          0.4630369985017147,
          -7.593379304435903,
          9.473190000652892,
          -7.618630298411216,
          -5.923089134154252,
          22.164340093329347,
          -17.531025543278805,
          27.81009538540277,
          16.873113920333804,
          -13.813298885594659,
          -4.228428691655031,
          1.388278366308457,
          -9.553544320825374,
          5.468475684593986,
          -17.49363928909446,
          11.171678259187585,
          -6.948130807959895,
          -13.185050244157418,
          0.5349074054661545
         ],
         "yaxis": "y"
        },
        {
         "customdata": [
          [
           12.6
          ],
          [
           11.45
          ],
          [
           12.51
          ],
          [
           12.96
          ],
          [
           13.4
          ],
          [
           13.71
          ],
          [
           13.58
          ],
          [
           12.82
          ],
          [
           13.45
          ],
          [
           13.4
          ],
          [
           13.27
          ],
          [
           13.78
          ],
          [
           14.16
          ],
          [
           13.36
          ],
          [
           12.7
          ],
          [
           12.04
          ],
          [
           13.48
          ],
          [
           14.34
          ],
          [
           13.17
          ],
          [
           12.58
          ],
          [
           13.23
          ],
          [
           13.49
          ],
          [
           12.84
          ],
          [
           13.32
          ],
          [
           12.87
          ],
          [
           13.16
          ],
          [
           12.25
          ],
          [
           12.93
          ],
          [
           12.86
          ],
          [
           13.69
          ],
          [
           12.25
          ],
          [
           11.64
          ],
          [
           11.61
          ],
          [
           13.24
          ],
          [
           13.64
          ],
          [
           14.06
          ],
          [
           12.93
          ],
          [
           13.5
          ],
          [
           13.05
          ],
          [
           14.22
          ],
          [
           13.56
          ],
          [
           11.76
          ],
          [
           12.33
          ],
          [
           13.67
          ],
          [
           12.37
          ],
          [
           13.34
          ],
          [
           13.24
          ],
          [
           12.21
          ],
          [
           12.51
          ],
          [
           12.33
          ],
          [
           13.17
          ],
          [
           12.08
          ],
          [
           12.08
          ],
          [
           12.37
          ],
          [
           11.81
          ],
          [
           12.08
          ],
          [
           12.72
          ]
         ],
         "hovertemplate": "Cluster=Cluster 2<br>PCA1=%{x}<br>PCA2=%{y}<br>Feature=%{customdata[0]}<extra></extra>",
         "legendgroup": "Cluster 2",
         "marker": {
          "color": "#00cc96",
          "opacity": 0.5,
          "symbol": "circle"
         },
         "mode": "markers",
         "name": "Cluster 2",
         "orientation": "v",
         "showlegend": true,
         "textposition": "top center",
         "type": "scatter",
         "x": [
          -51.98204686688439,
          -121.94524134873143,
          -97.13297359815374,
          -71.76839793205917,
          -116.67481805026259,
          -6.980210958685978,
          3.18276465276103,
          -62.08501112435858,
          -51.68950645964883,
          3.131604678239902,
          88.45807368607662,
          -132.04824836124644,
          -87.0274026322343,
          32.9042927479654,
          -146.7695296252183,
          -167.23764181827346,
          -127.06128965213838,
          -86.91399859070512,
          -22.02025679842397,
          -106.81661780183234,
          -71.89765870614293,
          -167.0762457653601,
          -156.8680445425801,
          -97.01938926861038,
          -122.12609208805132,
          83.11826261213079,
          108.31267730298639,
          -146.94648958042373,
          -116.47300035998225,
          -66.75543117683834,
          -27.097930750124164,
          -67.1807518457075,
          -66.99069577037471,
          -11.571428495749386,
          98.4031774771684,
          33.59359400292199,
          23.146437539222553,
          98.01988577249314,
          83.49874396170082,
          13.643002114414486,
          48.42964224738372,
          -139.81866316125559,
          -66.85012199756466,
          -116.97047258196933,
          -68.90576044479573,
          3.296155991189265,
          -66.81465538593083,
          -27.966120727271164,
          -75.15313775162677,
          3.7716896547038226,
          93.45624185453924,
          -117.29039200983733,
          -36.931614551080656,
          -87.08029256153804,
          -121.27917775307415,
          -122.43132640306239,
          -33.131339241837416
         ],
         "xaxis": "x",
         "y": [
          -4.812293095866978,
          -1.5888942815197207,
          -13.05828382681979,
          7.510637846751153,
          14.533370343854255,
          -4.541136570072913,
          5.391361496588702,
          -10.55401529126982,
          12.358084978843948,
          2.335190512230777,
          18.77628455837251,
          -7.255030311387006,
          -7.104595746547586,
          -11.305365637093324,
          8.920334112078041,
          -16.731185729830063,
          -8.291416840391262,
          0.07963577821257412,
          -6.2294392550849125,
          5.206123064219329,
          -0.3996563893691686,
          -8.756723110520293,
          4.1631624856986775,
          -5.906442573042557,
          -11.469925858362602,
          0.8068696934872274,
          10.351330444385697,
          -1.0967289648022198,
          24.266020061574086,
          8.470289901564387,
          -10.229996229460022,
          -14.524690214317328,
          -4.57145764344107,
          18.489994609520323,
          14.392659413231293,
          25.567956506674772,
          1.8174730977226172,
          -5.495846063361658,
          22.891621542083364,
          27.846832152389872,
          16.3219497878027,
          5.73555207139841,
          2.3198665393927316,
          -3.7263834186636107,
          -0.5586205284678426,
          10.09581160649009,
          4.384829923687216,
          51.63012516719088,
          -13.413827944936084,
          36.03109237404508,
          18.67081912703858,
          -19.578612474719577,
          -2.170415928644991,
          -10.226572688778816,
          36.4175148857172,
          -27.504038695313707,
          -13.18710497583279
         ],
         "yaxis": "y"
        },
        {
         "customdata": [
          [
           12.29
          ],
          [
           14.02
          ],
          [
           13.87
          ],
          [
           12.47
          ],
          [
           13.71
          ],
          [
           13.68
          ],
          [
           13.83
          ],
          [
           14.75
          ],
          [
           13.86
          ],
          [
           14.83
          ],
          [
           13.2
          ],
          [
           12.85
          ],
          [
           13.51
          ],
          [
           13.28
          ],
          [
           12.45
          ],
          [
           12.99
          ],
          [
           11.96
          ],
          [
           14.22
          ],
          [
           13.56
          ],
          [
           13.74
          ],
          [
           13.05
          ],
          [
           14.1
          ],
          [
           13.9
          ],
          [
           14.38
          ],
          [
           14.21
          ],
          [
           13.05
          ],
          [
           13.88
          ],
          [
           13.41
          ],
          [
           13.07
          ],
          [
           13.05
          ],
          [
           13.48
          ],
          [
           14.23
          ]
         ],
         "hovertemplate": "Cluster=Cluster 3<br>PCA1=%{x}<br>PCA2=%{y}<br>Feature=%{customdata[0]}<extra></extra>",
         "legendgroup": "Cluster 3",
         "marker": {
          "color": "#ab63fa",
          "opacity": 0.5,
          "symbol": "circle"
         },
         "mode": "markers",
         "name": "Cluster 3",
         "orientation": "v",
         "showlegend": true,
         "textposition": "top center",
         "type": "scatter",
         "x": [
          123.13013831010882,
          288.008247081548,
          168.21046760640897,
          191.18339677278374,
          288.0930302156645,
          243.15075089870336,
          383.3175910769824,
          402.92535828819035,
          298.0495531345102,
          298.0368628000685,
          303.0974196603739,
          267.98151253920827,
          348.2310069965195,
          133.28642354590414,
          132.99984125160776,
          238.71675654832384,
          139.094056640331,
          223.41710636218698,
          373.333291223019,
          313.39761267690665,
          402.9390171606932,
          313.1199153918132,
          238.11148507798623,
          318.1118484673278,
          333.25480583046954,
          138.2270098835678,
          348.095348180137,
          287.8840921729407,
          273.0444315212531,
          358.0185591756963,
          173.0799574252474,
          318.5629792849896
         ],
         "xaxis": "x",
         "y": [
          1.0598344998325275,
          -8.959731546642173,
          4.25531095334008,
          58.79376237622564,
          -3.963041738143885,
          -0.1439149061381336,
          8.477419814892297,
          -16.102635217695497,
          -7.101542936625496,
          -8.180157829108483,
          -5.364717679228906,
          -9.570704033524153,
          4.038080145613932,
          7.772729577608164,
          -4.867705449621999,
          35.251827352945895,
          -1.2074762041526408,
          14.216892399606433,
          9.664198624906447,
          12.608913506301437,
          -15.053302857311136,
          -2.3053631841694626,
          -3.0515209984083995,
          -3.48694493310577,
          5.3193311464886,
          4.730688361454238,
          -5.043426086465696,
          -14.885118554108653,
          -6.725074305748185,
          -8.157984119464256,
          -2.792921652639331,
          21.492130747540525
         ],
         "yaxis": "y"
        }
       ],
       "layout": {
        "height": 600,
        "legend": {
         "title": {
          "text": "Cluster"
         },
         "tracegroupgap": 0
        },
        "margin": {
         "t": 60
        },
        "plot_bgcolor": "rgb(240,240,240)",
        "template": {
         "data": {
          "bar": [
           {
            "error_x": {
             "color": "#2a3f5f"
            },
            "error_y": {
             "color": "#2a3f5f"
            },
            "marker": {
             "line": {
              "color": "#E5ECF6",
              "width": 0.5
             },
             "pattern": {
              "fillmode": "overlay",
              "size": 10,
              "solidity": 0.2
             }
            },
            "type": "bar"
           }
          ],
          "barpolar": [
           {
            "marker": {
             "line": {
              "color": "#E5ECF6",
              "width": 0.5
             },
             "pattern": {
              "fillmode": "overlay",
              "size": 10,
              "solidity": 0.2
             }
            },
            "type": "barpolar"
           }
          ],
          "carpet": [
           {
            "aaxis": {
             "endlinecolor": "#2a3f5f",
             "gridcolor": "white",
             "linecolor": "white",
             "minorgridcolor": "white",
             "startlinecolor": "#2a3f5f"
            },
            "baxis": {
             "endlinecolor": "#2a3f5f",
             "gridcolor": "white",
             "linecolor": "white",
             "minorgridcolor": "white",
             "startlinecolor": "#2a3f5f"
            },
            "type": "carpet"
           }
          ],
          "choropleth": [
           {
            "colorbar": {
             "outlinewidth": 0,
             "ticks": ""
            },
            "type": "choropleth"
           }
          ],
          "contour": [
           {
            "colorbar": {
             "outlinewidth": 0,
             "ticks": ""
            },
            "colorscale": [
             [
              0,
              "#0d0887"
             ],
             [
              0.1111111111111111,
              "#46039f"
             ],
             [
              0.2222222222222222,
              "#7201a8"
             ],
             [
              0.3333333333333333,
              "#9c179e"
             ],
             [
              0.4444444444444444,
              "#bd3786"
             ],
             [
              0.5555555555555556,
              "#d8576b"
             ],
             [
              0.6666666666666666,
              "#ed7953"
             ],
             [
              0.7777777777777778,
              "#fb9f3a"
             ],
             [
              0.8888888888888888,
              "#fdca26"
             ],
             [
              1,
              "#f0f921"
             ]
            ],
            "type": "contour"
           }
          ],
          "contourcarpet": [
           {
            "colorbar": {
             "outlinewidth": 0,
             "ticks": ""
            },
            "type": "contourcarpet"
           }
          ],
          "heatmap": [
           {
            "colorbar": {
             "outlinewidth": 0,
             "ticks": ""
            },
            "colorscale": [
             [
              0,
              "#0d0887"
             ],
             [
              0.1111111111111111,
              "#46039f"
             ],
             [
              0.2222222222222222,
              "#7201a8"
             ],
             [
              0.3333333333333333,
              "#9c179e"
             ],
             [
              0.4444444444444444,
              "#bd3786"
             ],
             [
              0.5555555555555556,
              "#d8576b"
             ],
             [
              0.6666666666666666,
              "#ed7953"
             ],
             [
              0.7777777777777778,
              "#fb9f3a"
             ],
             [
              0.8888888888888888,
              "#fdca26"
             ],
             [
              1,
              "#f0f921"
             ]
            ],
            "type": "heatmap"
           }
          ],
          "heatmapgl": [
           {
            "colorbar": {
             "outlinewidth": 0,
             "ticks": ""
            },
            "colorscale": [
             [
              0,
              "#0d0887"
             ],
             [
              0.1111111111111111,
              "#46039f"
             ],
             [
              0.2222222222222222,
              "#7201a8"
             ],
             [
              0.3333333333333333,
              "#9c179e"
             ],
             [
              0.4444444444444444,
              "#bd3786"
             ],
             [
              0.5555555555555556,
              "#d8576b"
             ],
             [
              0.6666666666666666,
              "#ed7953"
             ],
             [
              0.7777777777777778,
              "#fb9f3a"
             ],
             [
              0.8888888888888888,
              "#fdca26"
             ],
             [
              1,
              "#f0f921"
             ]
            ],
            "type": "heatmapgl"
           }
          ],
          "histogram": [
           {
            "marker": {
             "pattern": {
              "fillmode": "overlay",
              "size": 10,
              "solidity": 0.2
             }
            },
            "type": "histogram"
           }
          ],
          "histogram2d": [
           {
            "colorbar": {
             "outlinewidth": 0,
             "ticks": ""
            },
            "colorscale": [
             [
              0,
              "#0d0887"
             ],
             [
              0.1111111111111111,
              "#46039f"
             ],
             [
              0.2222222222222222,
              "#7201a8"
             ],
             [
              0.3333333333333333,
              "#9c179e"
             ],
             [
              0.4444444444444444,
              "#bd3786"
             ],
             [
              0.5555555555555556,
              "#d8576b"
             ],
             [
              0.6666666666666666,
              "#ed7953"
             ],
             [
              0.7777777777777778,
              "#fb9f3a"
             ],
             [
              0.8888888888888888,
              "#fdca26"
             ],
             [
              1,
              "#f0f921"
             ]
            ],
            "type": "histogram2d"
           }
          ],
          "histogram2dcontour": [
           {
            "colorbar": {
             "outlinewidth": 0,
             "ticks": ""
            },
            "colorscale": [
             [
              0,
              "#0d0887"
             ],
             [
              0.1111111111111111,
              "#46039f"
             ],
             [
              0.2222222222222222,
              "#7201a8"
             ],
             [
              0.3333333333333333,
              "#9c179e"
             ],
             [
              0.4444444444444444,
              "#bd3786"
             ],
             [
              0.5555555555555556,
              "#d8576b"
             ],
             [
              0.6666666666666666,
              "#ed7953"
             ],
             [
              0.7777777777777778,
              "#fb9f3a"
             ],
             [
              0.8888888888888888,
              "#fdca26"
             ],
             [
              1,
              "#f0f921"
             ]
            ],
            "type": "histogram2dcontour"
           }
          ],
          "mesh3d": [
           {
            "colorbar": {
             "outlinewidth": 0,
             "ticks": ""
            },
            "type": "mesh3d"
           }
          ],
          "parcoords": [
           {
            "line": {
             "colorbar": {
              "outlinewidth": 0,
              "ticks": ""
             }
            },
            "type": "parcoords"
           }
          ],
          "pie": [
           {
            "automargin": true,
            "type": "pie"
           }
          ],
          "scatter": [
           {
            "fillpattern": {
             "fillmode": "overlay",
             "size": 10,
             "solidity": 0.2
            },
            "type": "scatter"
           }
          ],
          "scatter3d": [
           {
            "line": {
             "colorbar": {
              "outlinewidth": 0,
              "ticks": ""
             }
            },
            "marker": {
             "colorbar": {
              "outlinewidth": 0,
              "ticks": ""
             }
            },
            "type": "scatter3d"
           }
          ],
          "scattercarpet": [
           {
            "marker": {
             "colorbar": {
              "outlinewidth": 0,
              "ticks": ""
             }
            },
            "type": "scattercarpet"
           }
          ],
          "scattergeo": [
           {
            "marker": {
             "colorbar": {
              "outlinewidth": 0,
              "ticks": ""
             }
            },
            "type": "scattergeo"
           }
          ],
          "scattergl": [
           {
            "marker": {
             "colorbar": {
              "outlinewidth": 0,
              "ticks": ""
             }
            },
            "type": "scattergl"
           }
          ],
          "scattermapbox": [
           {
            "marker": {
             "colorbar": {
              "outlinewidth": 0,
              "ticks": ""
             }
            },
            "type": "scattermapbox"
           }
          ],
          "scatterpolar": [
           {
            "marker": {
             "colorbar": {
              "outlinewidth": 0,
              "ticks": ""
             }
            },
            "type": "scatterpolar"
           }
          ],
          "scatterpolargl": [
           {
            "marker": {
             "colorbar": {
              "outlinewidth": 0,
              "ticks": ""
             }
            },
            "type": "scatterpolargl"
           }
          ],
          "scatterternary": [
           {
            "marker": {
             "colorbar": {
              "outlinewidth": 0,
              "ticks": ""
             }
            },
            "type": "scatterternary"
           }
          ],
          "surface": [
           {
            "colorbar": {
             "outlinewidth": 0,
             "ticks": ""
            },
            "colorscale": [
             [
              0,
              "#0d0887"
             ],
             [
              0.1111111111111111,
              "#46039f"
             ],
             [
              0.2222222222222222,
              "#7201a8"
             ],
             [
              0.3333333333333333,
              "#9c179e"
             ],
             [
              0.4444444444444444,
              "#bd3786"
             ],
             [
              0.5555555555555556,
              "#d8576b"
             ],
             [
              0.6666666666666666,
              "#ed7953"
             ],
             [
              0.7777777777777778,
              "#fb9f3a"
             ],
             [
              0.8888888888888888,
              "#fdca26"
             ],
             [
              1,
              "#f0f921"
             ]
            ],
            "type": "surface"
           }
          ],
          "table": [
           {
            "cells": {
             "fill": {
              "color": "#EBF0F8"
             },
             "line": {
              "color": "white"
             }
            },
            "header": {
             "fill": {
              "color": "#C8D4E3"
             },
             "line": {
              "color": "white"
             }
            },
            "type": "table"
           }
          ]
         },
         "layout": {
          "annotationdefaults": {
           "arrowcolor": "#2a3f5f",
           "arrowhead": 0,
           "arrowwidth": 1
          },
          "autotypenumbers": "strict",
          "coloraxis": {
           "colorbar": {
            "outlinewidth": 0,
            "ticks": ""
           }
          },
          "colorscale": {
           "diverging": [
            [
             0,
             "#8e0152"
            ],
            [
             0.1,
             "#c51b7d"
            ],
            [
             0.2,
             "#de77ae"
            ],
            [
             0.3,
             "#f1b6da"
            ],
            [
             0.4,
             "#fde0ef"
            ],
            [
             0.5,
             "#f7f7f7"
            ],
            [
             0.6,
             "#e6f5d0"
            ],
            [
             0.7,
             "#b8e186"
            ],
            [
             0.8,
             "#7fbc41"
            ],
            [
             0.9,
             "#4d9221"
            ],
            [
             1,
             "#276419"
            ]
           ],
           "sequential": [
            [
             0,
             "#0d0887"
            ],
            [
             0.1111111111111111,
             "#46039f"
            ],
            [
             0.2222222222222222,
             "#7201a8"
            ],
            [
             0.3333333333333333,
             "#9c179e"
            ],
            [
             0.4444444444444444,
             "#bd3786"
            ],
            [
             0.5555555555555556,
             "#d8576b"
            ],
            [
             0.6666666666666666,
             "#ed7953"
            ],
            [
             0.7777777777777778,
             "#fb9f3a"
            ],
            [
             0.8888888888888888,
             "#fdca26"
            ],
            [
             1,
             "#f0f921"
            ]
           ],
           "sequentialminus": [
            [
             0,
             "#0d0887"
            ],
            [
             0.1111111111111111,
             "#46039f"
            ],
            [
             0.2222222222222222,
             "#7201a8"
            ],
            [
             0.3333333333333333,
             "#9c179e"
            ],
            [
             0.4444444444444444,
             "#bd3786"
            ],
            [
             0.5555555555555556,
             "#d8576b"
            ],
            [
             0.6666666666666666,
             "#ed7953"
            ],
            [
             0.7777777777777778,
             "#fb9f3a"
            ],
            [
             0.8888888888888888,
             "#fdca26"
            ],
            [
             1,
             "#f0f921"
            ]
           ]
          },
          "colorway": [
           "#636efa",
           "#EF553B",
           "#00cc96",
           "#ab63fa",
           "#FFA15A",
           "#19d3f3",
           "#FF6692",
           "#B6E880",
           "#FF97FF",
           "#FECB52"
          ],
          "font": {
           "color": "#2a3f5f"
          },
          "geo": {
           "bgcolor": "white",
           "lakecolor": "white",
           "landcolor": "#E5ECF6",
           "showlakes": true,
           "showland": true,
           "subunitcolor": "white"
          },
          "hoverlabel": {
           "align": "left"
          },
          "hovermode": "closest",
          "mapbox": {
           "style": "light"
          },
          "paper_bgcolor": "white",
          "plot_bgcolor": "#E5ECF6",
          "polar": {
           "angularaxis": {
            "gridcolor": "white",
            "linecolor": "white",
            "ticks": ""
           },
           "bgcolor": "#E5ECF6",
           "radialaxis": {
            "gridcolor": "white",
            "linecolor": "white",
            "ticks": ""
           }
          },
          "scene": {
           "xaxis": {
            "backgroundcolor": "#E5ECF6",
            "gridcolor": "white",
            "gridwidth": 2,
            "linecolor": "white",
            "showbackground": true,
            "ticks": "",
            "zerolinecolor": "white"
           },
           "yaxis": {
            "backgroundcolor": "#E5ECF6",
            "gridcolor": "white",
            "gridwidth": 2,
            "linecolor": "white",
            "showbackground": true,
            "ticks": "",
            "zerolinecolor": "white"
           },
           "zaxis": {
            "backgroundcolor": "#E5ECF6",
            "gridcolor": "white",
            "gridwidth": 2,
            "linecolor": "white",
            "showbackground": true,
            "ticks": "",
            "zerolinecolor": "white"
           }
          },
          "shapedefaults": {
           "line": {
            "color": "#2a3f5f"
           }
          },
          "ternary": {
           "aaxis": {
            "gridcolor": "white",
            "linecolor": "white",
            "ticks": ""
           },
           "baxis": {
            "gridcolor": "white",
            "linecolor": "white",
            "ticks": ""
           },
           "bgcolor": "#E5ECF6",
           "caxis": {
            "gridcolor": "white",
            "linecolor": "white",
            "ticks": ""
           }
          },
          "title": {
           "x": 0.05
          },
          "xaxis": {
           "automargin": true,
           "gridcolor": "white",
           "linecolor": "white",
           "ticks": "",
           "title": {
            "standoff": 15
           },
           "zerolinecolor": "white",
           "zerolinewidth": 2
          },
          "yaxis": {
           "automargin": true,
           "gridcolor": "white",
           "linecolor": "white",
           "ticks": "",
           "title": {
            "standoff": 15
           },
           "zerolinecolor": "white",
           "zerolinewidth": 2
          }
         }
        },
        "title": {
         "text": "2D Cluster PCA Plot"
        },
        "xaxis": {
         "anchor": "y",
         "domain": [
          0,
          1
         ],
         "title": {
          "text": "PCA1"
         }
        },
        "yaxis": {
         "anchor": "x",
         "domain": [
          0,
          1
         ],
         "title": {
          "text": "PCA2"
         }
        }
       }
      }
     },
     "metadata": {},
     "output_type": "display_data"
    }
   ],
   "source": [
    "# PCA cluster plot\n",
    "plot_model(kmeans, plot = 'cluster')"
   ]
  },
  {
   "cell_type": "code",
   "execution_count": 20,
   "metadata": {},
   "outputs": [
    {
     "data": {
      "text/html": [],
      "text/plain": [
       "<IPython.core.display.HTML object>"
      ]
     },
     "metadata": {},
     "output_type": "display_data"
    },
    {
     "data": {
      "image/png": "[encoded data removed]",
      "text/plain": [
       "<Figure size 800x550 with 1 Axes>"
      ]
     },
     "metadata": {},
     "output_type": "display_data"
    }
   ],
   "source": [
    "# elbow\n",
    "plot_model(kmeans, plot = 'elbow')"
   ]
  },
  {
   "cell_type": "code",
   "execution_count": 21,
   "metadata": {},
   "outputs": [
    {
     "data": {
      "text/html": [],
      "text/plain": [
       "<IPython.core.display.HTML object>"
      ]
     },
     "metadata": {},
     "output_type": "display_data"
    },
    {
     "data": {
      "image/png": "[encoded data removed]",
      "text/plain": [
       "<Figure size 800x550 with 1 Axes>"
      ]
     },
     "metadata": {},
     "output_type": "display_data"
    }
   ],
   "source": [
    "# silhouette\n",
    "plot_model(kmeans, plot = 'silhouette')"
   ]
  },
  {
   "cell_type": "code",
   "execution_count": 22,
   "metadata": {},
   "outputs": [
    {
     "data": {
      "application/vnd.jupyter.widget-view+json": {
       "model_id": "376dc837b8ea4b80b2474a05eecfb7e6",
       "version_major": 2,
       "version_minor": 0
      },
      "text/plain": [
       "interactive(children=(ToggleButtons(description='Plot Type:', icons=('',), options=(('Pipeline Plot', 'pipelin…"
      ]
     },
     "metadata": {},
     "output_type": "display_data"
    },
    {
     "data": {
      "application/vnd.plotly.v1+json": {
       "config": {
        "plotlyServerURL": "https://plot.ly"
       },
       "data": [
        {
         "customdata": [
          [
           13.76
          ],
          [
           13.94
          ],
          [
           13.58
          ],
          [
           13.73
          ],
          [
           13.83
          ],
          [
           13.3
          ],
          [
           13.39
          ],
          [
           13.82
          ],
          [
           13.77
          ],
          [
           13.72
          ],
          [
           14.19
          ],
          [
           14.3
          ],
          [
           13.63
          ],
          [
           14.38
          ],
          [
           13.29
          ],
          [
           13.75
          ],
          [
           13.16
          ],
          [
           14.37
          ],
          [
           14.39
          ],
          [
           14.06
          ],
          [
           14.2
          ],
          [
           14.1
          ],
          [
           14.12
          ]
         ],
         "hovertemplate": "Cluster=Cluster 0<br>PCA1=%{x}<br>PCA2=%{y}<br>Feature=%{customdata[0]}<extra></extra>",
         "legendgroup": "Cluster 0",
         "marker": {
          "color": "#636efa",
          "opacity": 0.5,
          "symbol": "circle"
         },
         "mode": "markers",
         "name": "Cluster 0",
         "orientation": "v",
         "showlegend": true,
         "textposition": "top center",
         "type": "scatter",
         "x": [
          488.60128004586363,
          513.1877480212764,
          768.0929388536857,
          538.0264521010441,
          517.9289632614851,
          537.9191650219007,
          447.9255962215581,
          443.26641129499075,
          628.2860709844289,
          538.1820973203672,
          933.1183874983616,
          533.3796506359846,
          563.2455779959612,
          800.053393857324,
          523.072851399988,
          572.8344103908065,
          438.0611329148273,
          733.2401393545342,
          542.9715808652977,
          548.4018598394671,
          703.2311917383535,
          763.0797119418303,
          532.9432277354298
         ],
         "xaxis": "x",
         "y": [
          23.565325043789375,
          -0.8637592504955957,
          -7.379897368962477,
          -8.212738830440557,
          -14.997554870705656,
          -15.388346064835819,
          -14.797331237390592,
          3.260502052298263,
          4.041145393492631,
          -1.3567801039200051,
          -8.354478444329137,
          10.804802229233767,
          2.214828686781585,
          -12.118447186328394,
          -7.096625276690219,
          -21.005014331488127,
          -6.537309445782112,
          0.19272901553257635,
          -13.518966626524048,
          11.449432397470881,
          -0.3321586768606058,
          -8.334317228287738,
          -14.287633789518942
         ],
         "yaxis": "y"
        },
        {
         "customdata": [
          [
           12
          ],
          [
           12
          ],
          [
           12.08
          ],
          [
           11.79
          ],
          [
           12.37
          ],
          [
           11.65
          ],
          [
           12.16
          ],
          [
           12.81
          ],
          [
           12.7
          ],
          [
           12.67
          ],
          [
           11.66
          ],
          [
           12.88
          ],
          [
           11.84
          ],
          [
           13.03
          ],
          [
           11.84
          ],
          [
           13.05
          ],
          [
           12.69
          ],
          [
           12.29
          ],
          [
           14.13
          ],
          [
           12.43
          ],
          [
           12.42
          ],
          [
           11.82
          ],
          [
           11.03
          ],
          [
           12.08
          ],
          [
           11.41
          ],
          [
           12.52
          ],
          [
           11.46
          ],
          [
           11.56
          ],
          [
           12.22
          ],
          [
           12.72
          ],
          [
           11.62
          ],
          [
           12.25
          ],
          [
           12.42
          ],
          [
           11.82
          ],
          [
           12.34
          ],
          [
           12.6
          ],
          [
           13.49
          ],
          [
           13.05
          ],
          [
           12.29
          ],
          [
           11.87
          ],
          [
           12.29
          ],
          [
           12.07
          ],
          [
           12.42
          ],
          [
           13.86
          ],
          [
           12.37
          ],
          [
           12.79
          ],
          [
           12.77
          ],
          [
           12.2
          ],
          [
           13.73
          ],
          [
           12.85
          ],
          [
           12.36
          ],
          [
           13.84
          ],
          [
           13.11
          ],
          [
           12.37
          ],
          [
           13.5
          ],
          [
           13.08
          ],
          [
           13.88
          ],
          [
           13.62
          ],
          [
           13.52
          ],
          [
           12
          ],
          [
           12.64
          ],
          [
           13.11
          ],
          [
           12.17
          ],
          [
           12.37
          ],
          [
           12.77
          ],
          [
           12.53
          ]
         ],
         "hovertemplate": "Cluster=Cluster 1<br>PCA1=%{x}<br>PCA2=%{y}<br>Feature=%{customdata[0]}<extra></extra>",
         "legendgroup": "Cluster 1",
         "marker": {
          "color": "#EF553B",
          "opacity": 0.5,
          "symbol": "circle"
         },
         "mode": "markers",
         "name": "Cluster 1",
         "orientation": "v",
         "showlegend": true,
         "textposition": "top center",
         "type": "scatter",
         "x": [
          -469.05935030931414,
          -297.10441467546036,
          -267.1853332030074,
          -281.03036870916077,
          -405.061287803262,
          -185.10885737442598,
          -252.04639192505894,
          -186.9151119653985,
          -283.8422476451621,
          -296.8521517342952,
          -318.8763289026063,
          -216.78453997782648,
          -246.63359745150203,
          -355.0602525147033,
          -226.9532994199844,
          -232.13298838334583,
          -252.21388507613142,
          -457.0222149419162,
          -186.94319027347035,
          -395.0788364561759,
          -401.6959734818677,
          -252.10947205801006,
          -340.11500621468974,
          -362.12963311363734,
          -313.0609481633965,
          -422.04287362421354,
          -184.7364385251689,
          -281.5345691190614,
          -434.95778011197496,
          -259.1483677334645,
          -401.8512740902259,
          -237.2066970871141,
          -381.82677823404947,
          -332.08929638359956,
          -308.8823866125759,
          -185.0737134933208,
          -275.09602588002673,
          -367.08938004599764,
          -341.0409001676616,
          -367.1571746968421,
          -319.08827280451146,
          -369.10360096714834,
          -432.0097419226584,
          -337.104122488275,
          -227.03269045435238,
          -266.6287880495051,
          -277.0835782563838,
          -236.92120794224473,
          -227.07784455454214,
          -176.76509842488127,
          -227.06883575220309,
          -267.0317323049136,
          -321.57074093606076,
          -237.24141029504412,
          -246.44919923100218,
          -196.62480660535277,
          -332.1958399896638,
          -197.0043474939659,
          -226.92620968539003,
          -183.0979291820953,
          -296.82443688741404,
          -245.21252397696085,
          -391.7524864358887,
          -327.05912559596624,
          -375.1710923656498,
          -231.95153407131167
         ],
         "xaxis": "x",
         "y": [
          -5.458923976418058,
          -8.415031618750517,
          -14.053890084298319,
          -2.535860078876337,
          -4.451073675460606,
          -8.318582036181276,
          -5.212617612199955,
          1.7100573506376042,
          6.361860801261031,
          4.452803090948591,
          2.8107711345711723,
          8.130449560452966,
          16.558436653997724,
          -7.530701825240544,
          -1.7760587922636308,
          -10.530103258082969,
          -15.251570226306486,
          -3.6973379214608264,
          -0.2133308052457463,
          -6.6798318719289105,
          15.425890266458564,
          -9.275870168867124,
          -8.689734434838394,
          -9.259295399334665,
          -6.167094014812141,
          -4.244921939380584,
          10.516463159461573,
          24.508261176197706,
          -0.0595260258782719,
          -11.078816350411444,
          5.331400217827099,
          -15.561967931781053,
          9.189109748466201,
          -7.883728754949646,
          3.751656550934498,
          -8.520519015373925,
          -7.753152132704724,
          -7.188215889601419,
          -5.750565585049913,
          -11.196320224523614,
          -9.193078189103732,
          -8.175804912303697,
          -2.0329467335450966,
          -7.623855121559469,
          -7.994967947278502,
          17.15023200213065,
          -8.740331908365333,
          0.4630369985017147,
          -7.593379304435903,
          9.473190000652892,
          -7.618630298411216,
          -5.923089134154252,
          22.164340093329347,
          -17.531025543278805,
          27.81009538540277,
          16.873113920333804,
          -13.813298885594659,
          -4.228428691655031,
          1.388278366308457,
          -9.553544320825374,
          5.468475684593986,
          -17.49363928909446,
          11.171678259187585,
          -6.948130807959895,
          -13.185050244157418,
          0.5349074054661545
         ],
         "yaxis": "y"
        },
        {
         "customdata": [
          [
           12.6
          ],
          [
           11.45
          ],
          [
           12.51
          ],
          [
           12.96
          ],
          [
           13.4
          ],
          [
           13.71
          ],
          [
           13.58
          ],
          [
           12.82
          ],
          [
           13.45
          ],
          [
           13.4
          ],
          [
           13.27
          ],
          [
           13.78
          ],
          [
           14.16
          ],
          [
           13.36
          ],
          [
           12.7
          ],
          [
           12.04
          ],
          [
           13.48
          ],
          [
           14.34
          ],
          [
           13.17
          ],
          [
           12.58
          ],
          [
           13.23
          ],
          [
           13.49
          ],
          [
           12.84
          ],
          [
           13.32
          ],
          [
           12.87
          ],
          [
           13.16
          ],
          [
           12.25
          ],
          [
           12.93
          ],
          [
           12.86
          ],
          [
           13.69
          ],
          [
           12.25
          ],
          [
           11.64
          ],
          [
           11.61
          ],
          [
           13.24
          ],
          [
           13.64
          ],
          [
           14.06
          ],
          [
           12.93
          ],
          [
           13.5
          ],
          [
           13.05
          ],
          [
           14.22
          ],
          [
           13.56
          ],
          [
           11.76
          ],
          [
           12.33
          ],
          [
           13.67
          ],
          [
           12.37
          ],
          [
           13.34
          ],
          [
           13.24
          ],
          [
           12.21
          ],
          [
           12.51
          ],
          [
           12.33
          ],
          [
           13.17
          ],
          [
           12.08
          ],
          [
           12.08
          ],
          [
           12.37
          ],
          [
           11.81
          ],
          [
           12.08
          ],
          [
           12.72
          ]
         ],
         "hovertemplate": "Cluster=Cluster 2<br>PCA1=%{x}<br>PCA2=%{y}<br>Feature=%{customdata[0]}<extra></extra>",
         "legendgroup": "Cluster 2",
         "marker": {
          "color": "#00cc96",
          "opacity": 0.5,
          "symbol": "circle"
         },
         "mode": "markers",
         "name": "Cluster 2",
         "orientation": "v",
         "showlegend": true,
         "textposition": "top center",
         "type": "scatter",
         "x": [
          -51.98204686688439,
          -121.94524134873143,
          -97.13297359815374,
          -71.76839793205917,
          -116.67481805026259,
          -6.980210958685978,
          3.18276465276103,
          -62.08501112435858,
          -51.68950645964883,
          3.131604678239902,
          88.45807368607662,
          -132.04824836124644,
          -87.0274026322343,
          32.9042927479654,
          -146.7695296252183,
          -167.23764181827346,
          -127.06128965213838,
          -86.91399859070512,
          -22.02025679842397,
          -106.81661780183234,
          -71.89765870614293,
          -167.0762457653601,
          -156.8680445425801,
          -97.01938926861038,
          -122.12609208805132,
          83.11826261213079,
          108.31267730298639,
          -146.94648958042373,
          -116.47300035998225,
          -66.75543117683834,
          -27.097930750124164,
          -67.1807518457075,
          -66.99069577037471,
          -11.571428495749386,
          98.4031774771684,
          33.59359400292199,
          23.146437539222553,
          98.01988577249314,
          83.49874396170082,
          13.643002114414486,
          48.42964224738372,
          -139.81866316125559,
          -66.85012199756466,
          -116.97047258196933,
          -68.90576044479573,
          3.296155991189265,
          -66.81465538593083,
          -27.966120727271164,
          -75.15313775162677,
          3.7716896547038226,
          93.45624185453924,
          -117.29039200983733,
          -36.931614551080656,
          -87.08029256153804,
          -121.27917775307415,
          -122.43132640306239,
          -33.131339241837416
         ],
         "xaxis": "x",
         "y": [
          -4.812293095866978,
          -1.5888942815197207,
          -13.05828382681979,
          7.510637846751153,
          14.533370343854255,
          -4.541136570072913,
          5.391361496588702,
          -10.55401529126982,
          12.358084978843948,
          2.335190512230777,
          18.77628455837251,
          -7.255030311387006,
          -7.104595746547586,
          -11.305365637093324,
          8.920334112078041,
          -16.731185729830063,
          -8.291416840391262,
          0.07963577821257412,
          -6.2294392550849125,
          5.206123064219329,
          -0.3996563893691686,
          -8.756723110520293,
          4.1631624856986775,
          -5.906442573042557,
          -11.469925858362602,
          0.8068696934872274,
          10.351330444385697,
          -1.0967289648022198,
          24.266020061574086,
          8.470289901564387,
          -10.229996229460022,
          -14.524690214317328,
          -4.57145764344107,
          18.489994609520323,
          14.392659413231293,
          25.567956506674772,
          1.8174730977226172,
          -5.495846063361658,
          22.891621542083364,
          27.846832152389872,
          16.3219497878027,
          5.73555207139841,
          2.3198665393927316,
          -3.7263834186636107,
          -0.5586205284678426,
          10.09581160649009,
          4.384829923687216,
          51.63012516719088,
          -13.413827944936084,
          36.03109237404508,
          18.67081912703858,
          -19.578612474719577,
          -2.170415928644991,
          -10.226572688778816,
          36.4175148857172,
          -27.504038695313707,
          -13.18710497583279
         ],
         "yaxis": "y"
        },
        {
         "customdata": [
          [
           12.29
          ],
          [
           14.02
          ],
          [
           13.87
          ],
          [
           12.47
          ],
          [
           13.71
          ],
          [
           13.68
          ],
          [
           13.83
          ],
          [
           14.75
          ],
          [
           13.86
          ],
          [
           14.83
          ],
          [
           13.2
          ],
          [
           12.85
          ],
          [
           13.51
          ],
          [
           13.28
          ],
          [
           12.45
          ],
          [
           12.99
          ],
          [
           11.96
          ],
          [
           14.22
          ],
          [
           13.56
          ],
          [
           13.74
          ],
          [
           13.05
          ],
          [
           14.1
          ],
          [
           13.9
          ],
          [
           14.38
          ],
          [
           14.21
          ],
          [
           13.05
          ],
          [
           13.88
          ],
          [
           13.41
          ],
          [
           13.07
          ],
          [
           13.05
          ],
          [
           13.48
          ],
          [
           14.23
          ]
         ],
         "hovertemplate": "Cluster=Cluster 3<br>PCA1=%{x}<br>PCA2=%{y}<br>Feature=%{customdata[0]}<extra></extra>",
         "legendgroup": "Cluster 3",
         "marker": {
          "color": "#ab63fa",
          "opacity": 0.5,
          "symbol": "circle"
         },
         "mode": "markers",
         "name": "Cluster 3",
         "orientation": "v",
         "showlegend": true,
         "textposition": "top center",
         "type": "scatter",
         "x": [
          123.13013831010882,
          288.008247081548,
          168.21046760640897,
          191.18339677278374,
          288.0930302156645,
          243.15075089870336,
          383.3175910769824,
          402.92535828819035,
          298.0495531345102,
          298.0368628000685,
          303.0974196603739,
          267.98151253920827,
          348.2310069965195,
          133.28642354590414,
          132.99984125160776,
          238.71675654832384,
          139.094056640331,
          223.41710636218698,
          373.333291223019,
          313.39761267690665,
          402.9390171606932,
          313.1199153918132,
          238.11148507798623,
          318.1118484673278,
          333.25480583046954,
          138.2270098835678,
          348.095348180137,
          287.8840921729407,
          273.0444315212531,
          358.0185591756963,
          173.0799574252474,
          318.5629792849896
         ],
         "xaxis": "x",
         "y": [
          1.0598344998325275,
          -8.959731546642173,
          4.25531095334008,
          58.79376237622564,
          -3.963041738143885,
          -0.1439149061381336,
          8.477419814892297,
          -16.102635217695497,
          -7.101542936625496,
          -8.180157829108483,
          -5.364717679228906,
          -9.570704033524153,
          4.038080145613932,
          7.772729577608164,
          -4.867705449621999,
          35.251827352945895,
          -1.2074762041526408,
          14.216892399606433,
          9.664198624906447,
          12.608913506301437,
          -15.053302857311136,
          -2.3053631841694626,
          -3.0515209984083995,
          -3.48694493310577,
          5.3193311464886,
          4.730688361454238,
          -5.043426086465696,
          -14.885118554108653,
          -6.725074305748185,
          -8.157984119464256,
          -2.792921652639331,
          21.492130747540525
         ],
         "yaxis": "y"
        }
       ],
       "layout": {
        "height": 600,
        "legend": {
         "title": {
          "text": "Cluster"
         },
         "tracegroupgap": 0
        },
        "margin": {
         "t": 60
        },
        "plot_bgcolor": "rgb(240,240,240)",
        "template": {
         "data": {
          "bar": [
           {
            "error_x": {
             "color": "#2a3f5f"
            },
            "error_y": {
             "color": "#2a3f5f"
            },
            "marker": {
             "line": {
              "color": "#E5ECF6",
              "width": 0.5
             },
             "pattern": {
              "fillmode": "overlay",
              "size": 10,
              "solidity": 0.2
             }
            },
            "type": "bar"
           }
          ],
          "barpolar": [
           {
            "marker": {
             "line": {
              "color": "#E5ECF6",
              "width": 0.5
             },
             "pattern": {
              "fillmode": "overlay",
              "size": 10,
              "solidity": 0.2
             }
            },
            "type": "barpolar"
           }
          ],
          "carpet": [
           {
            "aaxis": {
             "endlinecolor": "#2a3f5f",
             "gridcolor": "white",
             "linecolor": "white",
             "minorgridcolor": "white",
             "startlinecolor": "#2a3f5f"
            },
            "baxis": {
             "endlinecolor": "#2a3f5f",
             "gridcolor": "white",
             "linecolor": "white",
             "minorgridcolor": "white",
             "startlinecolor": "#2a3f5f"
            },
            "type": "carpet"
           }
          ],
          "choropleth": [
           {
            "colorbar": {
             "outlinewidth": 0,
             "ticks": ""
            },
            "type": "choropleth"
           }
          ],
          "contour": [
           {
            "colorbar": {
             "outlinewidth": 0,
             "ticks": ""
            },
            "colorscale": [
             [
              0,
              "#0d0887"
             ],
             [
              0.1111111111111111,
              "#46039f"
             ],
             [
              0.2222222222222222,
              "#7201a8"
             ],
             [
              0.3333333333333333,
              "#9c179e"
             ],
             [
              0.4444444444444444,
              "#bd3786"
             ],
             [
              0.5555555555555556,
              "#d8576b"
             ],
             [
              0.6666666666666666,
              "#ed7953"
             ],
             [
              0.7777777777777778,
              "#fb9f3a"
             ],
             [
              0.8888888888888888,
              "#fdca26"
             ],
             [
              1,
              "#f0f921"
             ]
            ],
            "type": "contour"
           }
          ],
          "contourcarpet": [
           {
            "colorbar": {
             "outlinewidth": 0,
             "ticks": ""
            },
            "type": "contourcarpet"
           }
          ],
          "heatmap": [
           {
            "colorbar": {
             "outlinewidth": 0,
             "ticks": ""
            },
            "colorscale": [
             [
              0,
              "#0d0887"
             ],
             [
              0.1111111111111111,
              "#46039f"
             ],
             [
              0.2222222222222222,
              "#7201a8"
             ],
             [
              0.3333333333333333,
              "#9c179e"
             ],
             [
              0.4444444444444444,
              "#bd3786"
             ],
             [
              0.5555555555555556,
              "#d8576b"
             ],
             [
              0.6666666666666666,
              "#ed7953"
             ],
             [
              0.7777777777777778,
              "#fb9f3a"
             ],
             [
              0.8888888888888888,
              "#fdca26"
             ],
             [
              1,
              "#f0f921"
             ]
            ],
            "type": "heatmap"
           }
          ],
          "heatmapgl": [
           {
            "colorbar": {
             "outlinewidth": 0,
             "ticks": ""
            },
            "colorscale": [
             [
              0,
              "#0d0887"
             ],
             [
              0.1111111111111111,
              "#46039f"
             ],
             [
              0.2222222222222222,
              "#7201a8"
             ],
             [
              0.3333333333333333,
              "#9c179e"
             ],
             [
              0.4444444444444444,
              "#bd3786"
             ],
             [
              0.5555555555555556,
              "#d8576b"
             ],
             [
              0.6666666666666666,
              "#ed7953"
             ],
             [
              0.7777777777777778,
              "#fb9f3a"
             ],
             [
              0.8888888888888888,
              "#fdca26"
             ],
             [
              1,
              "#f0f921"
             ]
            ],
            "type": "heatmapgl"
           }
          ],
          "histogram": [
           {
            "marker": {
             "pattern": {
              "fillmode": "overlay",
              "size": 10,
              "solidity": 0.2
             }
            },
            "type": "histogram"
           }
          ],
          "histogram2d": [
           {
            "colorbar": {
             "outlinewidth": 0,
             "ticks": ""
            },
            "colorscale": [
             [
              0,
              "#0d0887"
             ],
             [
              0.1111111111111111,
              "#46039f"
             ],
             [
              0.2222222222222222,
              "#7201a8"
             ],
             [
              0.3333333333333333,
              "#9c179e"
             ],
             [
              0.4444444444444444,
              "#bd3786"
             ],
             [
              0.5555555555555556,
              "#d8576b"
             ],
             [
              0.6666666666666666,
              "#ed7953"
             ],
             [
              0.7777777777777778,
              "#fb9f3a"
             ],
             [
              0.8888888888888888,
              "#fdca26"
             ],
             [
              1,
              "#f0f921"
             ]
            ],
            "type": "histogram2d"
           }
          ],
          "histogram2dcontour": [
           {
            "colorbar": {
             "outlinewidth": 0,
             "ticks": ""
            },
            "colorscale": [
             [
              0,
              "#0d0887"
             ],
             [
              0.1111111111111111,
              "#46039f"
             ],
             [
              0.2222222222222222,
              "#7201a8"
             ],
             [
              0.3333333333333333,
              "#9c179e"
             ],
             [
              0.4444444444444444,
              "#bd3786"
             ],
             [
              0.5555555555555556,
              "#d8576b"
             ],
             [
              0.6666666666666666,
              "#ed7953"
             ],
             [
              0.7777777777777778,
              "#fb9f3a"
             ],
             [
              0.8888888888888888,
              "#fdca26"
             ],
             [
              1,
              "#f0f921"
             ]
            ],
            "type": "histogram2dcontour"
           }
          ],
          "mesh3d": [
           {
            "colorbar": {
             "outlinewidth": 0,
             "ticks": ""
            },
            "type": "mesh3d"
           }
          ],
          "parcoords": [
           {
            "line": {
             "colorbar": {
              "outlinewidth": 0,
              "ticks": ""
             }
            },
            "type": "parcoords"
           }
          ],
          "pie": [
           {
            "automargin": true,
            "type": "pie"
           }
          ],
          "scatter": [
           {
            "fillpattern": {
             "fillmode": "overlay",
             "size": 10,
             "solidity": 0.2
            },
            "type": "scatter"
           }
          ],
          "scatter3d": [
           {
            "line": {
             "colorbar": {
              "outlinewidth": 0,
              "ticks": ""
             }
            },
            "marker": {
             "colorbar": {
              "outlinewidth": 0,
              "ticks": ""
             }
            },
            "type": "scatter3d"
           }
          ],
          "scattercarpet": [
           {
            "marker": {
             "colorbar": {
              "outlinewidth": 0,
              "ticks": ""
             }
            },
            "type": "scattercarpet"
           }
          ],
          "scattergeo": [
           {
            "marker": {
             "colorbar": {
              "outlinewidth": 0,
              "ticks": ""
             }
            },
            "type": "scattergeo"
           }
          ],
          "scattergl": [
           {
            "marker": {
             "colorbar": {
              "outlinewidth": 0,
              "ticks": ""
             }
            },
            "type": "scattergl"
           }
          ],
          "scattermapbox": [
           {
            "marker": {
             "colorbar": {
              "outlinewidth": 0,
              "ticks": ""
             }
            },
            "type": "scattermapbox"
           }
          ],
          "scatterpolar": [
           {
            "marker": {
             "colorbar": {
              "outlinewidth": 0,
              "ticks": ""
             }
            },
            "type": "scatterpolar"
           }
          ],
          "scatterpolargl": [
           {
            "marker": {
             "colorbar": {
              "outlinewidth": 0,
              "ticks": ""
             }
            },
            "type": "scatterpolargl"
           }
          ],
          "scatterternary": [
           {
            "marker": {
             "colorbar": {
              "outlinewidth": 0,
              "ticks": ""
             }
            },
            "type": "scatterternary"
           }
          ],
          "surface": [
           {
            "colorbar": {
             "outlinewidth": 0,
             "ticks": ""
            },
            "colorscale": [
             [
              0,
              "#0d0887"
             ],
             [
              0.1111111111111111,
              "#46039f"
             ],
             [
              0.2222222222222222,
              "#7201a8"
             ],
             [
              0.3333333333333333,
              "#9c179e"
             ],
             [
              0.4444444444444444,
              "#bd3786"
             ],
             [
              0.5555555555555556,
              "#d8576b"
             ],
             [
              0.6666666666666666,
              "#ed7953"
             ],
             [
              0.7777777777777778,
              "#fb9f3a"
             ],
             [
              0.8888888888888888,
              "#fdca26"
             ],
             [
              1,
              "#f0f921"
             ]
            ],
            "type": "surface"
           }
          ],
          "table": [
           {
            "cells": {
             "fill": {
              "color": "#EBF0F8"
             },
             "line": {
              "color": "white"
             }
            },
            "header": {
             "fill": {
              "color": "#C8D4E3"
             },
             "line": {
              "color": "white"
             }
            },
            "type": "table"
           }
          ]
         },
         "layout": {
          "annotationdefaults": {
           "arrowcolor": "#2a3f5f",
           "arrowhead": 0,
           "arrowwidth": 1
          },
          "autotypenumbers": "strict",
          "coloraxis": {
           "colorbar": {
            "outlinewidth": 0,
            "ticks": ""
           }
          },
          "colorscale": {
           "diverging": [
            [
             0,
             "#8e0152"
            ],
            [
             0.1,
             "#c51b7d"
            ],
            [
             0.2,
             "#de77ae"
            ],
            [
             0.3,
             "#f1b6da"
            ],
            [
             0.4,
             "#fde0ef"
            ],
            [
             0.5,
             "#f7f7f7"
            ],
            [
             0.6,
             "#e6f5d0"
            ],
            [
             0.7,
             "#b8e186"
            ],
            [
             0.8,
             "#7fbc41"
            ],
            [
             0.9,
             "#4d9221"
            ],
            [
             1,
             "#276419"
            ]
           ],
           "sequential": [
            [
             0,
             "#0d0887"
            ],
            [
             0.1111111111111111,
             "#46039f"
            ],
            [
             0.2222222222222222,
             "#7201a8"
            ],
            [
             0.3333333333333333,
             "#9c179e"
            ],
            [
             0.4444444444444444,
             "#bd3786"
            ],
            [
             0.5555555555555556,
             "#d8576b"
            ],
            [
             0.6666666666666666,
             "#ed7953"
            ],
            [
             0.7777777777777778,
             "#fb9f3a"
            ],
            [
             0.8888888888888888,
             "#fdca26"
            ],
            [
             1,
             "#f0f921"
            ]
           ],
           "sequentialminus": [
            [
             0,
             "#0d0887"
            ],
            [
             0.1111111111111111,
             "#46039f"
            ],
            [
             0.2222222222222222,
             "#7201a8"
            ],
            [
             0.3333333333333333,
             "#9c179e"
            ],
            [
             0.4444444444444444,
             "#bd3786"
            ],
            [
             0.5555555555555556,
             "#d8576b"
            ],
            [
             0.6666666666666666,
             "#ed7953"
            ],
            [
             0.7777777777777778,
             "#fb9f3a"
            ],
            [
             0.8888888888888888,
             "#fdca26"
            ],
            [
             1,
             "#f0f921"
            ]
           ]
          },
          "colorway": [
           "#636efa",
           "#EF553B",
           "#00cc96",
           "#ab63fa",
           "#FFA15A",
           "#19d3f3",
           "#FF6692",
           "#B6E880",
           "#FF97FF",
           "#FECB52"
          ],
          "font": {
           "color": "#2a3f5f"
          },
          "geo": {
           "bgcolor": "white",
           "lakecolor": "white",
           "landcolor": "#E5ECF6",
           "showlakes": true,
           "showland": true,
           "subunitcolor": "white"
          },
          "hoverlabel": {
           "align": "left"
          },
          "hovermode": "closest",
          "mapbox": {
           "style": "light"
          },
          "paper_bgcolor": "white",
          "plot_bgcolor": "#E5ECF6",
          "polar": {
           "angularaxis": {
            "gridcolor": "white",
            "linecolor": "white",
            "ticks": ""
           },
           "bgcolor": "#E5ECF6",
           "radialaxis": {
            "gridcolor": "white",
            "linecolor": "white",
            "ticks": ""
           }
          },
          "scene": {
           "xaxis": {
            "backgroundcolor": "#E5ECF6",
            "gridcolor": "white",
            "gridwidth": 2,
            "linecolor": "white",
            "showbackground": true,
            "ticks": "",
            "zerolinecolor": "white"
           },
           "yaxis": {
            "backgroundcolor": "#E5ECF6",
            "gridcolor": "white",
            "gridwidth": 2,
            "linecolor": "white",
            "showbackground": true,
            "ticks": "",
            "zerolinecolor": "white"
           },
           "zaxis": {
            "backgroundcolor": "#E5ECF6",
            "gridcolor": "white",
            "gridwidth": 2,
            "linecolor": "white",
            "showbackground": true,
            "ticks": "",
            "zerolinecolor": "white"
           }
          },
          "shapedefaults": {
           "line": {
            "color": "#2a3f5f"
           }
          },
          "ternary": {
           "aaxis": {
            "gridcolor": "white",
            "linecolor": "white",
            "ticks": ""
           },
           "baxis": {
            "gridcolor": "white",
            "linecolor": "white",
            "ticks": ""
           },
           "bgcolor": "#E5ECF6",
           "caxis": {
            "gridcolor": "white",
            "linecolor": "white",
            "ticks": ""
           }
          },
          "title": {
           "x": 0.05
          },
          "xaxis": {
           "automargin": true,
           "gridcolor": "white",
           "linecolor": "white",
           "ticks": "",
           "title": {
            "standoff": 15
           },
           "zerolinecolor": "white",
           "zerolinewidth": 2
          },
          "yaxis": {
           "automargin": true,
           "gridcolor": "white",
           "linecolor": "white",
           "ticks": "",
           "title": {
            "standoff": 15
           },
           "zerolinecolor": "white",
           "zerolinewidth": 2
          }
         }
        },
        "title": {
         "text": "2D Cluster PCA Plot"
        },
        "xaxis": {
         "anchor": "y",
         "domain": [
          0,
          1
         ],
         "title": {
          "text": "PCA1"
         }
        },
        "yaxis": {
         "anchor": "x",
         "domain": [
          0,
          1
         ],
         "title": {
          "text": "PCA2"
         }
        }
       }
      }
     },
     "metadata": {},
     "output_type": "display_data"
    },
    {
     "data": {
      "application/vnd.plotly.v1+json": {
       "config": {
        "plotlyServerURL": "https://plot.ly"
       },
       "data": [
        {
         "customdata": [
          [
           13.76
          ],
          [
           13.94
          ],
          [
           13.58
          ],
          [
           13.73
          ],
          [
           13.83
          ],
          [
           13.3
          ],
          [
           13.39
          ],
          [
           13.82
          ],
          [
           13.77
          ],
          [
           13.72
          ],
          [
           14.19
          ],
          [
           14.3
          ],
          [
           13.63
          ],
          [
           14.38
          ],
          [
           13.29
          ],
          [
           13.75
          ],
          [
           13.16
          ],
          [
           14.37
          ],
          [
           14.39
          ],
          [
           14.06
          ],
          [
           14.2
          ],
          [
           14.1
          ],
          [
           14.12
          ]
         ],
         "hovertemplate": "Cluster=Cluster 0<br>0=%{x}<br>1=%{y}<br>2=%{z}<br>Feature=%{customdata[0]}<extra></extra>",
         "legendgroup": "Cluster 0",
         "marker": {
          "color": "#636efa",
          "opacity": 0.7,
          "symbol": "circle"
         },
         "mode": "markers",
         "name": "Cluster 0",
         "scene": "scene",
         "showlegend": true,
         "type": "scatter3d",
         "x": [
          10.769064,
          11.017529,
          12.4740925,
          11.313172,
          11.045877,
          11.275014,
          10.306172,
          10.24447,
          11.948547,
          11.274945,
          12.651572,
          11.243044,
          11.557566,
          12.532163,
          11.092837,
          11.626498,
          10.174699,
          12.384492,
          11.34899,
          11.4111395,
          12.28252,
          12.463176,
          11.202159
         ],
         "y": [
          -0.5247664,
          -0.5848898,
          0.2719529,
          -0.60713613,
          -0.34930584,
          -0.40453824,
          -0.41461253,
          -0.4208,
          -0.20276159,
          -0.3755194,
          0.4647536,
          -0.47796643,
          -0.48595172,
          0.3277384,
          -0.2369666,
          -0.41398337,
          -0.41415852,
          0.18729372,
          -0.49183366,
          -0.5022623,
          0.09135116,
          0.26151115,
          -0.30018345
         ],
         "z": [
          0.13355258,
          0.22976784,
          0.19631396,
          0.32330278,
          0.4289791,
          0.48588815,
          0.22968473,
          0.21392192,
          0.24272059,
          0.047327995,
          0.1728833,
          0.020878103,
          0.19861801,
          0.18985532,
          0.19549373,
          0.37177357,
          0.21560977,
          0.20552254,
          0.4499562,
          0.062947825,
          0.21680614,
          0.1976546,
          0.45160812
         ]
        },
        {
         "customdata": [
          [
           12
          ],
          [
           12
          ],
          [
           12.08
          ],
          [
           11.79
          ],
          [
           12.37
          ],
          [
           11.65
          ],
          [
           12.16
          ],
          [
           12.81
          ],
          [
           12.7
          ],
          [
           12.67
          ],
          [
           11.66
          ],
          [
           12.88
          ],
          [
           11.84
          ],
          [
           13.03
          ],
          [
           11.84
          ],
          [
           13.05
          ],
          [
           12.69
          ],
          [
           12.29
          ],
          [
           14.13
          ],
          [
           12.43
          ],
          [
           12.42
          ],
          [
           11.82
          ],
          [
           11.03
          ],
          [
           12.08
          ],
          [
           11.41
          ],
          [
           12.52
          ],
          [
           11.46
          ],
          [
           11.56
          ],
          [
           12.22
          ],
          [
           12.72
          ],
          [
           11.62
          ],
          [
           12.25
          ],
          [
           12.42
          ],
          [
           11.82
          ],
          [
           12.34
          ],
          [
           12.6
          ],
          [
           13.49
          ],
          [
           13.05
          ],
          [
           12.29
          ],
          [
           11.87
          ],
          [
           12.29
          ],
          [
           12.07
          ],
          [
           12.42
          ],
          [
           13.86
          ],
          [
           12.37
          ],
          [
           12.79
          ],
          [
           12.77
          ],
          [
           12.2
          ],
          [
           13.73
          ],
          [
           12.85
          ],
          [
           12.36
          ],
          [
           13.84
          ],
          [
           13.11
          ],
          [
           12.37
          ],
          [
           13.5
          ],
          [
           13.08
          ],
          [
           13.88
          ],
          [
           13.62
          ],
          [
           13.52
          ],
          [
           12
          ],
          [
           12.64
          ],
          [
           13.11
          ],
          [
           12.17
          ],
          [
           12.37
          ],
          [
           12.77
          ],
          [
           12.53
          ]
         ],
         "hovertemplate": "Cluster=Cluster 1<br>0=%{x}<br>1=%{y}<br>2=%{z}<br>Feature=%{customdata[0]}<extra></extra>",
         "legendgroup": "Cluster 1",
         "marker": {
          "color": "#EF553B",
          "opacity": 0.7,
          "symbol": "circle"
         },
         "mode": "markers",
         "name": "Cluster 1",
         "scene": "scene",
         "showlegend": true,
         "type": "scatter3d",
         "x": [
          -12.423264,
          -8.802252,
          -7.5023274,
          -8.140174,
          -11.833374,
          -4.077568,
          -6.909024,
          -4.177526,
          -8.280484,
          -8.791096,
          -9.57789,
          -5.365264,
          -6.7099686,
          -10.708234,
          -5.839206,
          -6.0887623,
          -6.8982005,
          -12.363964,
          -4.177486,
          -11.65225,
          -11.81985,
          -6.903547,
          -10.303377,
          -10.891512,
          -9.4120865,
          -12.066123,
          -4.1092577,
          -8.191621,
          -12.206646,
          -7.1904063,
          -11.804894,
          -6.3120737,
          -11.404156,
          -10.058167,
          -9.2257805,
          -4.0843067,
          -7.8699183,
          -11.017721,
          -10.324002,
          -11.021037,
          -9.639608,
          -11.068395,
          -12.176882,
          -10.2137375,
          -5.8398685,
          -7.5817018,
          -7.9456472,
          -6.2836204,
          -5.847565,
          -3.7879703,
          -5.849816,
          -7.536611,
          -9.594927,
          -6.3161592,
          -6.7643504,
          -4.5861044,
          -10.084125,
          -4.5878825,
          -5.829453,
          -4.0002546,
          -8.788183,
          -6.6198435,
          -11.624856,
          -9.893365,
          -11.217866,
          -6.0651174
         ],
         "y": [
          -0.30674195,
          -0.6378694,
          -0.6104546,
          -0.57259655,
          -0.70589983,
          -0.36332783,
          -0.4998682,
          -0.32482103,
          -0.53314143,
          -0.5857133,
          -0.6449621,
          -0.34914738,
          -0.3045397,
          -0.7569301,
          -0.4090474,
          -0.5033645,
          -0.5861581,
          -0.3613063,
          -0.33073103,
          -0.76255393,
          -0.80206007,
          -0.53802955,
          -0.7317226,
          -0.780858,
          -0.66749585,
          -0.5545365,
          -0.27491468,
          -0.40017968,
          -0.48618278,
          -0.57081985,
          -0.8014266,
          -0.5581665,
          -0.85743445,
          -0.7126152,
          -0.6175543,
          -0.36381748,
          -0.58733946,
          -0.80961156,
          -0.72244763,
          -0.8018715,
          -0.6968351,
          -0.8101903,
          -0.49976996,
          -0.7201991,
          -0.48177335,
          -0.37520897,
          -0.5990182,
          -0.3985507,
          -0.45961216,
          -0.2664908,
          -0.46051311,
          -0.55359817,
          -0.53792644,
          -0.57473546,
          -0.23559387,
          -0.27791956,
          -0.74388635,
          -0.37038615,
          -0.37690327,
          -0.3630008,
          -0.58078176,
          -0.5939786,
          -0.85775745,
          -0.69961625,
          -0.7932591,
          -0.38175094
         ],
         "z": [
          -0.08860005,
          -0.29811734,
          -0.52206534,
          -0.25290328,
          -0.20938799,
          -0.28510728,
          -0.29745057,
          -0.20307077,
          -0.09375333,
          -0.13615249,
          -0.12308273,
          -0.11295894,
          0.27888826,
          -0.15729268,
          -0.21797758,
          -0.46383014,
          -0.5788939,
          -0.084064715,
          -0.21440613,
          -0.26153272,
          0.11203079,
          -0.42221043,
          -0.19373964,
          -0.17569229,
          -0.2389792,
          -0.10999459,
          -0.115061045,
          0.30531704,
          -0.071789734,
          -0.46352553,
          -0.0460026,
          -0.6132961,
          0.11301818,
          -0.20963998,
          -0.12738529,
          -0.28630623,
          -0.3626274,
          -0.13576429,
          -0.15417542,
          -0.2575825,
          -0.2752727,
          -0.1845764,
          -0.08019724,
          -0.1779527,
          -0.46694353,
          0.24428341,
          -0.3823025,
          -0.10877904,
          -0.36653486,
          -0.12618639,
          -0.37232694,
          -0.33229825,
          0.23165865,
          -0.66225964,
          0.5081517,
          -0.06538594,
          -0.30803794,
          -0.26771554,
          -0.11601564,
          -0.28908312,
          -0.12146001,
          -0.6713492,
          0.086071946,
          -0.21461143,
          -0.33348456,
          -0.091304936
         ]
        },
        {
         "customdata": [
          [
           12.6
          ],
          [
           11.45
          ],
          [
           12.51
          ],
          [
           12.96
          ],
          [
           13.4
          ],
          [
           13.71
          ],
          [
           13.58
          ],
          [
           12.82
          ],
          [
           13.45
          ],
          [
           13.4
          ],
          [
           13.27
          ],
          [
           13.78
          ],
          [
           14.16
          ],
          [
           13.36
          ],
          [
           12.7
          ],
          [
           12.04
          ],
          [
           13.48
          ],
          [
           14.34
          ],
          [
           13.17
          ],
          [
           12.58
          ],
          [
           13.23
          ],
          [
           13.49
          ],
          [
           12.84
          ],
          [
           13.32
          ],
          [
           12.87
          ],
          [
           13.16
          ],
          [
           12.25
          ],
          [
           12.93
          ],
          [
           12.86
          ],
          [
           13.69
          ],
          [
           12.25
          ],
          [
           11.64
          ],
          [
           11.61
          ],
          [
           13.24
          ],
          [
           13.64
          ],
          [
           14.06
          ],
          [
           12.93
          ],
          [
           13.5
          ],
          [
           13.05
          ],
          [
           14.22
          ],
          [
           13.56
          ],
          [
           11.76
          ],
          [
           12.33
          ],
          [
           13.67
          ],
          [
           12.37
          ],
          [
           13.34
          ],
          [
           13.24
          ],
          [
           12.21
          ],
          [
           12.51
          ],
          [
           12.33
          ],
          [
           13.17
          ],
          [
           12.08
          ],
          [
           12.08
          ],
          [
           12.37
          ],
          [
           11.81
          ],
          [
           12.08
          ],
          [
           12.72
          ]
         ],
         "hovertemplate": "Cluster=Cluster 2<br>0=%{x}<br>1=%{y}<br>2=%{z}<br>Feature=%{customdata[0]}<extra></extra>",
         "legendgroup": "Cluster 2",
         "marker": {
          "color": "#00cc96",
          "opacity": 0.7,
          "symbol": "circle"
         },
         "mode": "markers",
         "name": "Cluster 2",
         "scene": "scene",
         "showlegend": true,
         "type": "scatter3d",
         "x": [
          1.0147471,
          -1.6567535,
          -0.67513996,
          0.31614655,
          -1.4993883,
          2.362793,
          2.658505,
          0.66574556,
          1.0707421,
          2.648195,
          4.511986,
          -2.031735,
          -0.2949838,
          3.3558843,
          -2.6111088,
          -3.4192097,
          -1.8386296,
          -0.293257,
          1.9412272,
          -1.0768639,
          0.28540164,
          -3.4218316,
          -3.023252,
          -0.67402375,
          -1.6345844,
          4.4315658,
          4.8815846,
          -2.6223135,
          -1.5257162,
          0.5283324,
          1.7757659,
          0.45825902,
          0.48654804,
          2.3450572,
          4.701614,
          3.3900433,
          3.1295042,
          4.720816,
          4.416289,
          2.9565766,
          3.7156289,
          -2.342687,
          0.5076449,
          -1.4464616,
          0.41739798,
          2.680902,
          0.5148946,
          2.1142995,
          0.14208126,
          2.7492979,
          4.6055245,
          -1.4308013,
          1.4907434,
          -0.2939856,
          -1.6963274,
          -1.6074408,
          1.582389
         ],
         "y": [
          -0.31370103,
          -0.25915888,
          -0.39606005,
          -0.10362815,
          -0.01040154,
          -0.34722152,
          -0.28278324,
          -0.39426595,
          -0.10361184,
          -0.3025724,
          -0.2793912,
          -0.34466165,
          -0.30204126,
          -0.33969596,
          -0.20356095,
          -0.36769056,
          -0.3622061,
          -0.18131323,
          -0.34413686,
          -0.14442302,
          -0.12836212,
          -0.32872474,
          -0.26925188,
          -0.29416978,
          -0.40062207,
          -0.29482254,
          -0.29547068,
          -0.28868002,
          0.12414678,
          -0.08897248,
          -0.36801758,
          -0.4849042,
          -0.41189656,
          -0.13472036,
          -0.2879054,
          -0.19790667,
          -0.28966367,
          -0.30687988,
          -0.27224565,
          -0.12281272,
          -0.24937491,
          -0.20352581,
          -0.25795043,
          -0.28812093,
          -0.17060708,
          -0.2352294,
          -0.16123848,
          0.21150273,
          -0.46212837,
          -0.01892252,
          -0.2822392,
          -0.5113116,
          -0.2910557,
          -0.36676607,
          0.24273285,
          -0.6058522,
          -0.38885435
         ],
         "z": [
          -0.20538722,
          -0.17831929,
          -0.34414628,
          0.077543385,
          0.13044336,
          -0.17868702,
          -0.081445254,
          -0.36401933,
          0.060954753,
          -0.10686796,
          0.025847353,
          -0.2836991,
          -0.22097434,
          -0.11571581,
          -0.09600081,
          -0.30607536,
          -0.30708528,
          -0.07338276,
          -0.19478446,
          -0.03428153,
          -0.16759579,
          -0.24462913,
          -0.16839737,
          -0.21701147,
          -0.35503763,
          0.0012918296,
          0.026349634,
          -0.20353217,
          0.296659,
          0.06950864,
          -0.23234637,
          -0.4251825,
          -0.1921903,
          0.09172786,
          0.02581544,
          0.06640635,
          -0.06458403,
          0.0021374745,
          0.02972008,
          0.13800249,
          0.019267648,
          -0.10060041,
          0.0072471993,
          -0.21362369,
          -0.18847275,
          -0.019312052,
          0.007887185,
          0.5212193,
          -0.38830295,
          0.2592977,
          0.027701495,
          -0.49443153,
          -0.1465827,
          -0.29148516,
          0.44364122,
          -0.6122331,
          -0.2679477
         ]
        },
        {
         "customdata": [
          [
           12.29
          ],
          [
           14.02
          ],
          [
           13.87
          ],
          [
           12.47
          ],
          [
           13.71
          ],
          [
           13.68
          ],
          [
           13.83
          ],
          [
           14.75
          ],
          [
           13.86
          ],
          [
           14.83
          ],
          [
           13.2
          ],
          [
           12.85
          ],
          [
           13.51
          ],
          [
           13.28
          ],
          [
           12.45
          ],
          [
           12.99
          ],
          [
           11.96
          ],
          [
           14.22
          ],
          [
           13.56
          ],
          [
           13.74
          ],
          [
           13.05
          ],
          [
           14.1
          ],
          [
           13.9
          ],
          [
           14.38
          ],
          [
           14.21
          ],
          [
           13.05
          ],
          [
           13.88
          ],
          [
           13.41
          ],
          [
           13.07
          ],
          [
           13.05
          ],
          [
           13.48
          ],
          [
           14.23
          ]
         ],
         "hovertemplate": "Cluster=Cluster 3<br>0=%{x}<br>1=%{y}<br>2=%{z}<br>Feature=%{customdata[0]}<extra></extra>",
         "legendgroup": "Cluster 3",
         "marker": {
          "color": "#ab63fa",
          "opacity": 0.7,
          "symbol": "circle"
         },
         "mode": "markers",
         "name": "Cluster 3",
         "scene": "scene",
         "showlegend": true,
         "type": "scatter3d",
         "x": [
          5.1360693,
          7.951853,
          5.8630385,
          6.3120008,
          7.936873,
          7.262424,
          9.396227,
          9.686679,
          8.120687,
          8.133301,
          8.204842,
          7.6434255,
          8.901987,
          5.292915,
          5.292593,
          7.0954957,
          5.3862367,
          6.8994136,
          9.254046,
          8.3514385,
          9.686358,
          8.3736315,
          7.1879044,
          8.462488,
          8.679812,
          5.3713884,
          8.905946,
          7.9692183,
          7.7119064,
          9.04618,
          5.945577,
          8.430897
         ],
         "y": [
          -0.3042346,
          -0.5534454,
          -0.31879914,
          -0.3318126,
          -0.41132715,
          -0.34511414,
          -0.40310022,
          -0.39706865,
          -0.12788765,
          -0.16398484,
          -0.5929114,
          -0.3382141,
          -0.355751,
          -0.3060768,
          -0.3083382,
          -0.35418436,
          -0.30928826,
          -0.34087813,
          -0.40289247,
          -0.43249816,
          -0.39751244,
          -0.12428497,
          -0.34228137,
          -0.37079352,
          -0.54766273,
          -0.30825612,
          -0.32092834,
          -0.3023335,
          -0.35073146,
          -0.3585721,
          -0.3202726,
          -0.55144596
         ],
         "z": [
          0.029436044,
          0.027780937,
          0.051995225,
          0.07857524,
          0.2978831,
          0.09058256,
          0.18882957,
          0.19002841,
          0.21009384,
          -0.026606714,
          -0.012122877,
          0.094108,
          0.19365981,
          0.03680304,
          0.0323623,
          0.1168273,
          0.037063316,
          0.085063785,
          0.19095866,
          0.4107369,
          0.1902295,
          0.19535999,
          0.083827235,
          -0.10081599,
          0.10477908,
          0.038208414,
          0.11224589,
          -0.12123808,
          0.13750982,
          0.13869183,
          0.0529864,
          0.40742913
         ]
        }
       ],
       "layout": {
        "height": 800,
        "legend": {
         "title": {
          "text": "Cluster"
         },
         "tracegroupgap": 0
        },
        "scene": {
         "domain": {
          "x": [
           0,
           1
          ],
          "y": [
           0,
           1
          ]
         },
         "xaxis": {
          "title": {
           "text": "0"
          }
         },
         "yaxis": {
          "title": {
           "text": "1"
          }
         },
         "zaxis": {
          "title": {
           "text": "2"
          }
         }
        },
        "template": {
         "data": {
          "bar": [
           {
            "error_x": {
             "color": "#2a3f5f"
            },
            "error_y": {
             "color": "#2a3f5f"
            },
            "marker": {
             "line": {
              "color": "#E5ECF6",
              "width": 0.5
             },
             "pattern": {
              "fillmode": "overlay",
              "size": 10,
              "solidity": 0.2
             }
            },
            "type": "bar"
           }
          ],
          "barpolar": [
           {
            "marker": {
             "line": {
              "color": "#E5ECF6",
              "width": 0.5
             },
             "pattern": {
              "fillmode": "overlay",
              "size": 10,
              "solidity": 0.2
             }
            },
            "type": "barpolar"
           }
          ],
          "carpet": [
           {
            "aaxis": {
             "endlinecolor": "#2a3f5f",
             "gridcolor": "white",
             "linecolor": "white",
             "minorgridcolor": "white",
             "startlinecolor": "#2a3f5f"
            },
            "baxis": {
             "endlinecolor": "#2a3f5f",
             "gridcolor": "white",
             "linecolor": "white",
             "minorgridcolor": "white",
             "startlinecolor": "#2a3f5f"
            },
            "type": "carpet"
           }
          ],
          "choropleth": [
           {
            "colorbar": {
             "outlinewidth": 0,
             "ticks": ""
            },
            "type": "choropleth"
           }
          ],
          "contour": [
           {
            "colorbar": {
             "outlinewidth": 0,
             "ticks": ""
            },
            "colorscale": [
             [
              0,
              "#0d0887"
             ],
             [
              0.1111111111111111,
              "#46039f"
             ],
             [
              0.2222222222222222,
              "#7201a8"
             ],
             [
              0.3333333333333333,
              "#9c179e"
             ],
             [
              0.4444444444444444,
              "#bd3786"
             ],
             [
              0.5555555555555556,
              "#d8576b"
             ],
             [
              0.6666666666666666,
              "#ed7953"
             ],
             [
              0.7777777777777778,
              "#fb9f3a"
             ],
             [
              0.8888888888888888,
              "#fdca26"
             ],
             [
              1,
              "#f0f921"
             ]
            ],
            "type": "contour"
           }
          ],
          "contourcarpet": [
           {
            "colorbar": {
             "outlinewidth": 0,
             "ticks": ""
            },
            "type": "contourcarpet"
           }
          ],
          "heatmap": [
           {
            "colorbar": {
             "outlinewidth": 0,
             "ticks": ""
            },
            "colorscale": [
             [
              0,
              "#0d0887"
             ],
             [
              0.1111111111111111,
              "#46039f"
             ],
             [
              0.2222222222222222,
              "#7201a8"
             ],
             [
              0.3333333333333333,
              "#9c179e"
             ],
             [
              0.4444444444444444,
              "#bd3786"
             ],
             [
              0.5555555555555556,
              "#d8576b"
             ],
             [
              0.6666666666666666,
              "#ed7953"
             ],
             [
              0.7777777777777778,
              "#fb9f3a"
             ],
             [
              0.8888888888888888,
              "#fdca26"
             ],
             [
              1,
              "#f0f921"
             ]
            ],
            "type": "heatmap"
           }
          ],
          "heatmapgl": [
           {
            "colorbar": {
             "outlinewidth": 0,
             "ticks": ""
            },
            "colorscale": [
             [
              0,
              "#0d0887"
             ],
             [
              0.1111111111111111,
              "#46039f"
             ],
             [
              0.2222222222222222,
              "#7201a8"
             ],
             [
              0.3333333333333333,
              "#9c179e"
             ],
             [
              0.4444444444444444,
              "#bd3786"
             ],
             [
              0.5555555555555556,
              "#d8576b"
             ],
             [
              0.6666666666666666,
              "#ed7953"
             ],
             [
              0.7777777777777778,
              "#fb9f3a"
             ],
             [
              0.8888888888888888,
              "#fdca26"
             ],
             [
              1,
              "#f0f921"
             ]
            ],
            "type": "heatmapgl"
           }
          ],
          "histogram": [
           {
            "marker": {
             "pattern": {
              "fillmode": "overlay",
              "size": 10,
              "solidity": 0.2
             }
            },
            "type": "histogram"
           }
          ],
          "histogram2d": [
           {
            "colorbar": {
             "outlinewidth": 0,
             "ticks": ""
            },
            "colorscale": [
             [
              0,
              "#0d0887"
             ],
             [
              0.1111111111111111,
              "#46039f"
             ],
             [
              0.2222222222222222,
              "#7201a8"
             ],
             [
              0.3333333333333333,
              "#9c179e"
             ],
             [
              0.4444444444444444,
              "#bd3786"
             ],
             [
              0.5555555555555556,
              "#d8576b"
             ],
             [
              0.6666666666666666,
              "#ed7953"
             ],
             [
              0.7777777777777778,
              "#fb9f3a"
             ],
             [
              0.8888888888888888,
              "#fdca26"
             ],
             [
              1,
              "#f0f921"
             ]
            ],
            "type": "histogram2d"
           }
          ],
          "histogram2dcontour": [
           {
            "colorbar": {
             "outlinewidth": 0,
             "ticks": ""
            },
            "colorscale": [
             [
              0,
              "#0d0887"
             ],
             [
              0.1111111111111111,
              "#46039f"
             ],
             [
              0.2222222222222222,
              "#7201a8"
             ],
             [
              0.3333333333333333,
              "#9c179e"
             ],
             [
              0.4444444444444444,
              "#bd3786"
             ],
             [
              0.5555555555555556,
              "#d8576b"
             ],
             [
              0.6666666666666666,
              "#ed7953"
             ],
             [
              0.7777777777777778,
              "#fb9f3a"
             ],
             [
              0.8888888888888888,
              "#fdca26"
             ],
             [
              1,
              "#f0f921"
             ]
            ],
            "type": "histogram2dcontour"
           }
          ],
          "mesh3d": [
           {
            "colorbar": {
             "outlinewidth": 0,
             "ticks": ""
            },
            "type": "mesh3d"
           }
          ],
          "parcoords": [
           {
            "line": {
             "colorbar": {
              "outlinewidth": 0,
              "ticks": ""
             }
            },
            "type": "parcoords"
           }
          ],
          "pie": [
           {
            "automargin": true,
            "type": "pie"
           }
          ],
          "scatter": [
           {
            "fillpattern": {
             "fillmode": "overlay",
             "size": 10,
             "solidity": 0.2
            },
            "type": "scatter"
           }
          ],
          "scatter3d": [
           {
            "line": {
             "colorbar": {
              "outlinewidth": 0,
              "ticks": ""
             }
            },
            "marker": {
             "colorbar": {
              "outlinewidth": 0,
              "ticks": ""
             }
            },
            "type": "scatter3d"
           }
          ],
          "scattercarpet": [
           {
            "marker": {
             "colorbar": {
              "outlinewidth": 0,
              "ticks": ""
             }
            },
            "type": "scattercarpet"
           }
          ],
          "scattergeo": [
           {
            "marker": {
             "colorbar": {
              "outlinewidth": 0,
              "ticks": ""
             }
            },
            "type": "scattergeo"
           }
          ],
          "scattergl": [
           {
            "marker": {
             "colorbar": {
              "outlinewidth": 0,
              "ticks": ""
             }
            },
            "type": "scattergl"
           }
          ],
          "scattermapbox": [
           {
            "marker": {
             "colorbar": {
              "outlinewidth": 0,
              "ticks": ""
             }
            },
            "type": "scattermapbox"
           }
          ],
          "scatterpolar": [
           {
            "marker": {
             "colorbar": {
              "outlinewidth": 0,
              "ticks": ""
             }
            },
            "type": "scatterpolar"
           }
          ],
          "scatterpolargl": [
           {
            "marker": {
             "colorbar": {
              "outlinewidth": 0,
              "ticks": ""
             }
            },
            "type": "scatterpolargl"
           }
          ],
          "scatterternary": [
           {
            "marker": {
             "colorbar": {
              "outlinewidth": 0,
              "ticks": ""
             }
            },
            "type": "scatterternary"
           }
          ],
          "surface": [
           {
            "colorbar": {
             "outlinewidth": 0,
             "ticks": ""
            },
            "colorscale": [
             [
              0,
              "#0d0887"
             ],
             [
              0.1111111111111111,
              "#46039f"
             ],
             [
              0.2222222222222222,
              "#7201a8"
             ],
             [
              0.3333333333333333,
              "#9c179e"
             ],
             [
              0.4444444444444444,
              "#bd3786"
             ],
             [
              0.5555555555555556,
              "#d8576b"
             ],
             [
              0.6666666666666666,
              "#ed7953"
             ],
             [
              0.7777777777777778,
              "#fb9f3a"
             ],
             [
              0.8888888888888888,
              "#fdca26"
             ],
             [
              1,
              "#f0f921"
             ]
            ],
            "type": "surface"
           }
          ],
          "table": [
           {
            "cells": {
             "fill": {
              "color": "#EBF0F8"
             },
             "line": {
              "color": "white"
             }
            },
            "header": {
             "fill": {
              "color": "#C8D4E3"
             },
             "line": {
              "color": "white"
             }
            },
            "type": "table"
           }
          ]
         },
         "layout": {
          "annotationdefaults": {
           "arrowcolor": "#2a3f5f",
           "arrowhead": 0,
           "arrowwidth": 1
          },
          "autotypenumbers": "strict",
          "coloraxis": {
           "colorbar": {
            "outlinewidth": 0,
            "ticks": ""
           }
          },
          "colorscale": {
           "diverging": [
            [
             0,
             "#8e0152"
            ],
            [
             0.1,
             "#c51b7d"
            ],
            [
             0.2,
             "#de77ae"
            ],
            [
             0.3,
             "#f1b6da"
            ],
            [
             0.4,
             "#fde0ef"
            ],
            [
             0.5,
             "#f7f7f7"
            ],
            [
             0.6,
             "#e6f5d0"
            ],
            [
             0.7,
             "#b8e186"
            ],
            [
             0.8,
             "#7fbc41"
            ],
            [
             0.9,
             "#4d9221"
            ],
            [
             1,
             "#276419"
            ]
           ],
           "sequential": [
            [
             0,
             "#0d0887"
            ],
            [
             0.1111111111111111,
             "#46039f"
            ],
            [
             0.2222222222222222,
             "#7201a8"
            ],
            [
             0.3333333333333333,
             "#9c179e"
            ],
            [
             0.4444444444444444,
             "#bd3786"
            ],
            [
             0.5555555555555556,
             "#d8576b"
            ],
            [
             0.6666666666666666,
             "#ed7953"
            ],
            [
             0.7777777777777778,
             "#fb9f3a"
            ],
            [
             0.8888888888888888,
             "#fdca26"
            ],
            [
             1,
             "#f0f921"
            ]
           ],
           "sequentialminus": [
            [
             0,
             "#0d0887"
            ],
            [
             0.1111111111111111,
             "#46039f"
            ],
            [
             0.2222222222222222,
             "#7201a8"
            ],
            [
             0.3333333333333333,
             "#9c179e"
            ],
            [
             0.4444444444444444,
             "#bd3786"
            ],
            [
             0.5555555555555556,
             "#d8576b"
            ],
            [
             0.6666666666666666,
             "#ed7953"
            ],
            [
             0.7777777777777778,
             "#fb9f3a"
            ],
            [
             0.8888888888888888,
             "#fdca26"
            ],
            [
             1,
             "#f0f921"
            ]
           ]
          },
          "colorway": [
           "#636efa",
           "#EF553B",
           "#00cc96",
           "#ab63fa",
           "#FFA15A",
           "#19d3f3",
           "#FF6692",
           "#B6E880",
           "#FF97FF",
           "#FECB52"
          ],
          "font": {
           "color": "#2a3f5f"
          },
          "geo": {
           "bgcolor": "white",
           "lakecolor": "white",
           "landcolor": "#E5ECF6",
           "showlakes": true,
           "showland": true,
           "subunitcolor": "white"
          },
          "hoverlabel": {
           "align": "left"
          },
          "hovermode": "closest",
          "mapbox": {
           "style": "light"
          },
          "paper_bgcolor": "white",
          "plot_bgcolor": "#E5ECF6",
          "polar": {
           "angularaxis": {
            "gridcolor": "white",
            "linecolor": "white",
            "ticks": ""
           },
           "bgcolor": "#E5ECF6",
           "radialaxis": {
            "gridcolor": "white",
            "linecolor": "white",
            "ticks": ""
           }
          },
          "scene": {
           "xaxis": {
            "backgroundcolor": "#E5ECF6",
            "gridcolor": "white",
            "gridwidth": 2,
            "linecolor": "white",
            "showbackground": true,
            "ticks": "",
            "zerolinecolor": "white"
           },
           "yaxis": {
            "backgroundcolor": "#E5ECF6",
            "gridcolor": "white",
            "gridwidth": 2,
            "linecolor": "white",
            "showbackground": true,
            "ticks": "",
            "zerolinecolor": "white"
           },
           "zaxis": {
            "backgroundcolor": "#E5ECF6",
            "gridcolor": "white",
            "gridwidth": 2,
            "linecolor": "white",
            "showbackground": true,
            "ticks": "",
            "zerolinecolor": "white"
           }
          },
          "shapedefaults": {
           "line": {
            "color": "#2a3f5f"
           }
          },
          "ternary": {
           "aaxis": {
            "gridcolor": "white",
            "linecolor": "white",
            "ticks": ""
           },
           "baxis": {
            "gridcolor": "white",
            "linecolor": "white",
            "ticks": ""
           },
           "bgcolor": "#E5ECF6",
           "caxis": {
            "gridcolor": "white",
            "linecolor": "white",
            "ticks": ""
           }
          },
          "title": {
           "x": 0.05
          },
          "xaxis": {
           "automargin": true,
           "gridcolor": "white",
           "linecolor": "white",
           "ticks": "",
           "title": {
            "standoff": 15
           },
           "zerolinecolor": "white",
           "zerolinewidth": 2
          },
          "yaxis": {
           "automargin": true,
           "gridcolor": "white",
           "linecolor": "white",
           "ticks": "",
           "title": {
            "standoff": 15
           },
           "zerolinecolor": "white",
           "zerolinewidth": 2
          }
         }
        },
        "title": {
         "text": "3d TSNE Plot for Clusters"
        },
        "width": 900
       }
      }
     },
     "metadata": {},
     "output_type": "display_data"
    },
    {
     "data": {
      "application/vnd.plotly.v1+json": {
       "config": {
        "plotlyServerURL": "https://plot.ly"
       },
       "data": [
        {
         "customdata": [
          [
           13.76
          ],
          [
           13.94
          ],
          [
           13.58
          ],
          [
           13.73
          ],
          [
           13.83
          ],
          [
           13.3
          ],
          [
           13.39
          ],
          [
           13.82
          ],
          [
           13.77
          ],
          [
           13.72
          ],
          [
           14.19
          ],
          [
           14.3
          ],
          [
           13.63
          ],
          [
           14.38
          ],
          [
           13.29
          ],
          [
           13.75
          ],
          [
           13.16
          ],
          [
           14.37
          ],
          [
           14.39
          ],
          [
           14.06
          ],
          [
           14.2
          ],
          [
           14.1
          ],
          [
           14.12
          ]
         ],
         "hovertemplate": "Cluster=Cluster 0<br>PCA1=%{x}<br>PCA2=%{y}<br>Feature=%{customdata[0]}<extra></extra>",
         "legendgroup": "Cluster 0",
         "marker": {
          "color": "#636efa",
          "opacity": 0.5,
          "symbol": "circle"
         },
         "mode": "markers",
         "name": "Cluster 0",
         "orientation": "v",
         "showlegend": true,
         "textposition": "top center",
         "type": "scatter",
         "x": [
          488.60128004586363,
          513.1877480212764,
          768.0929388536857,
          538.0264521010441,
          517.9289632614851,
          537.9191650219007,
          447.9255962215581,
          443.26641129499075,
          628.2860709844289,
          538.1820973203672,
          933.1183874983616,
          533.3796506359846,
          563.2455779959612,
          800.053393857324,
          523.072851399988,
          572.8344103908065,
          438.0611329148273,
          733.2401393545342,
          542.9715808652977,
          548.4018598394671,
          703.2311917383535,
          763.0797119418303,
          532.9432277354298
         ],
         "xaxis": "x",
         "y": [
          23.565325043789375,
          -0.8637592504955957,
          -7.379897368962477,
          -8.212738830440557,
          -14.997554870705656,
          -15.388346064835819,
          -14.797331237390592,
          3.260502052298263,
          4.041145393492631,
          -1.3567801039200051,
          -8.354478444329137,
          10.804802229233767,
          2.214828686781585,
          -12.118447186328394,
          -7.096625276690219,
          -21.005014331488127,
          -6.537309445782112,
          0.19272901553257635,
          -13.518966626524048,
          11.449432397470881,
          -0.3321586768606058,
          -8.334317228287738,
          -14.287633789518942
         ],
         "yaxis": "y"
        },
        {
         "customdata": [
          [
           12
          ],
          [
           12
          ],
          [
           12.08
          ],
          [
           11.79
          ],
          [
           12.37
          ],
          [
           11.65
          ],
          [
           12.16
          ],
          [
           12.81
          ],
          [
           12.7
          ],
          [
           12.67
          ],
          [
           11.66
          ],
          [
           12.88
          ],
          [
           11.84
          ],
          [
           13.03
          ],
          [
           11.84
          ],
          [
           13.05
          ],
          [
           12.69
          ],
          [
           12.29
          ],
          [
           14.13
          ],
          [
           12.43
          ],
          [
           12.42
          ],
          [
           11.82
          ],
          [
           11.03
          ],
          [
           12.08
          ],
          [
           11.41
          ],
          [
           12.52
          ],
          [
           11.46
          ],
          [
           11.56
          ],
          [
           12.22
          ],
          [
           12.72
          ],
          [
           11.62
          ],
          [
           12.25
          ],
          [
           12.42
          ],
          [
           11.82
          ],
          [
           12.34
          ],
          [
           12.6
          ],
          [
           13.49
          ],
          [
           13.05
          ],
          [
           12.29
          ],
          [
           11.87
          ],
          [
           12.29
          ],
          [
           12.07
          ],
          [
           12.42
          ],
          [
           13.86
          ],
          [
           12.37
          ],
          [
           12.79
          ],
          [
           12.77
          ],
          [
           12.2
          ],
          [
           13.73
          ],
          [
           12.85
          ],
          [
           12.36
          ],
          [
           13.84
          ],
          [
           13.11
          ],
          [
           12.37
          ],
          [
           13.5
          ],
          [
           13.08
          ],
          [
           13.88
          ],
          [
           13.62
          ],
          [
           13.52
          ],
          [
           12
          ],
          [
           12.64
          ],
          [
           13.11
          ],
          [
           12.17
          ],
          [
           12.37
          ],
          [
           12.77
          ],
          [
           12.53
          ]
         ],
         "hovertemplate": "Cluster=Cluster 1<br>PCA1=%{x}<br>PCA2=%{y}<br>Feature=%{customdata[0]}<extra></extra>",
         "legendgroup": "Cluster 1",
         "marker": {
          "color": "#EF553B",
          "opacity": 0.5,
          "symbol": "circle"
         },
         "mode": "markers",
         "name": "Cluster 1",
         "orientation": "v",
         "showlegend": true,
         "textposition": "top center",
         "type": "scatter",
         "x": [
          -469.05935030931414,
          -297.10441467546036,
          -267.1853332030074,
          -281.03036870916077,
          -405.061287803262,
          -185.10885737442598,
          -252.04639192505894,
          -186.9151119653985,
          -283.8422476451621,
          -296.8521517342952,
          -318.8763289026063,
          -216.78453997782648,
          -246.63359745150203,
          -355.0602525147033,
          -226.9532994199844,
          -232.13298838334583,
          -252.21388507613142,
          -457.0222149419162,
          -186.94319027347035,
          -395.0788364561759,
          -401.6959734818677,
          -252.10947205801006,
          -340.11500621468974,
          -362.12963311363734,
          -313.0609481633965,
          -422.04287362421354,
          -184.7364385251689,
          -281.5345691190614,
          -434.95778011197496,
          -259.1483677334645,
          -401.8512740902259,
          -237.2066970871141,
          -381.82677823404947,
          -332.08929638359956,
          -308.8823866125759,
          -185.0737134933208,
          -275.09602588002673,
          -367.08938004599764,
          -341.0409001676616,
          -367.1571746968421,
          -319.08827280451146,
          -369.10360096714834,
          -432.0097419226584,
          -337.104122488275,
          -227.03269045435238,
          -266.6287880495051,
          -277.0835782563838,
          -236.92120794224473,
          -227.07784455454214,
          -176.76509842488127,
          -227.06883575220309,
          -267.0317323049136,
          -321.57074093606076,
          -237.24141029504412,
          -246.44919923100218,
          -196.62480660535277,
          -332.1958399896638,
          -197.0043474939659,
          -226.92620968539003,
          -183.0979291820953,
          -296.82443688741404,
          -245.21252397696085,
          -391.7524864358887,
          -327.05912559596624,
          -375.1710923656498,
          -231.95153407131167
         ],
         "xaxis": "x",
         "y": [
          -5.458923976418058,
          -8.415031618750517,
          -14.053890084298319,
          -2.535860078876337,
          -4.451073675460606,
          -8.318582036181276,
          -5.212617612199955,
          1.7100573506376042,
          6.361860801261031,
          4.452803090948591,
          2.8107711345711723,
          8.130449560452966,
          16.558436653997724,
          -7.530701825240544,
          -1.7760587922636308,
          -10.530103258082969,
          -15.251570226306486,
          -3.6973379214608264,
          -0.2133308052457463,
          -6.6798318719289105,
          15.425890266458564,
          -9.275870168867124,
          -8.689734434838394,
          -9.259295399334665,
          -6.167094014812141,
          -4.244921939380584,
          10.516463159461573,
          24.508261176197706,
          -0.0595260258782719,
          -11.078816350411444,
          5.331400217827099,
          -15.561967931781053,
          9.189109748466201,
          -7.883728754949646,
          3.751656550934498,
          -8.520519015373925,
          -7.753152132704724,
          -7.188215889601419,
          -5.750565585049913,
          -11.196320224523614,
          -9.193078189103732,
          -8.175804912303697,
          -2.0329467335450966,
          -7.623855121559469,
          -7.994967947278502,
          17.15023200213065,
          -8.740331908365333,
          0.4630369985017147,
          -7.593379304435903,
          9.473190000652892,
          -7.618630298411216,
          -5.923089134154252,
          22.164340093329347,
          -17.531025543278805,
          27.81009538540277,
          16.873113920333804,
          -13.813298885594659,
          -4.228428691655031,
          1.388278366308457,
          -9.553544320825374,
          5.468475684593986,
          -17.49363928909446,
          11.171678259187585,
          -6.948130807959895,
          -13.185050244157418,
          0.5349074054661545
         ],
         "yaxis": "y"
        },
        {
         "customdata": [
          [
           12.6
          ],
          [
           11.45
          ],
          [
           12.51
          ],
          [
           12.96
          ],
          [
           13.4
          ],
          [
           13.71
          ],
          [
           13.58
          ],
          [
           12.82
          ],
          [
           13.45
          ],
          [
           13.4
          ],
          [
           13.27
          ],
          [
           13.78
          ],
          [
           14.16
          ],
          [
           13.36
          ],
          [
           12.7
          ],
          [
           12.04
          ],
          [
           13.48
          ],
          [
           14.34
          ],
          [
           13.17
          ],
          [
           12.58
          ],
          [
           13.23
          ],
          [
           13.49
          ],
          [
           12.84
          ],
          [
           13.32
          ],
          [
           12.87
          ],
          [
           13.16
          ],
          [
           12.25
          ],
          [
           12.93
          ],
          [
           12.86
          ],
          [
           13.69
          ],
          [
           12.25
          ],
          [
           11.64
          ],
          [
           11.61
          ],
          [
           13.24
          ],
          [
           13.64
          ],
          [
           14.06
          ],
          [
           12.93
          ],
          [
           13.5
          ],
          [
           13.05
          ],
          [
           14.22
          ],
          [
           13.56
          ],
          [
           11.76
          ],
          [
           12.33
          ],
          [
           13.67
          ],
          [
           12.37
          ],
          [
           13.34
          ],
          [
           13.24
          ],
          [
           12.21
          ],
          [
           12.51
          ],
          [
           12.33
          ],
          [
           13.17
          ],
          [
           12.08
          ],
          [
           12.08
          ],
          [
           12.37
          ],
          [
           11.81
          ],
          [
           12.08
          ],
          [
           12.72
          ]
         ],
         "hovertemplate": "Cluster=Cluster 2<br>PCA1=%{x}<br>PCA2=%{y}<br>Feature=%{customdata[0]}<extra></extra>",
         "legendgroup": "Cluster 2",
         "marker": {
          "color": "#00cc96",
          "opacity": 0.5,
          "symbol": "circle"
         },
         "mode": "markers",
         "name": "Cluster 2",
         "orientation": "v",
         "showlegend": true,
         "textposition": "top center",
         "type": "scatter",
         "x": [
          -51.98204686688439,
          -121.94524134873143,
          -97.13297359815374,
          -71.76839793205917,
          -116.67481805026259,
          -6.980210958685978,
          3.18276465276103,
          -62.08501112435858,
          -51.68950645964883,
          3.131604678239902,
          88.45807368607662,
          -132.04824836124644,
          -87.0274026322343,
          32.9042927479654,
          -146.7695296252183,
          -167.23764181827346,
          -127.06128965213838,
          -86.91399859070512,
          -22.02025679842397,
          -106.81661780183234,
          -71.89765870614293,
          -167.0762457653601,
          -156.8680445425801,
          -97.01938926861038,
          -122.12609208805132,
          83.11826261213079,
          108.31267730298639,
          -146.94648958042373,
          -116.47300035998225,
          -66.75543117683834,
          -27.097930750124164,
          -67.1807518457075,
          -66.99069577037471,
          -11.571428495749386,
          98.4031774771684,
          33.59359400292199,
          23.146437539222553,
          98.01988577249314,
          83.49874396170082,
          13.643002114414486,
          48.42964224738372,
          -139.81866316125559,
          -66.85012199756466,
          -116.97047258196933,
          -68.90576044479573,
          3.296155991189265,
          -66.81465538593083,
          -27.966120727271164,
          -75.15313775162677,
          3.7716896547038226,
          93.45624185453924,
          -117.29039200983733,
          -36.931614551080656,
          -87.08029256153804,
          -121.27917775307415,
          -122.43132640306239,
          -33.131339241837416
         ],
         "xaxis": "x",
         "y": [
          -4.812293095866978,
          -1.5888942815197207,
          -13.05828382681979,
          7.510637846751153,
          14.533370343854255,
          -4.541136570072913,
          5.391361496588702,
          -10.55401529126982,
          12.358084978843948,
          2.335190512230777,
          18.77628455837251,
          -7.255030311387006,
          -7.104595746547586,
          -11.305365637093324,
          8.920334112078041,
          -16.731185729830063,
          -8.291416840391262,
          0.07963577821257412,
          -6.2294392550849125,
          5.206123064219329,
          -0.3996563893691686,
          -8.756723110520293,
          4.1631624856986775,
          -5.906442573042557,
          -11.469925858362602,
          0.8068696934872274,
          10.351330444385697,
          -1.0967289648022198,
          24.266020061574086,
          8.470289901564387,
          -10.229996229460022,
          -14.524690214317328,
          -4.57145764344107,
          18.489994609520323,
          14.392659413231293,
          25.567956506674772,
          1.8174730977226172,
          -5.495846063361658,
          22.891621542083364,
          27.846832152389872,
          16.3219497878027,
          5.73555207139841,
          2.3198665393927316,
          -3.7263834186636107,
          -0.5586205284678426,
          10.09581160649009,
          4.384829923687216,
          51.63012516719088,
          -13.413827944936084,
          36.03109237404508,
          18.67081912703858,
          -19.578612474719577,
          -2.170415928644991,
          -10.226572688778816,
          36.4175148857172,
          -27.504038695313707,
          -13.18710497583279
         ],
         "yaxis": "y"
        },
        {
         "customdata": [
          [
           12.29
          ],
          [
           14.02
          ],
          [
           13.87
          ],
          [
           12.47
          ],
          [
           13.71
          ],
          [
           13.68
          ],
          [
           13.83
          ],
          [
           14.75
          ],
          [
           13.86
          ],
          [
           14.83
          ],
          [
           13.2
          ],
          [
           12.85
          ],
          [
           13.51
          ],
          [
           13.28
          ],
          [
           12.45
          ],
          [
           12.99
          ],
          [
           11.96
          ],
          [
           14.22
          ],
          [
           13.56
          ],
          [
           13.74
          ],
          [
           13.05
          ],
          [
           14.1
          ],
          [
           13.9
          ],
          [
           14.38
          ],
          [
           14.21
          ],
          [
           13.05
          ],
          [
           13.88
          ],
          [
           13.41
          ],
          [
           13.07
          ],
          [
           13.05
          ],
          [
           13.48
          ],
          [
           14.23
          ]
         ],
         "hovertemplate": "Cluster=Cluster 3<br>PCA1=%{x}<br>PCA2=%{y}<br>Feature=%{customdata[0]}<extra></extra>",
         "legendgroup": "Cluster 3",
         "marker": {
          "color": "#ab63fa",
          "opacity": 0.5,
          "symbol": "circle"
         },
         "mode": "markers",
         "name": "Cluster 3",
         "orientation": "v",
         "showlegend": true,
         "textposition": "top center",
         "type": "scatter",
         "x": [
          123.13013831010882,
          288.008247081548,
          168.21046760640897,
          191.18339677278374,
          288.0930302156645,
          243.15075089870336,
          383.3175910769824,
          402.92535828819035,
          298.0495531345102,
          298.0368628000685,
          303.0974196603739,
          267.98151253920827,
          348.2310069965195,
          133.28642354590414,
          132.99984125160776,
          238.71675654832384,
          139.094056640331,
          223.41710636218698,
          373.333291223019,
          313.39761267690665,
          402.9390171606932,
          313.1199153918132,
          238.11148507798623,
          318.1118484673278,
          333.25480583046954,
          138.2270098835678,
          348.095348180137,
          287.8840921729407,
          273.0444315212531,
          358.0185591756963,
          173.0799574252474,
          318.5629792849896
         ],
         "xaxis": "x",
         "y": [
          1.0598344998325275,
          -8.959731546642173,
          4.25531095334008,
          58.79376237622564,
          -3.963041738143885,
          -0.1439149061381336,
          8.477419814892297,
          -16.102635217695497,
          -7.101542936625496,
          -8.180157829108483,
          -5.364717679228906,
          -9.570704033524153,
          4.038080145613932,
          7.772729577608164,
          -4.867705449621999,
          35.251827352945895,
          -1.2074762041526408,
          14.216892399606433,
          9.664198624906447,
          12.608913506301437,
          -15.053302857311136,
          -2.3053631841694626,
          -3.0515209984083995,
          -3.48694493310577,
          5.3193311464886,
          4.730688361454238,
          -5.043426086465696,
          -14.885118554108653,
          -6.725074305748185,
          -8.157984119464256,
          -2.792921652639331,
          21.492130747540525
         ],
         "yaxis": "y"
        }
       ],
       "layout": {
        "height": 600,
        "legend": {
         "title": {
          "text": "Cluster"
         },
         "tracegroupgap": 0
        },
        "margin": {
         "t": 60
        },
        "plot_bgcolor": "rgb(240,240,240)",
        "template": {
         "data": {
          "bar": [
           {
            "error_x": {
             "color": "#2a3f5f"
            },
            "error_y": {
             "color": "#2a3f5f"
            },
            "marker": {
             "line": {
              "color": "#E5ECF6",
              "width": 0.5
             },
             "pattern": {
              "fillmode": "overlay",
              "size": 10,
              "solidity": 0.2
             }
            },
            "type": "bar"
           }
          ],
          "barpolar": [
           {
            "marker": {
             "line": {
              "color": "#E5ECF6",
              "width": 0.5
             },
             "pattern": {
              "fillmode": "overlay",
              "size": 10,
              "solidity": 0.2
             }
            },
            "type": "barpolar"
           }
          ],
          "carpet": [
           {
            "aaxis": {
             "endlinecolor": "#2a3f5f",
             "gridcolor": "white",
             "linecolor": "white",
             "minorgridcolor": "white",
             "startlinecolor": "#2a3f5f"
            },
            "baxis": {
             "endlinecolor": "#2a3f5f",
             "gridcolor": "white",
             "linecolor": "white",
             "minorgridcolor": "white",
             "startlinecolor": "#2a3f5f"
            },
            "type": "carpet"
           }
          ],
          "choropleth": [
           {
            "colorbar": {
             "outlinewidth": 0,
             "ticks": ""
            },
            "type": "choropleth"
           }
          ],
          "contour": [
           {
            "colorbar": {
             "outlinewidth": 0,
             "ticks": ""
            },
            "colorscale": [
             [
              0,
              "#0d0887"
             ],
             [
              0.1111111111111111,
              "#46039f"
             ],
             [
              0.2222222222222222,
              "#7201a8"
             ],
             [
              0.3333333333333333,
              "#9c179e"
             ],
             [
              0.4444444444444444,
              "#bd3786"
             ],
             [
              0.5555555555555556,
              "#d8576b"
             ],
             [
              0.6666666666666666,
              "#ed7953"
             ],
             [
              0.7777777777777778,
              "#fb9f3a"
             ],
             [
              0.8888888888888888,
              "#fdca26"
             ],
             [
              1,
              "#f0f921"
             ]
            ],
            "type": "contour"
           }
          ],
          "contourcarpet": [
           {
            "colorbar": {
             "outlinewidth": 0,
             "ticks": ""
            },
            "type": "contourcarpet"
           }
          ],
          "heatmap": [
           {
            "colorbar": {
             "outlinewidth": 0,
             "ticks": ""
            },
            "colorscale": [
             [
              0,
              "#0d0887"
             ],
             [
              0.1111111111111111,
              "#46039f"
             ],
             [
              0.2222222222222222,
              "#7201a8"
             ],
             [
              0.3333333333333333,
              "#9c179e"
             ],
             [
              0.4444444444444444,
              "#bd3786"
             ],
             [
              0.5555555555555556,
              "#d8576b"
             ],
             [
              0.6666666666666666,
              "#ed7953"
             ],
             [
              0.7777777777777778,
              "#fb9f3a"
             ],
             [
              0.8888888888888888,
              "#fdca26"
             ],
             [
              1,
              "#f0f921"
             ]
            ],
            "type": "heatmap"
           }
          ],
          "heatmapgl": [
           {
            "colorbar": {
             "outlinewidth": 0,
             "ticks": ""
            },
            "colorscale": [
             [
              0,
              "#0d0887"
             ],
             [
              0.1111111111111111,
              "#46039f"
             ],
             [
              0.2222222222222222,
              "#7201a8"
             ],
             [
              0.3333333333333333,
              "#9c179e"
             ],
             [
              0.4444444444444444,
              "#bd3786"
             ],
             [
              0.5555555555555556,
              "#d8576b"
             ],
             [
              0.6666666666666666,
              "#ed7953"
             ],
             [
              0.7777777777777778,
              "#fb9f3a"
             ],
             [
              0.8888888888888888,
              "#fdca26"
             ],
             [
              1,
              "#f0f921"
             ]
            ],
            "type": "heatmapgl"
           }
          ],
          "histogram": [
           {
            "marker": {
             "pattern": {
              "fillmode": "overlay",
              "size": 10,
              "solidity": 0.2
             }
            },
            "type": "histogram"
           }
          ],
          "histogram2d": [
           {
            "colorbar": {
             "outlinewidth": 0,
             "ticks": ""
            },
            "colorscale": [
             [
              0,
              "#0d0887"
             ],
             [
              0.1111111111111111,
              "#46039f"
             ],
             [
              0.2222222222222222,
              "#7201a8"
             ],
             [
              0.3333333333333333,
              "#9c179e"
             ],
             [
              0.4444444444444444,
              "#bd3786"
             ],
             [
              0.5555555555555556,
              "#d8576b"
             ],
             [
              0.6666666666666666,
              "#ed7953"
             ],
             [
              0.7777777777777778,
              "#fb9f3a"
             ],
             [
              0.8888888888888888,
              "#fdca26"
             ],
             [
              1,
              "#f0f921"
             ]
            ],
            "type": "histogram2d"
           }
          ],
          "histogram2dcontour": [
           {
            "colorbar": {
             "outlinewidth": 0,
             "ticks": ""
            },
            "colorscale": [
             [
              0,
              "#0d0887"
             ],
             [
              0.1111111111111111,
              "#46039f"
             ],
             [
              0.2222222222222222,
              "#7201a8"
             ],
             [
              0.3333333333333333,
              "#9c179e"
             ],
             [
              0.4444444444444444,
              "#bd3786"
             ],
             [
              0.5555555555555556,
              "#d8576b"
             ],
             [
              0.6666666666666666,
              "#ed7953"
             ],
             [
              0.7777777777777778,
              "#fb9f3a"
             ],
             [
              0.8888888888888888,
              "#fdca26"
             ],
             [
              1,
              "#f0f921"
             ]
            ],
            "type": "histogram2dcontour"
           }
          ],
          "mesh3d": [
           {
            "colorbar": {
             "outlinewidth": 0,
             "ticks": ""
            },
            "type": "mesh3d"
           }
          ],
          "parcoords": [
           {
            "line": {
             "colorbar": {
              "outlinewidth": 0,
              "ticks": ""
             }
            },
            "type": "parcoords"
           }
          ],
          "pie": [
           {
            "automargin": true,
            "type": "pie"
           }
          ],
          "scatter": [
           {
            "fillpattern": {
             "fillmode": "overlay",
             "size": 10,
             "solidity": 0.2
            },
            "type": "scatter"
           }
          ],
          "scatter3d": [
           {
            "line": {
             "colorbar": {
              "outlinewidth": 0,
              "ticks": ""
             }
            },
            "marker": {
             "colorbar": {
              "outlinewidth": 0,
              "ticks": ""
             }
            },
            "type": "scatter3d"
           }
          ],
          "scattercarpet": [
           {
            "marker": {
             "colorbar": {
              "outlinewidth": 0,
              "ticks": ""
             }
            },
            "type": "scattercarpet"
           }
          ],
          "scattergeo": [
           {
            "marker": {
             "colorbar": {
              "outlinewidth": 0,
              "ticks": ""
             }
            },
            "type": "scattergeo"
           }
          ],
          "scattergl": [
           {
            "marker": {
             "colorbar": {
              "outlinewidth": 0,
              "ticks": ""
             }
            },
            "type": "scattergl"
           }
          ],
          "scattermapbox": [
           {
            "marker": {
             "colorbar": {
              "outlinewidth": 0,
              "ticks": ""
             }
            },
            "type": "scattermapbox"
           }
          ],
          "scatterpolar": [
           {
            "marker": {
             "colorbar": {
              "outlinewidth": 0,
              "ticks": ""
             }
            },
            "type": "scatterpolar"
           }
          ],
          "scatterpolargl": [
           {
            "marker": {
             "colorbar": {
              "outlinewidth": 0,
              "ticks": ""
             }
            },
            "type": "scatterpolargl"
           }
          ],
          "scatterternary": [
           {
            "marker": {
             "colorbar": {
              "outlinewidth": 0,
              "ticks": ""
             }
            },
            "type": "scatterternary"
           }
          ],
          "surface": [
           {
            "colorbar": {
             "outlinewidth": 0,
             "ticks": ""
            },
            "colorscale": [
             [
              0,
              "#0d0887"
             ],
             [
              0.1111111111111111,
              "#46039f"
             ],
             [
              0.2222222222222222,
              "#7201a8"
             ],
             [
              0.3333333333333333,
              "#9c179e"
             ],
             [
              0.4444444444444444,
              "#bd3786"
             ],
             [
              0.5555555555555556,
              "#d8576b"
             ],
             [
              0.6666666666666666,
              "#ed7953"
             ],
             [
              0.7777777777777778,
              "#fb9f3a"
             ],
             [
              0.8888888888888888,
              "#fdca26"
             ],
             [
              1,
              "#f0f921"
             ]
            ],
            "type": "surface"
           }
          ],
          "table": [
           {
            "cells": {
             "fill": {
              "color": "#EBF0F8"
             },
             "line": {
              "color": "white"
             }
            },
            "header": {
             "fill": {
              "color": "#C8D4E3"
             },
             "line": {
              "color": "white"
             }
            },
            "type": "table"
           }
          ]
         },
         "layout": {
          "annotationdefaults": {
           "arrowcolor": "#2a3f5f",
           "arrowhead": 0,
           "arrowwidth": 1
          },
          "autotypenumbers": "strict",
          "coloraxis": {
           "colorbar": {
            "outlinewidth": 0,
            "ticks": ""
           }
          },
          "colorscale": {
           "diverging": [
            [
             0,
             "#8e0152"
            ],
            [
             0.1,
             "#c51b7d"
            ],
            [
             0.2,
             "#de77ae"
            ],
            [
             0.3,
             "#f1b6da"
            ],
            [
             0.4,
             "#fde0ef"
            ],
            [
             0.5,
             "#f7f7f7"
            ],
            [
             0.6,
             "#e6f5d0"
            ],
            [
             0.7,
             "#b8e186"
            ],
            [
             0.8,
             "#7fbc41"
            ],
            [
             0.9,
             "#4d9221"
            ],
            [
             1,
             "#276419"
            ]
           ],
           "sequential": [
            [
             0,
             "#0d0887"
            ],
            [
             0.1111111111111111,
             "#46039f"
            ],
            [
             0.2222222222222222,
             "#7201a8"
            ],
            [
             0.3333333333333333,
             "#9c179e"
            ],
            [
             0.4444444444444444,
             "#bd3786"
            ],
            [
             0.5555555555555556,
             "#d8576b"
            ],
            [
             0.6666666666666666,
             "#ed7953"
            ],
            [
             0.7777777777777778,
             "#fb9f3a"
            ],
            [
             0.8888888888888888,
             "#fdca26"
            ],
            [
             1,
             "#f0f921"
            ]
           ],
           "sequentialminus": [
            [
             0,
             "#0d0887"
            ],
            [
             0.1111111111111111,
             "#46039f"
            ],
            [
             0.2222222222222222,
             "#7201a8"
            ],
            [
             0.3333333333333333,
             "#9c179e"
            ],
            [
             0.4444444444444444,
             "#bd3786"
            ],
            [
             0.5555555555555556,
             "#d8576b"
            ],
            [
             0.6666666666666666,
             "#ed7953"
            ],
            [
             0.7777777777777778,
             "#fb9f3a"
            ],
            [
             0.8888888888888888,
             "#fdca26"
            ],
            [
             1,
             "#f0f921"
            ]
           ]
          },
          "colorway": [
           "#636efa",
           "#EF553B",
           "#00cc96",
           "#ab63fa",
           "#FFA15A",
           "#19d3f3",
           "#FF6692",
           "#B6E880",
           "#FF97FF",
           "#FECB52"
          ],
          "font": {
           "color": "#2a3f5f"
          },
          "geo": {
           "bgcolor": "white",
           "lakecolor": "white",
           "landcolor": "#E5ECF6",
           "showlakes": true,
           "showland": true,
           "subunitcolor": "white"
          },
          "hoverlabel": {
           "align": "left"
          },
          "hovermode": "closest",
          "mapbox": {
           "style": "light"
          },
          "paper_bgcolor": "white",
          "plot_bgcolor": "#E5ECF6",
          "polar": {
           "angularaxis": {
            "gridcolor": "white",
            "linecolor": "white",
            "ticks": ""
           },
           "bgcolor": "#E5ECF6",
           "radialaxis": {
            "gridcolor": "white",
            "linecolor": "white",
            "ticks": ""
           }
          },
          "scene": {
           "xaxis": {
            "backgroundcolor": "#E5ECF6",
            "gridcolor": "white",
            "gridwidth": 2,
            "linecolor": "white",
            "showbackground": true,
            "ticks": "",
            "zerolinecolor": "white"
           },
           "yaxis": {
            "backgroundcolor": "#E5ECF6",
            "gridcolor": "white",
            "gridwidth": 2,
            "linecolor": "white",
            "showbackground": true,
            "ticks": "",
            "zerolinecolor": "white"
           },
           "zaxis": {
            "backgroundcolor": "#E5ECF6",
            "gridcolor": "white",
            "gridwidth": 2,
            "linecolor": "white",
            "showbackground": true,
            "ticks": "",
            "zerolinecolor": "white"
           }
          },
          "shapedefaults": {
           "line": {
            "color": "#2a3f5f"
           }
          },
          "ternary": {
           "aaxis": {
            "gridcolor": "white",
            "linecolor": "white",
            "ticks": ""
           },
           "baxis": {
            "gridcolor": "white",
            "linecolor": "white",
            "ticks": ""
           },
           "bgcolor": "#E5ECF6",
           "caxis": {
            "gridcolor": "white",
            "linecolor": "white",
            "ticks": ""
           }
          },
          "title": {
           "x": 0.05
          },
          "xaxis": {
           "automargin": true,
           "gridcolor": "white",
           "linecolor": "white",
           "ticks": "",
           "title": {
            "standoff": 15
           },
           "zerolinecolor": "white",
           "zerolinewidth": 2
          },
          "yaxis": {
           "automargin": true,
           "gridcolor": "white",
           "linecolor": "white",
           "ticks": "",
           "title": {
            "standoff": 15
           },
           "zerolinecolor": "white",
           "zerolinewidth": 2
          }
         }
        },
        "title": {
         "text": "2D Cluster PCA Plot"
        },
        "xaxis": {
         "anchor": "y",
         "domain": [
          0,
          1
         ],
         "title": {
          "text": "PCA1"
         }
        },
        "yaxis": {
         "anchor": "x",
         "domain": [
          0,
          1
         ],
         "title": {
          "text": "PCA2"
         }
        }
       }
      }
     },
     "metadata": {},
     "output_type": "display_data"
    },
    {
     "data": {
      "application/vnd.plotly.v1+json": {
       "config": {
        "plotlyServerURL": "https://plot.ly"
       },
       "data": [
        {
         "customdata": [
          [
           13.76
          ],
          [
           13.94
          ],
          [
           13.58
          ],
          [
           13.73
          ],
          [
           13.83
          ],
          [
           13.3
          ],
          [
           13.39
          ],
          [
           13.82
          ],
          [
           13.77
          ],
          [
           13.72
          ],
          [
           14.19
          ],
          [
           14.3
          ],
          [
           13.63
          ],
          [
           14.38
          ],
          [
           13.29
          ],
          [
           13.75
          ],
          [
           13.16
          ],
          [
           14.37
          ],
          [
           14.39
          ],
          [
           14.06
          ],
          [
           14.2
          ],
          [
           14.1
          ],
          [
           14.12
          ]
         ],
         "hovertemplate": "Cluster=Cluster 0<br>0=%{x}<br>1=%{y}<br>2=%{z}<br>Feature=%{customdata[0]}<extra></extra>",
         "legendgroup": "Cluster 0",
         "marker": {
          "color": "#636efa",
          "opacity": 0.7,
          "symbol": "circle"
         },
         "mode": "markers",
         "name": "Cluster 0",
         "scene": "scene",
         "showlegend": true,
         "type": "scatter3d",
         "x": [
          10.769064,
          11.017529,
          12.4740925,
          11.313172,
          11.045877,
          11.275014,
          10.306172,
          10.24447,
          11.948547,
          11.274945,
          12.651572,
          11.243044,
          11.557566,
          12.532163,
          11.092837,
          11.626498,
          10.174699,
          12.384492,
          11.34899,
          11.4111395,
          12.28252,
          12.463176,
          11.202159
         ],
         "y": [
          -0.5247664,
          -0.5848898,
          0.2719529,
          -0.60713613,
          -0.34930584,
          -0.40453824,
          -0.41461253,
          -0.4208,
          -0.20276159,
          -0.3755194,
          0.4647536,
          -0.47796643,
          -0.48595172,
          0.3277384,
          -0.2369666,
          -0.41398337,
          -0.41415852,
          0.18729372,
          -0.49183366,
          -0.5022623,
          0.09135116,
          0.26151115,
          -0.30018345
         ],
         "z": [
          0.13355258,
          0.22976784,
          0.19631396,
          0.32330278,
          0.4289791,
          0.48588815,
          0.22968473,
          0.21392192,
          0.24272059,
          0.047327995,
          0.1728833,
          0.020878103,
          0.19861801,
          0.18985532,
          0.19549373,
          0.37177357,
          0.21560977,
          0.20552254,
          0.4499562,
          0.062947825,
          0.21680614,
          0.1976546,
          0.45160812
         ]
        },
        {
         "customdata": [
          [
           12
          ],
          [
           12
          ],
          [
           12.08
          ],
          [
           11.79
          ],
          [
           12.37
          ],
          [
           11.65
          ],
          [
           12.16
          ],
          [
           12.81
          ],
          [
           12.7
          ],
          [
           12.67
          ],
          [
           11.66
          ],
          [
           12.88
          ],
          [
           11.84
          ],
          [
           13.03
          ],
          [
           11.84
          ],
          [
           13.05
          ],
          [
           12.69
          ],
          [
           12.29
          ],
          [
           14.13
          ],
          [
           12.43
          ],
          [
           12.42
          ],
          [
           11.82
          ],
          [
           11.03
          ],
          [
           12.08
          ],
          [
           11.41
          ],
          [
           12.52
          ],
          [
           11.46
          ],
          [
           11.56
          ],
          [
           12.22
          ],
          [
           12.72
          ],
          [
           11.62
          ],
          [
           12.25
          ],
          [
           12.42
          ],
          [
           11.82
          ],
          [
           12.34
          ],
          [
           12.6
          ],
          [
           13.49
          ],
          [
           13.05
          ],
          [
           12.29
          ],
          [
           11.87
          ],
          [
           12.29
          ],
          [
           12.07
          ],
          [
           12.42
          ],
          [
           13.86
          ],
          [
           12.37
          ],
          [
           12.79
          ],
          [
           12.77
          ],
          [
           12.2
          ],
          [
           13.73
          ],
          [
           12.85
          ],
          [
           12.36
          ],
          [
           13.84
          ],
          [
           13.11
          ],
          [
           12.37
          ],
          [
           13.5
          ],
          [
           13.08
          ],
          [
           13.88
          ],
          [
           13.62
          ],
          [
           13.52
          ],
          [
           12
          ],
          [
           12.64
          ],
          [
           13.11
          ],
          [
           12.17
          ],
          [
           12.37
          ],
          [
           12.77
          ],
          [
           12.53
          ]
         ],
         "hovertemplate": "Cluster=Cluster 1<br>0=%{x}<br>1=%{y}<br>2=%{z}<br>Feature=%{customdata[0]}<extra></extra>",
         "legendgroup": "Cluster 1",
         "marker": {
          "color": "#EF553B",
          "opacity": 0.7,
          "symbol": "circle"
         },
         "mode": "markers",
         "name": "Cluster 1",
         "scene": "scene",
         "showlegend": true,
         "type": "scatter3d",
         "x": [
          -12.423264,
          -8.802252,
          -7.5023274,
          -8.140174,
          -11.833374,
          -4.077568,
          -6.909024,
          -4.177526,
          -8.280484,
          -8.791096,
          -9.57789,
          -5.365264,
          -6.7099686,
          -10.708234,
          -5.839206,
          -6.0887623,
          -6.8982005,
          -12.363964,
          -4.177486,
          -11.65225,
          -11.81985,
          -6.903547,
          -10.303377,
          -10.891512,
          -9.4120865,
          -12.066123,
          -4.1092577,
          -8.191621,
          -12.206646,
          -7.1904063,
          -11.804894,
          -6.3120737,
          -11.404156,
          -10.058167,
          -9.2257805,
          -4.0843067,
          -7.8699183,
          -11.017721,
          -10.324002,
          -11.021037,
          -9.639608,
          -11.068395,
          -12.176882,
          -10.2137375,
          -5.8398685,
          -7.5817018,
          -7.9456472,
          -6.2836204,
          -5.847565,
          -3.7879703,
          -5.849816,
          -7.536611,
          -9.594927,
          -6.3161592,
          -6.7643504,
          -4.5861044,
          -10.084125,
          -4.5878825,
          -5.829453,
          -4.0002546,
          -8.788183,
          -6.6198435,
          -11.624856,
          -9.893365,
          -11.217866,
          -6.0651174
         ],
         "y": [
          -0.30674195,
          -0.6378694,
          -0.6104546,
          -0.57259655,
          -0.70589983,
          -0.36332783,
          -0.4998682,
          -0.32482103,
          -0.53314143,
          -0.5857133,
          -0.6449621,
          -0.34914738,
          -0.3045397,
          -0.7569301,
          -0.4090474,
          -0.5033645,
          -0.5861581,
          -0.3613063,
          -0.33073103,
          -0.76255393,
          -0.80206007,
          -0.53802955,
          -0.7317226,
          -0.780858,
          -0.66749585,
          -0.5545365,
          -0.27491468,
          -0.40017968,
          -0.48618278,
          -0.57081985,
          -0.8014266,
          -0.5581665,
          -0.85743445,
          -0.7126152,
          -0.6175543,
          -0.36381748,
          -0.58733946,
          -0.80961156,
          -0.72244763,
          -0.8018715,
          -0.6968351,
          -0.8101903,
          -0.49976996,
          -0.7201991,
          -0.48177335,
          -0.37520897,
          -0.5990182,
          -0.3985507,
          -0.45961216,
          -0.2664908,
          -0.46051311,
          -0.55359817,
          -0.53792644,
          -0.57473546,
          -0.23559387,
          -0.27791956,
          -0.74388635,
          -0.37038615,
          -0.37690327,
          -0.3630008,
          -0.58078176,
          -0.5939786,
          -0.85775745,
          -0.69961625,
          -0.7932591,
          -0.38175094
         ],
         "z": [
          -0.08860005,
          -0.29811734,
          -0.52206534,
          -0.25290328,
          -0.20938799,
          -0.28510728,
          -0.29745057,
          -0.20307077,
          -0.09375333,
          -0.13615249,
          -0.12308273,
          -0.11295894,
          0.27888826,
          -0.15729268,
          -0.21797758,
          -0.46383014,
          -0.5788939,
          -0.084064715,
          -0.21440613,
          -0.26153272,
          0.11203079,
          -0.42221043,
          -0.19373964,
          -0.17569229,
          -0.2389792,
          -0.10999459,
          -0.115061045,
          0.30531704,
          -0.071789734,
          -0.46352553,
          -0.0460026,
          -0.6132961,
          0.11301818,
          -0.20963998,
          -0.12738529,
          -0.28630623,
          -0.3626274,
          -0.13576429,
          -0.15417542,
          -0.2575825,
          -0.2752727,
          -0.1845764,
          -0.08019724,
          -0.1779527,
          -0.46694353,
          0.24428341,
          -0.3823025,
          -0.10877904,
          -0.36653486,
          -0.12618639,
          -0.37232694,
          -0.33229825,
          0.23165865,
          -0.66225964,
          0.5081517,
          -0.06538594,
          -0.30803794,
          -0.26771554,
          -0.11601564,
          -0.28908312,
          -0.12146001,
          -0.6713492,
          0.086071946,
          -0.21461143,
          -0.33348456,
          -0.091304936
         ]
        },
        {
         "customdata": [
          [
           12.6
          ],
          [
           11.45
          ],
          [
           12.51
          ],
          [
           12.96
          ],
          [
           13.4
          ],
          [
           13.71
          ],
          [
           13.58
          ],
          [
           12.82
          ],
          [
           13.45
          ],
          [
           13.4
          ],
          [
           13.27
          ],
          [
           13.78
          ],
          [
           14.16
          ],
          [
           13.36
          ],
          [
           12.7
          ],
          [
           12.04
          ],
          [
           13.48
          ],
          [
           14.34
          ],
          [
           13.17
          ],
          [
           12.58
          ],
          [
           13.23
          ],
          [
           13.49
          ],
          [
           12.84
          ],
          [
           13.32
          ],
          [
           12.87
          ],
          [
           13.16
          ],
          [
           12.25
          ],
          [
           12.93
          ],
          [
           12.86
          ],
          [
           13.69
          ],
          [
           12.25
          ],
          [
           11.64
          ],
          [
           11.61
          ],
          [
           13.24
          ],
          [
           13.64
          ],
          [
           14.06
          ],
          [
           12.93
          ],
          [
           13.5
          ],
          [
           13.05
          ],
          [
           14.22
          ],
          [
           13.56
          ],
          [
           11.76
          ],
          [
           12.33
          ],
          [
           13.67
          ],
          [
           12.37
          ],
          [
           13.34
          ],
          [
           13.24
          ],
          [
           12.21
          ],
          [
           12.51
          ],
          [
           12.33
          ],
          [
           13.17
          ],
          [
           12.08
          ],
          [
           12.08
          ],
          [
           12.37
          ],
          [
           11.81
          ],
          [
           12.08
          ],
          [
           12.72
          ]
         ],
         "hovertemplate": "Cluster=Cluster 2<br>0=%{x}<br>1=%{y}<br>2=%{z}<br>Feature=%{customdata[0]}<extra></extra>",
         "legendgroup": "Cluster 2",
         "marker": {
          "color": "#00cc96",
          "opacity": 0.7,
          "symbol": "circle"
         },
         "mode": "markers",
         "name": "Cluster 2",
         "scene": "scene",
         "showlegend": true,
         "type": "scatter3d",
         "x": [
          1.0147471,
          -1.6567535,
          -0.67513996,
          0.31614655,
          -1.4993883,
          2.362793,
          2.658505,
          0.66574556,
          1.0707421,
          2.648195,
          4.511986,
          -2.031735,
          -0.2949838,
          3.3558843,
          -2.6111088,
          -3.4192097,
          -1.8386296,
          -0.293257,
          1.9412272,
          -1.0768639,
          0.28540164,
          -3.4218316,
          -3.023252,
          -0.67402375,
          -1.6345844,
          4.4315658,
          4.8815846,
          -2.6223135,
          -1.5257162,
          0.5283324,
          1.7757659,
          0.45825902,
          0.48654804,
          2.3450572,
          4.701614,
          3.3900433,
          3.1295042,
          4.720816,
          4.416289,
          2.9565766,
          3.7156289,
          -2.342687,
          0.5076449,
          -1.4464616,
          0.41739798,
          2.680902,
          0.5148946,
          2.1142995,
          0.14208126,
          2.7492979,
          4.6055245,
          -1.4308013,
          1.4907434,
          -0.2939856,
          -1.6963274,
          -1.6074408,
          1.582389
         ],
         "y": [
          -0.31370103,
          -0.25915888,
          -0.39606005,
          -0.10362815,
          -0.01040154,
          -0.34722152,
          -0.28278324,
          -0.39426595,
          -0.10361184,
          -0.3025724,
          -0.2793912,
          -0.34466165,
          -0.30204126,
          -0.33969596,
          -0.20356095,
          -0.36769056,
          -0.3622061,
          -0.18131323,
          -0.34413686,
          -0.14442302,
          -0.12836212,
          -0.32872474,
          -0.26925188,
          -0.29416978,
          -0.40062207,
          -0.29482254,
          -0.29547068,
          -0.28868002,
          0.12414678,
          -0.08897248,
          -0.36801758,
          -0.4849042,
          -0.41189656,
          -0.13472036,
          -0.2879054,
          -0.19790667,
          -0.28966367,
          -0.30687988,
          -0.27224565,
          -0.12281272,
          -0.24937491,
          -0.20352581,
          -0.25795043,
          -0.28812093,
          -0.17060708,
          -0.2352294,
          -0.16123848,
          0.21150273,
          -0.46212837,
          -0.01892252,
          -0.2822392,
          -0.5113116,
          -0.2910557,
          -0.36676607,
          0.24273285,
          -0.6058522,
          -0.38885435
         ],
         "z": [
          -0.20538722,
          -0.17831929,
          -0.34414628,
          0.077543385,
          0.13044336,
          -0.17868702,
          -0.081445254,
          -0.36401933,
          0.060954753,
          -0.10686796,
          0.025847353,
          -0.2836991,
          -0.22097434,
          -0.11571581,
          -0.09600081,
          -0.30607536,
          -0.30708528,
          -0.07338276,
          -0.19478446,
          -0.03428153,
          -0.16759579,
          -0.24462913,
          -0.16839737,
          -0.21701147,
          -0.35503763,
          0.0012918296,
          0.026349634,
          -0.20353217,
          0.296659,
          0.06950864,
          -0.23234637,
          -0.4251825,
          -0.1921903,
          0.09172786,
          0.02581544,
          0.06640635,
          -0.06458403,
          0.0021374745,
          0.02972008,
          0.13800249,
          0.019267648,
          -0.10060041,
          0.0072471993,
          -0.21362369,
          -0.18847275,
          -0.019312052,
          0.007887185,
          0.5212193,
          -0.38830295,
          0.2592977,
          0.027701495,
          -0.49443153,
          -0.1465827,
          -0.29148516,
          0.44364122,
          -0.6122331,
          -0.2679477
         ]
        },
        {
         "customdata": [
          [
           12.29
          ],
          [
           14.02
          ],
          [
           13.87
          ],
          [
           12.47
          ],
          [
           13.71
          ],
          [
           13.68
          ],
          [
           13.83
          ],
          [
           14.75
          ],
          [
           13.86
          ],
          [
           14.83
          ],
          [
           13.2
          ],
          [
           12.85
          ],
          [
           13.51
          ],
          [
           13.28
          ],
          [
           12.45
          ],
          [
           12.99
          ],
          [
           11.96
          ],
          [
           14.22
          ],
          [
           13.56
          ],
          [
           13.74
          ],
          [
           13.05
          ],
          [
           14.1
          ],
          [
           13.9
          ],
          [
           14.38
          ],
          [
           14.21
          ],
          [
           13.05
          ],
          [
           13.88
          ],
          [
           13.41
          ],
          [
           13.07
          ],
          [
           13.05
          ],
          [
           13.48
          ],
          [
           14.23
          ]
         ],
         "hovertemplate": "Cluster=Cluster 3<br>0=%{x}<br>1=%{y}<br>2=%{z}<br>Feature=%{customdata[0]}<extra></extra>",
         "legendgroup": "Cluster 3",
         "marker": {
          "color": "#ab63fa",
          "opacity": 0.7,
          "symbol": "circle"
         },
         "mode": "markers",
         "name": "Cluster 3",
         "scene": "scene",
         "showlegend": true,
         "type": "scatter3d",
         "x": [
          5.1360693,
          7.951853,
          5.8630385,
          6.3120008,
          7.936873,
          7.262424,
          9.396227,
          9.686679,
          8.120687,
          8.133301,
          8.204842,
          7.6434255,
          8.901987,
          5.292915,
          5.292593,
          7.0954957,
          5.3862367,
          6.8994136,
          9.254046,
          8.3514385,
          9.686358,
          8.3736315,
          7.1879044,
          8.462488,
          8.679812,
          5.3713884,
          8.905946,
          7.9692183,
          7.7119064,
          9.04618,
          5.945577,
          8.430897
         ],
         "y": [
          -0.3042346,
          -0.5534454,
          -0.31879914,
          -0.3318126,
          -0.41132715,
          -0.34511414,
          -0.40310022,
          -0.39706865,
          -0.12788765,
          -0.16398484,
          -0.5929114,
          -0.3382141,
          -0.355751,
          -0.3060768,
          -0.3083382,
          -0.35418436,
          -0.30928826,
          -0.34087813,
          -0.40289247,
          -0.43249816,
          -0.39751244,
          -0.12428497,
          -0.34228137,
          -0.37079352,
          -0.54766273,
          -0.30825612,
          -0.32092834,
          -0.3023335,
          -0.35073146,
          -0.3585721,
          -0.3202726,
          -0.55144596
         ],
         "z": [
          0.029436044,
          0.027780937,
          0.051995225,
          0.07857524,
          0.2978831,
          0.09058256,
          0.18882957,
          0.19002841,
          0.21009384,
          -0.026606714,
          -0.012122877,
          0.094108,
          0.19365981,
          0.03680304,
          0.0323623,
          0.1168273,
          0.037063316,
          0.085063785,
          0.19095866,
          0.4107369,
          0.1902295,
          0.19535999,
          0.083827235,
          -0.10081599,
          0.10477908,
          0.038208414,
          0.11224589,
          -0.12123808,
          0.13750982,
          0.13869183,
          0.0529864,
          0.40742913
         ]
        }
       ],
       "layout": {
        "height": 800,
        "legend": {
         "title": {
          "text": "Cluster"
         },
         "tracegroupgap": 0
        },
        "scene": {
         "domain": {
          "x": [
           0,
           1
          ],
          "y": [
           0,
           1
          ]
         },
         "xaxis": {
          "title": {
           "text": "0"
          }
         },
         "yaxis": {
          "title": {
           "text": "1"
          }
         },
         "zaxis": {
          "title": {
           "text": "2"
          }
         }
        },
        "template": {
         "data": {
          "bar": [
           {
            "error_x": {
             "color": "#2a3f5f"
            },
            "error_y": {
             "color": "#2a3f5f"
            },
            "marker": {
             "line": {
              "color": "#E5ECF6",
              "width": 0.5
             },
             "pattern": {
              "fillmode": "overlay",
              "size": 10,
              "solidity": 0.2
             }
            },
            "type": "bar"
           }
          ],
          "barpolar": [
           {
            "marker": {
             "line": {
              "color": "#E5ECF6",
              "width": 0.5
             },
             "pattern": {
              "fillmode": "overlay",
              "size": 10,
              "solidity": 0.2
             }
            },
            "type": "barpolar"
           }
          ],
          "carpet": [
           {
            "aaxis": {
             "endlinecolor": "#2a3f5f",
             "gridcolor": "white",
             "linecolor": "white",
             "minorgridcolor": "white",
             "startlinecolor": "#2a3f5f"
            },
            "baxis": {
             "endlinecolor": "#2a3f5f",
             "gridcolor": "white",
             "linecolor": "white",
             "minorgridcolor": "white",
             "startlinecolor": "#2a3f5f"
            },
            "type": "carpet"
           }
          ],
          "choropleth": [
           {
            "colorbar": {
             "outlinewidth": 0,
             "ticks": ""
            },
            "type": "choropleth"
           }
          ],
          "contour": [
           {
            "colorbar": {
             "outlinewidth": 0,
             "ticks": ""
            },
            "colorscale": [
             [
              0,
              "#0d0887"
             ],
             [
              0.1111111111111111,
              "#46039f"
             ],
             [
              0.2222222222222222,
              "#7201a8"
             ],
             [
              0.3333333333333333,
              "#9c179e"
             ],
             [
              0.4444444444444444,
              "#bd3786"
             ],
             [
              0.5555555555555556,
              "#d8576b"
             ],
             [
              0.6666666666666666,
              "#ed7953"
             ],
             [
              0.7777777777777778,
              "#fb9f3a"
             ],
             [
              0.8888888888888888,
              "#fdca26"
             ],
             [
              1,
              "#f0f921"
             ]
            ],
            "type": "contour"
           }
          ],
          "contourcarpet": [
           {
            "colorbar": {
             "outlinewidth": 0,
             "ticks": ""
            },
            "type": "contourcarpet"
           }
          ],
          "heatmap": [
           {
            "colorbar": {
             "outlinewidth": 0,
             "ticks": ""
            },
            "colorscale": [
             [
              0,
              "#0d0887"
             ],
             [
              0.1111111111111111,
              "#46039f"
             ],
             [
              0.2222222222222222,
              "#7201a8"
             ],
             [
              0.3333333333333333,
              "#9c179e"
             ],
             [
              0.4444444444444444,
              "#bd3786"
             ],
             [
              0.5555555555555556,
              "#d8576b"
             ],
             [
              0.6666666666666666,
              "#ed7953"
             ],
             [
              0.7777777777777778,
              "#fb9f3a"
             ],
             [
              0.8888888888888888,
              "#fdca26"
             ],
             [
              1,
              "#f0f921"
             ]
            ],
            "type": "heatmap"
           }
          ],
          "heatmapgl": [
           {
            "colorbar": {
             "outlinewidth": 0,
             "ticks": ""
            },
            "colorscale": [
             [
              0,
              "#0d0887"
             ],
             [
              0.1111111111111111,
              "#46039f"
             ],
             [
              0.2222222222222222,
              "#7201a8"
             ],
             [
              0.3333333333333333,
              "#9c179e"
             ],
             [
              0.4444444444444444,
              "#bd3786"
             ],
             [
              0.5555555555555556,
              "#d8576b"
             ],
             [
              0.6666666666666666,
              "#ed7953"
             ],
             [
              0.7777777777777778,
              "#fb9f3a"
             ],
             [
              0.8888888888888888,
              "#fdca26"
             ],
             [
              1,
              "#f0f921"
             ]
            ],
            "type": "heatmapgl"
           }
          ],
          "histogram": [
           {
            "marker": {
             "pattern": {
              "fillmode": "overlay",
              "size": 10,
              "solidity": 0.2
             }
            },
            "type": "histogram"
           }
          ],
          "histogram2d": [
           {
            "colorbar": {
             "outlinewidth": 0,
             "ticks": ""
            },
            "colorscale": [
             [
              0,
              "#0d0887"
             ],
             [
              0.1111111111111111,
              "#46039f"
             ],
             [
              0.2222222222222222,
              "#7201a8"
             ],
             [
              0.3333333333333333,
              "#9c179e"
             ],
             [
              0.4444444444444444,
              "#bd3786"
             ],
             [
              0.5555555555555556,
              "#d8576b"
             ],
             [
              0.6666666666666666,
              "#ed7953"
             ],
             [
              0.7777777777777778,
              "#fb9f3a"
             ],
             [
              0.8888888888888888,
              "#fdca26"
             ],
             [
              1,
              "#f0f921"
             ]
            ],
            "type": "histogram2d"
           }
          ],
          "histogram2dcontour": [
           {
            "colorbar": {
             "outlinewidth": 0,
             "ticks": ""
            },
            "colorscale": [
             [
              0,
              "#0d0887"
             ],
             [
              0.1111111111111111,
              "#46039f"
             ],
             [
              0.2222222222222222,
              "#7201a8"
             ],
             [
              0.3333333333333333,
              "#9c179e"
             ],
             [
              0.4444444444444444,
              "#bd3786"
             ],
             [
              0.5555555555555556,
              "#d8576b"
             ],
             [
              0.6666666666666666,
              "#ed7953"
             ],
             [
              0.7777777777777778,
              "#fb9f3a"
             ],
             [
              0.8888888888888888,
              "#fdca26"
             ],
             [
              1,
              "#f0f921"
             ]
            ],
            "type": "histogram2dcontour"
           }
          ],
          "mesh3d": [
           {
            "colorbar": {
             "outlinewidth": 0,
             "ticks": ""
            },
            "type": "mesh3d"
           }
          ],
          "parcoords": [
           {
            "line": {
             "colorbar": {
              "outlinewidth": 0,
              "ticks": ""
             }
            },
            "type": "parcoords"
           }
          ],
          "pie": [
           {
            "automargin": true,
            "type": "pie"
           }
          ],
          "scatter": [
           {
            "fillpattern": {
             "fillmode": "overlay",
             "size": 10,
             "solidity": 0.2
            },
            "type": "scatter"
           }
          ],
          "scatter3d": [
           {
            "line": {
             "colorbar": {
              "outlinewidth": 0,
              "ticks": ""
             }
            },
            "marker": {
             "colorbar": {
              "outlinewidth": 0,
              "ticks": ""
             }
            },
            "type": "scatter3d"
           }
          ],
          "scattercarpet": [
           {
            "marker": {
             "colorbar": {
              "outlinewidth": 0,
              "ticks": ""
             }
            },
            "type": "scattercarpet"
           }
          ],
          "scattergeo": [
           {
            "marker": {
             "colorbar": {
              "outlinewidth": 0,
              "ticks": ""
             }
            },
            "type": "scattergeo"
           }
          ],
          "scattergl": [
           {
            "marker": {
             "colorbar": {
              "outlinewidth": 0,
              "ticks": ""
             }
            },
            "type": "scattergl"
           }
          ],
          "scattermapbox": [
           {
            "marker": {
             "colorbar": {
              "outlinewidth": 0,
              "ticks": ""
             }
            },
            "type": "scattermapbox"
           }
          ],
          "scatterpolar": [
           {
            "marker": {
             "colorbar": {
              "outlinewidth": 0,
              "ticks": ""
             }
            },
            "type": "scatterpolar"
           }
          ],
          "scatterpolargl": [
           {
            "marker": {
             "colorbar": {
              "outlinewidth": 0,
              "ticks": ""
             }
            },
            "type": "scatterpolargl"
           }
          ],
          "scatterternary": [
           {
            "marker": {
             "colorbar": {
              "outlinewidth": 0,
              "ticks": ""
             }
            },
            "type": "scatterternary"
           }
          ],
          "surface": [
           {
            "colorbar": {
             "outlinewidth": 0,
             "ticks": ""
            },
            "colorscale": [
             [
              0,
              "#0d0887"
             ],
             [
              0.1111111111111111,
              "#46039f"
             ],
             [
              0.2222222222222222,
              "#7201a8"
             ],
             [
              0.3333333333333333,
              "#9c179e"
             ],
             [
              0.4444444444444444,
              "#bd3786"
             ],
             [
              0.5555555555555556,
              "#d8576b"
             ],
             [
              0.6666666666666666,
              "#ed7953"
             ],
             [
              0.7777777777777778,
              "#fb9f3a"
             ],
             [
              0.8888888888888888,
              "#fdca26"
             ],
             [
              1,
              "#f0f921"
             ]
            ],
            "type": "surface"
           }
          ],
          "table": [
           {
            "cells": {
             "fill": {
              "color": "#EBF0F8"
             },
             "line": {
              "color": "white"
             }
            },
            "header": {
             "fill": {
              "color": "#C8D4E3"
             },
             "line": {
              "color": "white"
             }
            },
            "type": "table"
           }
          ]
         },
         "layout": {
          "annotationdefaults": {
           "arrowcolor": "#2a3f5f",
           "arrowhead": 0,
           "arrowwidth": 1
          },
          "autotypenumbers": "strict",
          "coloraxis": {
           "colorbar": {
            "outlinewidth": 0,
            "ticks": ""
           }
          },
          "colorscale": {
           "diverging": [
            [
             0,
             "#8e0152"
            ],
            [
             0.1,
             "#c51b7d"
            ],
            [
             0.2,
             "#de77ae"
            ],
            [
             0.3,
             "#f1b6da"
            ],
            [
             0.4,
             "#fde0ef"
            ],
            [
             0.5,
             "#f7f7f7"
            ],
            [
             0.6,
             "#e6f5d0"
            ],
            [
             0.7,
             "#b8e186"
            ],
            [
             0.8,
             "#7fbc41"
            ],
            [
             0.9,
             "#4d9221"
            ],
            [
             1,
             "#276419"
            ]
           ],
           "sequential": [
            [
             0,
             "#0d0887"
            ],
            [
             0.1111111111111111,
             "#46039f"
            ],
            [
             0.2222222222222222,
             "#7201a8"
            ],
            [
             0.3333333333333333,
             "#9c179e"
            ],
            [
             0.4444444444444444,
             "#bd3786"
            ],
            [
             0.5555555555555556,
             "#d8576b"
            ],
            [
             0.6666666666666666,
             "#ed7953"
            ],
            [
             0.7777777777777778,
             "#fb9f3a"
            ],
            [
             0.8888888888888888,
             "#fdca26"
            ],
            [
             1,
             "#f0f921"
            ]
           ],
           "sequentialminus": [
            [
             0,
             "#0d0887"
            ],
            [
             0.1111111111111111,
             "#46039f"
            ],
            [
             0.2222222222222222,
             "#7201a8"
            ],
            [
             0.3333333333333333,
             "#9c179e"
            ],
            [
             0.4444444444444444,
             "#bd3786"
            ],
            [
             0.5555555555555556,
             "#d8576b"
            ],
            [
             0.6666666666666666,
             "#ed7953"
            ],
            [
             0.7777777777777778,
             "#fb9f3a"
            ],
            [
             0.8888888888888888,
             "#fdca26"
            ],
            [
             1,
             "#f0f921"
            ]
           ]
          },
          "colorway": [
           "#636efa",
           "#EF553B",
           "#00cc96",
           "#ab63fa",
           "#FFA15A",
           "#19d3f3",
           "#FF6692",
           "#B6E880",
           "#FF97FF",
           "#FECB52"
          ],
          "font": {
           "color": "#2a3f5f"
          },
          "geo": {
           "bgcolor": "white",
           "lakecolor": "white",
           "landcolor": "#E5ECF6",
           "showlakes": true,
           "showland": true,
           "subunitcolor": "white"
          },
          "hoverlabel": {
           "align": "left"
          },
          "hovermode": "closest",
          "mapbox": {
           "style": "light"
          },
          "paper_bgcolor": "white",
          "plot_bgcolor": "#E5ECF6",
          "polar": {
           "angularaxis": {
            "gridcolor": "white",
            "linecolor": "white",
            "ticks": ""
           },
           "bgcolor": "#E5ECF6",
           "radialaxis": {
            "gridcolor": "white",
            "linecolor": "white",
            "ticks": ""
           }
          },
          "scene": {
           "xaxis": {
            "backgroundcolor": "#E5ECF6",
            "gridcolor": "white",
            "gridwidth": 2,
            "linecolor": "white",
            "showbackground": true,
            "ticks": "",
            "zerolinecolor": "white"
           },
           "yaxis": {
            "backgroundcolor": "#E5ECF6",
            "gridcolor": "white",
            "gridwidth": 2,
            "linecolor": "white",
            "showbackground": true,
            "ticks": "",
            "zerolinecolor": "white"
           },
           "zaxis": {
            "backgroundcolor": "#E5ECF6",
            "gridcolor": "white",
            "gridwidth": 2,
            "linecolor": "white",
            "showbackground": true,
            "ticks": "",
            "zerolinecolor": "white"
           }
          },
          "shapedefaults": {
           "line": {
            "color": "#2a3f5f"
           }
          },
          "ternary": {
           "aaxis": {
            "gridcolor": "white",
            "linecolor": "white",
            "ticks": ""
           },
           "baxis": {
            "gridcolor": "white",
            "linecolor": "white",
            "ticks": ""
           },
           "bgcolor": "#E5ECF6",
           "caxis": {
            "gridcolor": "white",
            "linecolor": "white",
            "ticks": ""
           }
          },
          "title": {
           "x": 0.05
          },
          "xaxis": {
           "automargin": true,
           "gridcolor": "white",
           "linecolor": "white",
           "ticks": "",
           "title": {
            "standoff": 15
           },
           "zerolinecolor": "white",
           "zerolinewidth": 2
          },
          "yaxis": {
           "automargin": true,
           "gridcolor": "white",
           "linecolor": "white",
           "ticks": "",
           "title": {
            "standoff": 15
           },
           "zerolinecolor": "white",
           "zerolinewidth": 2
          }
         }
        },
        "title": {
         "text": "3d TSNE Plot for Clusters"
        },
        "width": 900
       }
      }
     },
     "metadata": {},
     "output_type": "display_data"
    },
    {
     "data": {
      "application/vnd.plotly.v1+json": {
       "config": {
        "plotlyServerURL": "https://plot.ly"
       },
       "data": [
        {
         "alignmentgroup": "True",
         "bingroup": "x",
         "hovertemplate": "Cluster=%{x}<br>count=%{y}<extra></extra>",
         "legendgroup": "Cluster 0",
         "marker": {
          "color": "#636efa",
          "opacity": 0.7,
          "pattern": {
           "shape": ""
          }
         },
         "name": "Cluster 0",
         "offsetgroup": "Cluster 0",
         "orientation": "v",
         "showlegend": true,
         "type": "histogram",
         "x": [
          "Cluster 0",
          "Cluster 0",
          "Cluster 0",
          "Cluster 0",
          "Cluster 0",
          "Cluster 0",
          "Cluster 0",
          "Cluster 0",
          "Cluster 0",
          "Cluster 0",
          "Cluster 0",
          "Cluster 0",
          "Cluster 0",
          "Cluster 0",
          "Cluster 0",
          "Cluster 0",
          "Cluster 0",
          "Cluster 0",
          "Cluster 0",
          "Cluster 0",
          "Cluster 0",
          "Cluster 0",
          "Cluster 0"
         ],
         "xaxis": "x",
         "yaxis": "y"
        },
        {
         "alignmentgroup": "True",
         "customdata": [
          [
           13.760000228881836,
           1.5299999713897705,
           2.700000047683716,
           19.5,
           132,
           2.950000047683716,
           2.740000009536743,
           0.5,
           1.350000023841858,
           5.400000095367432,
           1.25,
           3,
           1235
          ],
          [
           13.9399995803833,
           1.7300000190734863,
           2.2699999809265137,
           17.399999618530273,
           108,
           2.880000114440918,
           3.5399999618530273,
           0.3199999928474426,
           2.0799999237060547,
           8.899999618530273,
           1.1200000047683716,
           3.0999999046325684,
           1260
          ],
          [
           13.579999923706055,
           1.659999966621399,
           2.359999895095825,
           19.100000381469727,
           106,
           2.859999895095825,
           3.190000057220459,
           0.2199999988079071,
           1.9500000476837158,
           6.900000095367432,
           1.090000033378601,
           2.880000114440918,
           1515
          ],
          [
           13.729999542236328,
           1.5,
           2.700000047683716,
           22.5,
           101,
           3,
           3.25,
           0.28999999165534973,
           2.380000114440918,
           5.699999809265137,
           1.190000057220459,
           2.7100000381469727,
           1285
          ],
          [
           13.829999923706055,
           1.649999976158142,
           2.5999999046325684,
           17.200000762939453,
           94,
           2.450000047683716,
           2.990000009536743,
           0.2199999988079071,
           2.2899999618530273,
           5.599999904632568,
           1.2400000095367432,
           3.369999885559082,
           1265
          ],
          [
           13.300000190734863,
           1.7200000286102295,
           2.140000104904175,
           17,
           94,
           2.4000000953674316,
           2.190000057220459,
           0.27000001072883606,
           1.350000023841858,
           3.950000047683716,
           1.0199999809265137,
           2.7699999809265137,
           1285
          ],
          [
           13.390000343322754,
           1.7699999809265137,
           2.619999885559082,
           16.100000381469727,
           93,
           2.8499999046325684,
           2.940000057220459,
           0.3400000035762787,
           1.4500000476837158,
           4.800000190734863,
           0.9200000166893005,
           3.2200000286102295,
           1195
          ],
          [
           13.819999694824219,
           1.75,
           2.4200000762939453,
           14,
           111,
           3.880000114440918,
           3.740000009536743,
           0.3199999928474426,
           1.8700000047683716,
           7.050000190734863,
           1.0099999904632568,
           3.259999990463257,
           1190
          ],
          [
           13.770000457763672,
           1.899999976158142,
           2.680000066757202,
           17.100000381469727,
           115,
           3,
           2.7899999618530273,
           0.38999998569488525,
           1.6799999475479126,
           6.300000190734863,
           1.1299999952316284,
           2.930000066757202,
           1375
          ],
          [
           13.720000267028809,
           1.4299999475479126,
           2.5,
           16.700000762939453,
           108,
           3.4000000953674316,
           3.6700000762939453,
           0.1899999976158142,
           2.0399999618530273,
           6.800000190734863,
           0.8899999856948853,
           2.869999885559082,
           1285
          ],
          [
           14.1899995803833,
           1.590000033378601,
           2.4800000190734863,
           16.5,
           108,
           3.299999952316284,
           3.930000066757202,
           0.3199999928474426,
           1.8600000143051147,
           8.699999809265137,
           1.2300000190734863,
           2.819999933242798,
           1680
          ],
          [
           14.300000190734863,
           1.9199999570846558,
           2.7200000286102295,
           20,
           120,
           2.799999952316284,
           3.140000104904175,
           0.33000001311302185,
           1.9700000286102295,
           6.199999809265137,
           1.0700000524520874,
           2.6500000953674316,
           1280
          ],
          [
           13.630000114440918,
           1.809999942779541,
           2.700000047683716,
           17.200000762939453,
           112,
           2.8499999046325684,
           2.9100000858306885,
           0.30000001192092896,
           1.4600000381469727,
           7.300000190734863,
           1.2799999713897705,
           2.880000114440918,
           1310
          ],
          [
           14.380000114440918,
           1.8700000047683716,
           2.380000114440918,
           12,
           102,
           3.299999952316284,
           3.640000104904175,
           0.28999999165534973,
           2.9600000381469727,
           7.5,
           1.2000000476837158,
           3,
           1547
          ],
          [
           13.289999961853027,
           1.9700000286102295,
           2.680000066757202,
           16.799999237060547,
           102,
           3,
           3.2300000190734863,
           0.3100000023841858,
           1.659999966621399,
           6,
           1.0700000524520874,
           2.8399999141693115,
           1270
          ],
          [
           13.75,
           1.7300000190734863,
           2.4100000858306885,
           16,
           89,
           2.5999999046325684,
           2.759999990463257,
           0.28999999165534973,
           1.809999942779541,
           5.599999904632568,
           1.149999976158142,
           2.9000000953674316,
           1320
          ],
          [
           13.15999984741211,
           2.359999895095825,
           2.6700000762939453,
           18.600000381469727,
           101,
           2.799999952316284,
           3.240000009536743,
           0.30000001192092896,
           2.809999942779541,
           5.679999828338623,
           1.0299999713897705,
           3.1700000762939453,
           1185
          ],
          [
           14.369999885559082,
           1.9500000476837158,
           2.5,
           16.799999237060547,
           113,
           3.8499999046325684,
           3.490000009536743,
           0.23999999463558197,
           2.180000066757202,
           7.800000190734863,
           0.8600000143051147,
           3.450000047683716,
           1480
          ],
          [
           14.390000343322754,
           1.8700000047683716,
           2.450000047683716,
           14.600000381469727,
           96,
           2.5,
           2.5199999809265137,
           0.30000001192092896,
           1.9800000190734863,
           5.25,
           1.0199999809265137,
           3.5799999237060547,
           1290
          ],
          [
           14.0600004196167,
           2.1500000953674316,
           2.609999895095825,
           17.600000381469727,
           121,
           2.5999999046325684,
           2.509999990463257,
           0.3100000023841858,
           1.25,
           5.050000190734863,
           1.059999942779541,
           3.5799999237060547,
           1295
          ],
          [
           14.199999809265137,
           1.7599999904632568,
           2.450000047683716,
           15.199999809265137,
           112,
           3.2699999809265137,
           3.390000104904175,
           0.3400000035762787,
           1.9700000286102295,
           6.75,
           1.0499999523162842,
           2.8499999046325684,
           1450
          ],
          [
           14.100000381469727,
           2.1600000858306885,
           2.299999952316284,
           18,
           105,
           2.950000047683716,
           3.319999933242798,
           0.2199999988079071,
           2.380000114440918,
           5.75,
           1.25,
           3.1700000762939453,
           1510
          ],
          [
           14.119999885559082,
           1.4800000190734863,
           2.319999933242798,
           16.799999237060547,
           95,
           2.200000047683716,
           2.430000066757202,
           0.25999999046325684,
           1.5700000524520874,
           5,
           1.1699999570846558,
           2.819999933242798,
           1280
          ]
         ],
         "hovertemplate": "Cluster=%{x}<br>Alcohol=%{customdata[0]}<br>Malic_Acid=%{customdata[1]}<br>Ash=%{customdata[2]}<br>Ash_Alcanity=%{customdata[3]}<br>Magnesium=%{customdata[4]}<br>Total_Phenols=%{customdata[5]}<br>Flavanoids=%{customdata[6]}<br>Nonflavanoid_Phenols=%{customdata[7]}<br>Proanthocyanins=%{customdata[8]}<br>Color_Intensity=%{customdata[9]}<br>Hue=%{customdata[10]}<br>OD280=%{customdata[11]}<br>Proline=%{customdata[12]}<extra></extra>",
         "legendgroup": "Cluster 0",
         "marker": {
          "color": "#636efa"
         },
         "name": "Cluster 0",
         "notched": true,
         "offsetgroup": "Cluster 0",
         "showlegend": false,
         "type": "box",
         "x": [
          "Cluster 0",
          "Cluster 0",
          "Cluster 0",
          "Cluster 0",
          "Cluster 0",
          "Cluster 0",
          "Cluster 0",
          "Cluster 0",
          "Cluster 0",
          "Cluster 0",
          "Cluster 0",
          "Cluster 0",
          "Cluster 0",
          "Cluster 0",
          "Cluster 0",
          "Cluster 0",
          "Cluster 0",
          "Cluster 0",
          "Cluster 0",
          "Cluster 0",
          "Cluster 0",
          "Cluster 0",
          "Cluster 0"
         ],
         "xaxis": "x2",
         "yaxis": "y2"
        },
        {
         "alignmentgroup": "True",
         "bingroup": "x",
         "hovertemplate": "Cluster=%{x}<br>count=%{y}<extra></extra>",
         "legendgroup": "Cluster 1",
         "marker": {
          "color": "#EF553B",
          "opacity": 0.7,
          "pattern": {
           "shape": ""
          }
         },
         "name": "Cluster 1",
         "offsetgroup": "Cluster 1",
         "orientation": "v",
         "showlegend": true,
         "type": "histogram",
         "x": [
          "Cluster 1",
          "Cluster 1",
          "Cluster 1",
          "Cluster 1",
          "Cluster 1",
          "Cluster 1",
          "Cluster 1",
          "Cluster 1",
          "Cluster 1",
          "Cluster 1",
          "Cluster 1",
          "Cluster 1",
          "Cluster 1",
          "Cluster 1",
          "Cluster 1",
          "Cluster 1",
          "Cluster 1",
          "Cluster 1",
          "Cluster 1",
          "Cluster 1",
          "Cluster 1",
          "Cluster 1",
          "Cluster 1",
          "Cluster 1",
          "Cluster 1",
          "Cluster 1",
          "Cluster 1",
          "Cluster 1",
          "Cluster 1",
          "Cluster 1",
          "Cluster 1",
          "Cluster 1",
          "Cluster 1",
          "Cluster 1",
          "Cluster 1",
          "Cluster 1",
          "Cluster 1",
          "Cluster 1",
          "Cluster 1",
          "Cluster 1",
          "Cluster 1",
          "Cluster 1",
          "Cluster 1",
          "Cluster 1",
          "Cluster 1",
          "Cluster 1",
          "Cluster 1",
          "Cluster 1",
          "Cluster 1",
          "Cluster 1",
          "Cluster 1",
          "Cluster 1",
          "Cluster 1",
          "Cluster 1",
          "Cluster 1",
          "Cluster 1",
          "Cluster 1",
          "Cluster 1",
          "Cluster 1",
          "Cluster 1",
          "Cluster 1",
          "Cluster 1",
          "Cluster 1",
          "Cluster 1",
          "Cluster 1",
          "Cluster 1"
         ],
         "xaxis": "x",
         "yaxis": "y"
        },
        {
         "alignmentgroup": "True",
         "customdata": [
          [
           12,
           0.9200000166893005,
           2,
           19,
           86,
           2.4200000762939453,
           2.259999990463257,
           0.30000001192092896,
           1.4299999475479126,
           2.5,
           1.3799999952316284,
           3.119999885559082,
           278
          ],
          [
           12,
           1.5099999904632568,
           2.4200000762939453,
           22,
           86,
           1.4500000476837158,
           1.25,
           0.5,
           1.6299999952316284,
           3.5999999046325684,
           1.0499999523162842,
           2.6500000953674316,
           450
          ],
          [
           12.079999923706055,
           1.8300000429153442,
           2.319999933242798,
           18.5,
           81,
           1.600000023841858,
           1.5,
           0.5199999809265137,
           1.6399999856948853,
           2.4000000953674316,
           1.0800000429153442,
           2.2699999809265137,
           480
          ],
          [
           11.789999961853027,
           2.130000114440918,
           2.7799999713897705,
           28.5,
           92,
           2.130000114440918,
           2.240000009536743,
           0.5799999833106995,
           1.7599999904632568,
           3,
           0.9700000286102295,
           2.440000057220459,
           466
          ],
          [
           12.369999885559082,
           1.6299999952316284,
           2.299999952316284,
           24.5,
           88,
           2.2200000286102295,
           2.450000047683716,
           0.4000000059604645,
           1.899999976158142,
           2.119999885559082,
           0.8899999856948853,
           2.7799999713897705,
           342
          ],
          [
           11.649999618530273,
           1.6699999570846558,
           2.619999885559082,
           26,
           88,
           1.9199999570846558,
           1.6100000143051147,
           0.4000000059604645,
           1.340000033378601,
           2.5999999046325684,
           1.3600000143051147,
           3.2100000381469727,
           562
          ],
          [
           12.15999984741211,
           1.6100000143051147,
           2.309999942779541,
           22.799999237060547,
           90,
           1.7799999713897705,
           1.690000057220459,
           0.4300000071525574,
           1.559999942779541,
           2.450000047683716,
           1.3300000429153442,
           2.259999990463257,
           495
          ],
          [
           12.8100004196167,
           2.309999942779541,
           2.4000000953674316,
           24,
           98,
           1.149999976158142,
           1.090000033378601,
           0.27000001072883606,
           0.8299999833106995,
           5.699999809265137,
           0.6600000262260437,
           1.3600000143051147,
           560
          ],
          [
           12.699999809265137,
           3.869999885559082,
           2.4000000953674316,
           23,
           101,
           2.8299999237060547,
           2.549999952316284,
           0.4300000071525574,
           1.9500000476837158,
           2.569999933242798,
           1.190000057220459,
           3.130000114440918,
           463
          ],
          [
           12.670000076293945,
           0.9800000190734863,
           2.240000009536743,
           18,
           99,
           2.200000047683716,
           1.940000057220459,
           0.30000001192092896,
           1.4600000381469727,
           2.619999885559082,
           1.2300000190734863,
           3.1600000858306885,
           450
          ],
          [
           11.65999984741211,
           1.8799999952316284,
           1.9199999570846558,
           16,
           97,
           1.6100000143051147,
           1.5700000524520874,
           0.3400000035762787,
           1.149999976158142,
           3.799999952316284,
           1.2300000190734863,
           2.140000104904175,
           428
          ],
          [
           12.880000114440918,
           2.990000009536743,
           2.4000000953674316,
           20,
           104,
           1.2999999523162842,
           1.2200000286102295,
           0.23999999463558197,
           0.8299999833106995,
           5.400000095367432,
           0.7400000095367432,
           1.4199999570846558,
           530
          ],
          [
           11.84000015258789,
           2.890000104904175,
           2.2300000190734863,
           18,
           112,
           1.7200000286102295,
           1.3200000524520874,
           0.4300000071525574,
           0.949999988079071,
           2.6500000953674316,
           0.9599999785423279,
           2.5199999809265137,
           500
          ],
          [
           13.029999732971191,
           0.8999999761581421,
           1.7100000381469727,
           16,
           86,
           1.9500000476837158,
           2.0299999713897705,
           0.23999999463558197,
           1.4600000381469727,
           4.599999904632568,
           1.190000057220459,
           2.4800000190734863,
           392
          ],
          [
           11.84000015258789,
           0.8899999856948853,
           2.5799999237060547,
           18,
           94,
           2.200000047683716,
           2.2100000381469727,
           0.2199999988079071,
           2.3499999046325684,
           3.049999952316284,
           0.7900000214576721,
           3.0799999237060547,
           520
          ],
          [
           13.050000190734863,
           3.859999895095825,
           2.319999933242798,
           22.5,
           85,
           1.649999976158142,
           1.590000033378601,
           0.6100000143051147,
           1.6200000047683716,
           4.800000190734863,
           0.8399999737739563,
           2.009999990463257,
           515
          ],
          [
           12.6899995803833,
           1.5299999713897705,
           2.259999990463257,
           20.700000762939453,
           80,
           1.3799999952316284,
           1.4600000381469727,
           0.5799999833106995,
           1.6200000047683716,
           3.049999952316284,
           0.9599999785423279,
           2.059999942779541,
           495
          ],
          [
           12.289999961853027,
           2.8299999237060547,
           2.2200000286102295,
           18,
           88,
           2.450000047683716,
           2.25,
           0.25,
           1.9900000095367432,
           2.1500000953674316,
           1.149999976158142,
           3.299999952316284,
           290
          ],
          [
           14.130000114440918,
           4.099999904632568,
           2.740000009536743,
           24.5,
           96,
           2.049999952316284,
           0.7599999904632568,
           0.5600000023841858,
           1.350000023841858,
           9.199999809265137,
           0.6100000143051147,
           1.600000023841858,
           560
          ],
          [
           12.430000305175781,
           1.5299999713897705,
           2.2899999618530273,
           21.5,
           86,
           2.740000009536743,
           3.1500000953674316,
           0.38999998569488525,
           1.7699999809265137,
           3.940000057220459,
           0.6899999976158142,
           2.8399999141693115,
           352
          ],
          [
           12.420000076293945,
           1.6100000143051147,
           2.190000057220459,
           22.5,
           108,
           2,
           2.0899999141693115,
           0.3400000035762787,
           1.6100000143051147,
           2.059999942779541,
           1.059999942779541,
           2.9600000381469727,
           345
          ],
          [
           11.819999694824219,
           1.4700000286102295,
           1.9900000095367432,
           20.799999237060547,
           86,
           1.9800000190734863,
           1.600000023841858,
           0.30000001192092896,
           1.5299999713897705,
           1.9500000476837158,
           0.949999988079071,
           3.3299999237060547,
           495
          ],
          [
           11.029999732971191,
           1.5099999904632568,
           2.200000047683716,
           21.5,
           85,
           2.4600000381469727,
           2.1700000762939453,
           0.5199999809265137,
           2.009999990463257,
           1.899999976158142,
           1.7100000381469727,
           2.869999885559082,
           407
          ],
          [
           12.079999923706055,
           1.3899999856948853,
           2.5,
           22.5,
           84,
           2.559999942779541,
           2.2899999618530273,
           0.4300000071525574,
           1.0399999618530273,
           2.9000000953674316,
           0.9300000071525574,
           3.190000057220459,
           385
          ],
          [
           11.40999984741211,
           0.7400000095367432,
           2.5,
           21,
           88,
           2.4800000190734863,
           2.009999990463257,
           0.41999998688697815,
           1.440000057220459,
           3.0799999237060547,
           1.100000023841858,
           2.309999942779541,
           434
          ],
          [
           12.520000457763672,
           2.430000066757202,
           2.1700000762939453,
           21,
           88,
           2.549999952316284,
           2.2699999809265137,
           0.25999999046325684,
           1.2200000286102295,
           2,
           0.8999999761581421,
           2.7799999713897705,
           325
          ],
          [
           11.460000038146973,
           3.740000009536743,
           1.8200000524520874,
           19.5,
           107,
           3.180000066757202,
           2.5799999237060547,
           0.23999999463558197,
           3.5799999237060547,
           2.9000000953674316,
           0.75,
           2.809999942779541,
           562
          ],
          [
           11.5600004196167,
           2.049999952316284,
           3.2300000190734863,
           28.5,
           119,
           3.180000066757202,
           5.079999923706055,
           0.4699999988079071,
           1.8700000047683716,
           6,
           0.9300000071525574,
           3.690000057220459,
           465
          ],
          [
           12.220000267028809,
           1.2899999618530273,
           1.940000057220459,
           19,
           92,
           2.359999895095825,
           2.0399999618530273,
           0.38999998569488525,
           2.0799999237060547,
           2.700000047683716,
           0.8600000143051147,
           3.0199999809265137,
           312
          ],
          [
           12.720000267028809,
           1.75,
           2.2799999713897705,
           22.5,
           84,
           1.3799999952316284,
           1.7599999904632568,
           0.47999998927116394,
           1.6299999952316284,
           3.299999952316284,
           0.8799999952316284,
           2.4200000762939453,
           488
          ],
          [
           11.619999885559082,
           1.9900000095367432,
           2.2799999713897705,
           18,
           98,
           3.0199999809265137,
           2.259999990463257,
           0.17000000178813934,
           1.350000023841858,
           3.25,
           1.159999966621399,
           2.9600000381469727,
           345
          ],
          [
           12.25,
           1.7300000190734863,
           2.119999885559082,
           19,
           80,
           1.649999976158142,
           2.0299999713897705,
           0.3700000047683716,
           1.6299999952316284,
           3.4000000953674316,
           1,
           3.1700000762939453,
           510
          ],
          [
           12.420000076293945,
           4.429999828338623,
           2.7300000190734863,
           26.5,
           102,
           2.200000047683716,
           2.130000114440918,
           0.4300000071525574,
           1.7100000381469727,
           2.0799999237060547,
           0.9200000166893005,
           3.119999885559082,
           365
          ],
          [
           11.819999694824219,
           1.7200000286102295,
           1.8799999952316284,
           19.5,
           86,
           2.5,
           1.6399999856948853,
           0.3700000047683716,
           1.4199999570846558,
           2.059999942779541,
           0.9399999976158142,
           2.440000057220459,
           415
          ],
          [
           12.34000015258789,
           2.450000047683716,
           2.4600000381469727,
           21,
           98,
           2.559999942779541,
           2.109999895095825,
           0.3400000035762787,
           1.309999942779541,
           2.799999952316284,
           0.800000011920929,
           3.380000114440918,
           438
          ],
          [
           12.600000381469727,
           1.340000033378601,
           1.899999976158142,
           18.5,
           88,
           1.4500000476837158,
           1.3600000143051147,
           0.28999999165534973,
           1.350000023841858,
           2.450000047683716,
           1.0399999618530273,
           2.7699999809265137,
           562
          ],
          [
           13.489999771118164,
           1.659999966621399,
           2.240000009536743,
           24,
           87,
           1.8799999952316284,
           1.840000033378601,
           0.27000001072883606,
           1.0299999713897705,
           3.740000009536743,
           0.9800000190734863,
           2.7799999713897705,
           472
          ],
          [
           13.050000190734863,
           5.800000190734863,
           2.130000114440918,
           21.5,
           86,
           2.619999885559082,
           2.6500000953674316,
           0.30000001192092896,
           2.009999990463257,
           2.5999999046325684,
           0.7300000190734863,
           3.0999999046325684,
           380
          ],
          [
           12.289999961853027,
           3.1700000762939453,
           2.2100000381469727,
           18,
           88,
           2.8499999046325684,
           2.990000009536743,
           0.44999998807907104,
           2.809999942779541,
           2.299999952316284,
           1.4199999570846558,
           2.8299999237060547,
           406
          ],
          [
           11.869999885559082,
           4.309999942779541,
           2.390000104904175,
           21,
           82,
           2.859999895095825,
           3.0299999713897705,
           0.20999999344348907,
           2.9100000858306885,
           2.799999952316284,
           0.75,
           3.640000104904175,
           380
          ],
          [
           12.289999961853027,
           1.409999966621399,
           1.9800000190734863,
           16,
           85,
           2.549999952316284,
           2.5,
           0.28999999165534973,
           1.7699999809265137,
           2.9000000953674316,
           1.2300000190734863,
           2.740000009536743,
           428
          ],
          [
           12.069999694824219,
           2.1600000858306885,
           2.1700000762939453,
           21,
           85,
           2.5999999046325684,
           2.6500000953674316,
           0.3700000047683716,
           1.350000023841858,
           2.759999990463257,
           0.8600000143051147,
           3.2799999713897705,
           378
          ],
          [
           12.420000076293945,
           2.549999952316284,
           2.2699999809265137,
           22,
           90,
           1.6799999475479126,
           1.840000033378601,
           0.6600000262260437,
           1.4199999570846558,
           2.700000047683716,
           0.8600000143051147,
           3.299999952316284,
           315
          ],
          [
           13.859999656677246,
           1.5099999904632568,
           2.6700000762939453,
           25,
           86,
           2.950000047683716,
           2.859999895095825,
           0.20999999344348907,
           1.8700000047683716,
           3.380000114440918,
           1.3600000143051147,
           3.1600000858306885,
           410
          ],
          [
           12.369999885559082,
           0.9399999976158142,
           1.3600000143051147,
           10.600000381469727,
           88,
           1.9800000190734863,
           0.5699999928474426,
           0.2800000011920929,
           0.41999998688697815,
           1.9500000476837158,
           1.0499999523162842,
           1.8200000524520874,
           520
          ],
          [
           12.789999961853027,
           2.6700000762939453,
           2.4800000190734863,
           22,
           112,
           1.4800000190734863,
           1.3600000143051147,
           0.23999999463558197,
           1.2599999904632568,
           10.800000190734863,
           0.47999998927116394,
           1.4700000286102295,
           480
          ],
          [
           12.770000457763672,
           2.390000104904175,
           2.2799999713897705,
           19.5,
           86,
           1.3899999856948853,
           0.5099999904632568,
           0.47999998927116394,
           0.6399999856948853,
           9.899998664855957,
           0.5699999928474426,
           1.6299999952316284,
           470
          ],
          [
           12.199999809265137,
           3.0299999713897705,
           2.319999933242798,
           19,
           96,
           1.25,
           0.49000000953674316,
           0.4000000059604645,
           0.7300000190734863,
           5.5,
           0.6600000262260437,
           1.8300000429153442,
           510
          ],
          [
           13.729999542236328,
           4.360000133514404,
           2.259999990463257,
           22.5,
           88,
           1.2799999713897705,
           0.4699999988079071,
           0.5199999809265137,
           1.149999976158142,
           6.619999885559082,
           0.7799999713897705,
           1.75,
           520
          ],
          [
           12.850000381469727,
           3.2699999809265137,
           2.5799999237060547,
           22,
           106,
           1.649999976158142,
           0.6000000238418579,
           0.6000000238418579,
           0.9599999785423279,
           5.579999923706055,
           0.8700000047683716,
           2.109999895095825,
           570
          ],
          [
           12.359999656677246,
           3.8299999237060547,
           2.380000114440918,
           21,
           88,
           2.299999952316284,
           0.9200000166893005,
           0.5,
           1.0399999618530273,
           7.650000095367432,
           0.5600000023841858,
           1.5800000429153442,
           520
          ],
          [
           13.84000015258789,
           4.119999885559082,
           2.380000114440918,
           19.5,
           89,
           1.7999999523162842,
           0.8299999833106995,
           0.47999998927116394,
           1.559999942779541,
           9.010000228881836,
           0.5699999928474426,
           1.6399999856948853,
           480
          ],
          [
           13.109999656677246,
           1.899999976158142,
           2.75,
           25.5,
           116,
           2.200000047683716,
           1.2799999713897705,
           0.25999999046325684,
           1.559999942779541,
           7.099999904632568,
           0.6100000143051147,
           1.3300000429153442,
           425
          ],
          [
           12.369999885559082,
           1.1699999570846558,
           1.9199999570846558,
           19.600000381469727,
           78,
           2.109999895095825,
           2,
           0.27000001072883606,
           1.0399999618530273,
           4.679999828338623,
           1.1200000047683716,
           3.4800000190734863,
           510
          ],
          [
           13.5,
           3.119999885559082,
           2.619999885559082,
           24,
           123,
           1.399999976158142,
           1.5700000524520874,
           0.2199999988079071,
           1.25,
           8.600000381469727,
           0.5899999737739563,
           1.2999999523162842,
           500
          ],
          [
           13.079999923706055,
           3.9000000953674316,
           2.359999895095825,
           21.5,
           113,
           1.409999966621399,
           1.3899999856948853,
           0.3400000035762787,
           1.1399999856948853,
           9.399999618530273,
           0.5699999928474426,
           1.3300000429153442,
           550
          ],
          [
           13.880000114440918,
           5.039999961853027,
           2.2300000190734863,
           20,
           80,
           0.9800000190734863,
           0.3400000035762787,
           0.4000000059604645,
           0.6800000071525574,
           4.900000095367432,
           0.5799999833106995,
           1.3300000429153442,
           415
          ],
          [
           13.619999885559082,
           4.949999809265137,
           2.3499999046325684,
           20,
           92,
           2,
           0.800000011920929,
           0.4699999988079071,
           1.0199999809265137,
           4.400000095367432,
           0.9100000262260437,
           2.049999952316284,
           550
          ],
          [
           13.520000457763672,
           3.1700000762939453,
           2.7200000286102295,
           23.5,
           97,
           1.5499999523162842,
           0.5199999809265137,
           0.5,
           0.550000011920929,
           4.349999904632568,
           0.8899999856948853,
           2.059999942779541,
           520
          ],
          [
           12,
           3.430000066757202,
           2,
           19,
           87,
           2,
           1.6399999856948853,
           0.3700000047683716,
           1.8700000047683716,
           1.2799999713897705,
           0.9300000071525574,
           3.049999952316284,
           564
          ],
          [
           12.640000343322754,
           1.3600000143051147,
           2.0199999809265137,
           16.799999237060547,
           100,
           2.0199999809265137,
           1.409999966621399,
           0.5299999713897705,
           0.6200000047683716,
           5.75,
           0.9800000190734863,
           1.590000033378601,
           450
          ],
          [
           13.109999656677246,
           1.0099999904632568,
           1.7000000476837158,
           15,
           78,
           2.9800000190734863,
           3.180000066757202,
           0.25999999046325684,
           2.2799999713897705,
           5.300000190734863,
           1.1200000047683716,
           3.180000066757202,
           502
          ],
          [
           12.170000076293945,
           1.4500000476837158,
           2.5299999713897705,
           19,
           104,
           1.8899999856948853,
           1.75,
           0.44999998807907104,
           1.0299999713897705,
           2.950000047683716,
           1.4500000476837158,
           2.2300000190734863,
           355
          ],
          [
           12.369999885559082,
           1.1299999952316284,
           2.1600000858306885,
           19,
           87,
           3.5,
           3.0999999046325684,
           0.1899999976158142,
           1.8700000047683716,
           4.449999809265137,
           1.2200000286102295,
           2.869999885559082,
           420
          ],
          [
           12.770000457763672,
           3.430000066757202,
           1.9800000190734863,
           16,
           80,
           1.6299999952316284,
           1.25,
           0.4300000071525574,
           0.8299999833106995,
           3.4000000953674316,
           0.699999988079071,
           2.119999885559082,
           372
          ],
          [
           12.529999732971191,
           5.510000228881836,
           2.640000104904175,
           25,
           96,
           1.7899999618530273,
           0.6000000238418579,
           0.6299999952316284,
           1.100000023841858,
           5,
           0.8199999928474426,
           1.690000057220459,
           515
          ]
         ],
         "hovertemplate": "Cluster=%{x}<br>Alcohol=%{customdata[0]}<br>Malic_Acid=%{customdata[1]}<br>Ash=%{customdata[2]}<br>Ash_Alcanity=%{customdata[3]}<br>Magnesium=%{customdata[4]}<br>Total_Phenols=%{customdata[5]}<br>Flavanoids=%{customdata[6]}<br>Nonflavanoid_Phenols=%{customdata[7]}<br>Proanthocyanins=%{customdata[8]}<br>Color_Intensity=%{customdata[9]}<br>Hue=%{customdata[10]}<br>OD280=%{customdata[11]}<br>Proline=%{customdata[12]}<extra></extra>",
         "legendgroup": "Cluster 1",
         "marker": {
          "color": "#EF553B"
         },
         "name": "Cluster 1",
         "notched": true,
         "offsetgroup": "Cluster 1",
         "showlegend": false,
         "type": "box",
         "x": [
          "Cluster 1",
          "Cluster 1",
          "Cluster 1",
          "Cluster 1",
          "Cluster 1",
          "Cluster 1",
          "Cluster 1",
          "Cluster 1",
          "Cluster 1",
          "Cluster 1",
          "Cluster 1",
          "Cluster 1",
          "Cluster 1",
          "Cluster 1",
          "Cluster 1",
          "Cluster 1",
          "Cluster 1",
          "Cluster 1",
          "Cluster 1",
          "Cluster 1",
          "Cluster 1",
          "Cluster 1",
          "Cluster 1",
          "Cluster 1",
          "Cluster 1",
          "Cluster 1",
          "Cluster 1",
          "Cluster 1",
          "Cluster 1",
          "Cluster 1",
          "Cluster 1",
          "Cluster 1",
          "Cluster 1",
          "Cluster 1",
          "Cluster 1",
          "Cluster 1",
          "Cluster 1",
          "Cluster 1",
          "Cluster 1",
          "Cluster 1",
          "Cluster 1",
          "Cluster 1",
          "Cluster 1",
          "Cluster 1",
          "Cluster 1",
          "Cluster 1",
          "Cluster 1",
          "Cluster 1",
          "Cluster 1",
          "Cluster 1",
          "Cluster 1",
          "Cluster 1",
          "Cluster 1",
          "Cluster 1",
          "Cluster 1",
          "Cluster 1",
          "Cluster 1",
          "Cluster 1",
          "Cluster 1",
          "Cluster 1",
          "Cluster 1",
          "Cluster 1",
          "Cluster 1",
          "Cluster 1",
          "Cluster 1",
          "Cluster 1"
         ],
         "xaxis": "x2",
         "yaxis": "y2"
        },
        {
         "alignmentgroup": "True",
         "bingroup": "x",
         "hovertemplate": "Cluster=%{x}<br>count=%{y}<extra></extra>",
         "legendgroup": "Cluster 2",
         "marker": {
          "color": "#00cc96",
          "opacity": 0.7,
          "pattern": {
           "shape": ""
          }
         },
         "name": "Cluster 2",
         "offsetgroup": "Cluster 2",
         "orientation": "v",
         "showlegend": true,
         "type": "histogram",
         "x": [
          "Cluster 2",
          "Cluster 2",
          "Cluster 2",
          "Cluster 2",
          "Cluster 2",
          "Cluster 2",
          "Cluster 2",
          "Cluster 2",
          "Cluster 2",
          "Cluster 2",
          "Cluster 2",
          "Cluster 2",
          "Cluster 2",
          "Cluster 2",
          "Cluster 2",
          "Cluster 2",
          "Cluster 2",
          "Cluster 2",
          "Cluster 2",
          "Cluster 2",
          "Cluster 2",
          "Cluster 2",
          "Cluster 2",
          "Cluster 2",
          "Cluster 2",
          "Cluster 2",
          "Cluster 2",
          "Cluster 2",
          "Cluster 2",
          "Cluster 2",
          "Cluster 2",
          "Cluster 2",
          "Cluster 2",
          "Cluster 2",
          "Cluster 2",
          "Cluster 2",
          "Cluster 2",
          "Cluster 2",
          "Cluster 2",
          "Cluster 2",
          "Cluster 2",
          "Cluster 2",
          "Cluster 2",
          "Cluster 2",
          "Cluster 2",
          "Cluster 2",
          "Cluster 2",
          "Cluster 2",
          "Cluster 2",
          "Cluster 2",
          "Cluster 2",
          "Cluster 2",
          "Cluster 2",
          "Cluster 2",
          "Cluster 2",
          "Cluster 2",
          "Cluster 2"
         ],
         "xaxis": "x",
         "yaxis": "y"
        },
        {
         "alignmentgroup": "True",
         "customdata": [
          [
           12.600000381469727,
           2.4600000381469727,
           2.200000047683716,
           18.5,
           94,
           1.6200000047683716,
           0.6600000262260437,
           0.6299999952316284,
           0.9399999976158142,
           7.099999904632568,
           0.7300000190734863,
           1.5800000429153442,
           695
          ],
          [
           11.449999809265137,
           2.4000000953674316,
           2.4200000762939453,
           20,
           96,
           2.9000000953674316,
           2.7899999618530273,
           0.3199999928474426,
           1.8300000429153442,
           3.25,
           0.800000011920929,
           3.390000104904175,
           625
          ],
          [
           12.510000228881836,
           1.2400000095367432,
           2.25,
           17.5,
           85,
           2,
           0.5799999833106995,
           0.6000000238418579,
           1.25,
           5.449999809265137,
           0.75,
           1.5099999904632568,
           650
          ],
          [
           12.960000038146973,
           3.450000047683716,
           2.3499999046325684,
           18.5,
           106,
           1.3899999856948853,
           0.699999988079071,
           0.4000000059604645,
           0.9399999976158142,
           5.28000020980835,
           0.6800000071525574,
           1.75,
           675
          ],
          [
           13.399999618530273,
           4.599999904632568,
           2.859999895095825,
           25,
           112,
           1.9800000190734863,
           0.9599999785423279,
           0.27000001072883606,
           1.1100000143051147,
           8.5,
           0.6700000166893005,
           1.9199999570846558,
           630
          ],
          [
           13.710000038146973,
           5.650000095367432,
           2.450000047683716,
           20.5,
           95,
           1.6799999475479126,
           0.6100000143051147,
           0.5199999809265137,
           1.059999942779541,
           7.699999809265137,
           0.6399999856948853,
           1.7400000095367432,
           740
          ],
          [
           13.579999923706055,
           2.5799999237060547,
           2.690000057220459,
           24.5,
           105,
           1.5499999523162842,
           0.8399999737739563,
           0.38999998569488525,
           1.5399999618530273,
           8.65999984741211,
           0.7400000095367432,
           1.7999999523162842,
           750
          ],
          [
           12.819999694824219,
           3.369999885559082,
           2.299999952316284,
           19.5,
           88,
           1.4800000190734863,
           0.6600000262260437,
           0.4000000059604645,
           0.9700000286102295,
           10.260000228881836,
           0.7200000286102295,
           1.75,
           685
          ],
          [
           13.449999809265137,
           3.700000047683716,
           2.5999999046325684,
           23,
           111,
           1.7000000476837158,
           0.9200000166893005,
           0.4300000071525574,
           1.4600000381469727,
           10.680000305175781,
           0.8500000238418579,
           1.559999942779541,
           695
          ],
          [
           13.399999618530273,
           3.9100000858306885,
           2.4800000190734863,
           23,
           102,
           1.7999999523162842,
           0.75,
           0.4300000071525574,
           1.409999966621399,
           7.300000190734863,
           0.699999988079071,
           1.559999942779541,
           750
          ],
          [
           13.270000457763672,
           4.28000020980835,
           2.259999990463257,
           20,
           120,
           1.590000033378601,
           0.6899999976158142,
           0.4300000071525574,
           1.350000023841858,
           10.199999809265137,
           0.5899999737739563,
           1.559999942779541,
           835
          ],
          [
           13.779999732971191,
           2.759999990463257,
           2.299999952316284,
           22,
           90,
           1.350000023841858,
           0.6800000071525574,
           0.4099999964237213,
           1.0299999713897705,
           9.579999923706055,
           0.699999988079071,
           1.6799999475479126,
           615
          ],
          [
           14.15999984741211,
           2.509999990463257,
           2.4800000190734863,
           20,
           91,
           1.6799999475479126,
           0.699999988079071,
           0.4399999976158142,
           1.2400000095367432,
           9.699999809265137,
           0.6200000047683716,
           1.7100000381469727,
           660
          ],
          [
           13.359999656677246,
           2.559999942779541,
           2.3499999046325684,
           20,
           89,
           1.399999976158142,
           0.5,
           0.3700000047683716,
           0.6399999856948853,
           5.599999904632568,
           0.699999988079071,
           2.4700000286102295,
           780
          ],
          [
           12.699999809265137,
           3.549999952316284,
           2.359999895095825,
           21.5,
           106,
           1.7000000476837158,
           1.2000000476837158,
           0.17000000178813934,
           0.8399999737739563,
           5,
           0.7799999713897705,
           1.2899999618530273,
           600
          ],
          [
           12.039999961853027,
           4.300000190734863,
           2.380000114440918,
           22,
           80,
           2.0999999046325684,
           1.75,
           0.41999998688697815,
           1.350000023841858,
           2.5999999046325684,
           0.7900000214576721,
           2.569999933242798,
           580
          ],
          [
           13.479999542236328,
           1.6699999570846558,
           2.640000104904175,
           22.5,
           89,
           2.5999999046325684,
           1.100000023841858,
           0.5199999809265137,
           2.2899999618530273,
           11.75,
           0.5699999928474426,
           1.7799999713897705,
           620
          ],
          [
           14.34000015258789,
           1.6799999475479126,
           2.700000047683716,
           25,
           98,
           2.799999952316284,
           1.309999942779541,
           0.5299999713897705,
           2.700000047683716,
           13,
           0.5699999928474426,
           1.9600000381469727,
           660
          ],
          [
           13.170000076293945,
           5.190000057220459,
           2.319999933242798,
           22,
           93,
           1.7400000095367432,
           0.6299999952316284,
           0.6100000143051147,
           1.5499999523162842,
           7.900000095367432,
           0.6000000238418579,
           1.4800000190734863,
           725
          ],
          [
           12.579999923706055,
           1.2899999618530273,
           2.0999999046325684,
           20,
           103,
           1.4800000190734863,
           0.5799999833106995,
           0.5299999713897705,
           1.399999976158142,
           7.599999904632568,
           0.5799999833106995,
           1.5499999523162842,
           640
          ],
          [
           13.229999542236328,
           3.299999952316284,
           2.2799999713897705,
           18.5,
           98,
           1.7999999523162842,
           0.8299999833106995,
           0.6100000143051147,
           1.8700000047683716,
           10.520000457763672,
           0.5600000023841858,
           1.5099999904632568,
           675
          ],
          [
           13.489999771118164,
           3.5899999141693115,
           2.190000057220459,
           19.5,
           88,
           1.6200000047683716,
           0.47999998927116394,
           0.5799999833106995,
           0.8799999952316284,
           5.699999809265137,
           0.8100000023841858,
           1.8200000524520874,
           580
          ],
          [
           12.84000015258789,
           2.9600000381469727,
           2.609999895095825,
           24,
           101,
           2.319999933242798,
           0.6000000238418579,
           0.5299999713897705,
           0.8100000023841858,
           4.920000076293945,
           0.8899999856948853,
           2.1500000953674316,
           590
          ],
          [
           13.319999694824219,
           3.240000009536743,
           2.380000114440918,
           21.5,
           92,
           1.9299999475479126,
           0.7599999904632568,
           0.44999998807907104,
           1.25,
           8.420000076293945,
           0.550000011920929,
           1.6200000047683716,
           650
          ],
          [
           12.869999885559082,
           4.610000133514404,
           2.4800000190734863,
           21.5,
           86,
           1.7000000476837158,
           0.6499999761581421,
           0.4699999988079071,
           0.8600000143051147,
           7.650000095367432,
           0.5400000214576721,
           1.8600000143051147,
           625
          ],
          [
           13.15999984741211,
           3.569999933242798,
           2.1500000953674316,
           21,
           102,
           1.5,
           0.550000011920929,
           0.4300000071525574,
           1.2999999523162842,
           4,
           0.6000000238418579,
           1.6799999475479126,
           830
          ],
          [
           12.25,
           3.880000114440918,
           2.200000047683716,
           18.5,
           112,
           1.3799999952316284,
           0.7799999713897705,
           0.28999999165534973,
           1.1399999856948853,
           8.210000038146973,
           0.6499999761581421,
           2,
           855
          ],
          [
           12.930000305175781,
           2.809999942779541,
           2.700000047683716,
           21,
           96,
           1.5399999618530273,
           0.5,
           0.5299999713897705,
           0.75,
           4.599999904632568,
           0.7699999809265137,
           2.309999942779541,
           600
          ],
          [
           12.859999656677246,
           1.350000023841858,
           2.319999933242798,
           18,
           122,
           1.5099999904632568,
           1.25,
           0.20999999344348907,
           0.9399999976158142,
           4.099999904632568,
           0.7599999904632568,
           1.2899999618530273,
           630
          ],
          [
           13.6899995803833,
           3.259999990463257,
           2.5399999618530273,
           20,
           107,
           1.8300000429153442,
           0.5600000023841858,
           0.5,
           0.800000011920929,
           5.880000114440918,
           0.9599999785423279,
           1.8200000524520874,
           680
          ],
          [
           12.25,
           4.71999979019165,
           2.5399999618530273,
           21,
           89,
           1.3799999952316284,
           0.4699999988079071,
           0.5299999713897705,
           0.800000011920929,
           3.8499999046325684,
           0.75,
           1.2699999809265137,
           720
          ],
          [
           11.640000343322754,
           2.059999942779541,
           2.4600000381469727,
           21.600000381469727,
           84,
           1.9500000476837158,
           1.690000057220459,
           0.47999998927116394,
           1.350000023841858,
           2.799999952316284,
           1,
           2.75,
           680
          ],
          [
           11.609999656677246,
           1.350000023841858,
           2.700000047683716,
           20,
           94,
           2.740000009536743,
           2.9200000762939453,
           0.28999999165534973,
           2.490000009536743,
           2.6500000953674316,
           0.9599999785423279,
           3.259999990463257,
           680
          ],
          [
           13.239999771118164,
           2.5899999141693115,
           2.869999885559082,
           21,
           118,
           2.799999952316284,
           2.690000057220459,
           0.38999998569488525,
           1.8200000524520874,
           4.320000171661377,
           1.0399999618530273,
           2.930000066757202,
           735
          ],
          [
           13.640000343322754,
           3.0999999046325684,
           2.559999942779541,
           15.199999809265137,
           116,
           2.700000047683716,
           3.0299999713897705,
           0.17000000178813934,
           1.659999966621399,
           5.099999904632568,
           0.9599999785423279,
           3.359999895095825,
           845
          ],
          [
           14.0600004196167,
           1.6299999952316284,
           2.2799999713897705,
           16,
           126,
           3,
           3.1700000762939453,
           0.23999999463558197,
           2.0999999046325684,
           5.650000095367432,
           1.090000033378601,
           3.7100000381469727,
           780
          ],
          [
           12.930000305175781,
           3.799999952316284,
           2.6500000953674316,
           18.600000381469727,
           102,
           2.4100000858306885,
           2.4100000858306885,
           0.25,
           1.9800000190734863,
           4.5,
           1.0299999713897705,
           3.5199999809265137,
           770
          ],
          [
           13.5,
           1.809999942779541,
           2.609999895095825,
           20,
           96,
           2.5299999713897705,
           2.609999895095825,
           0.2800000011920929,
           1.659999966621399,
           3.5199999809265137,
           1.1200000047683716,
           3.819999933242798,
           845
          ],
          [
           13.050000190734863,
           2.049999952316284,
           3.2200000286102295,
           25,
           124,
           2.630000114440918,
           2.680000066757202,
           0.4699999988079071,
           1.9199999570846558,
           3.5799999237060547,
           1.1299999952316284,
           3.200000047683716,
           830
          ],
          [
           14.220000267028809,
           3.990000009536743,
           2.509999990463257,
           13.199999809265137,
           128,
           3,
           3.0399999618530273,
           0.20000000298023224,
           2.0799999237060547,
           5.099999904632568,
           0.8899999856948853,
           3.5299999713897705,
           760
          ],
          [
           13.5600004196167,
           1.7100000381469727,
           2.309999942779541,
           16.200000762939453,
           117,
           3.1500000953674316,
           3.2899999618530273,
           0.3400000035762787,
           2.3399999141693115,
           6.130000114440918,
           0.949999988079071,
           3.380000114440918,
           795
          ],
          [
           11.760000228881836,
           2.680000066757202,
           2.9200000762939453,
           20,
           103,
           1.75,
           2.0299999713897705,
           0.6000000238418579,
           1.0499999523162842,
           3.799999952316284,
           1.2300000190734863,
           2.5,
           607
          ],
          [
           12.329999923706055,
           1.100000023841858,
           2.2799999713897705,
           16,
           101,
           2.049999952316284,
           1.090000033378601,
           0.6299999952316284,
           0.4099999964237213,
           3.2699999809265137,
           1.25,
           1.6699999570846558,
           680
          ],
          [
           13.670000076293945,
           1.25,
           1.9199999570846558,
           18,
           94,
           2.0999999046325684,
           1.7899999618530273,
           0.3199999928474426,
           0.7300000190734863,
           3.799999952316284,
           1.2300000190734863,
           2.4600000381469727,
           630
          ],
          [
           12.369999885559082,
           1.2100000381469727,
           2.559999942779541,
           18.100000381469727,
           98,
           2.4200000762939453,
           2.6500000953674316,
           0.3700000047683716,
           2.0799999237060547,
           4.599999904632568,
           1.190000057220459,
           2.299999952316284,
           678
          ],
          [
           13.34000015258789,
           0.9399999976158142,
           2.359999895095825,
           17,
           110,
           2.5299999713897705,
           1.2999999523162842,
           0.550000011920929,
           0.41999998688697815,
           3.1700000762939453,
           1.0199999809265137,
           1.9299999475479126,
           750
          ],
          [
           13.239999771118164,
           3.9800000190734863,
           2.2899999618530273,
           17.5,
           103,
           2.640000104904175,
           2.630000114440918,
           0.3199999928474426,
           1.659999966621399,
           4.360000133514404,
           0.8199999928474426,
           3,
           680
          ],
          [
           12.210000038146973,
           1.190000057220459,
           1.75,
           16.799999237060547,
           151,
           1.850000023841858,
           1.2799999713897705,
           0.14000000059604645,
           2.5,
           2.8499999046325684,
           1.2799999713897705,
           3.069999933242798,
           718
          ],
          [
           12.510000228881836,
           1.7300000190734863,
           1.9800000190734863,
           20.5,
           85,
           2.200000047683716,
           1.9199999570846558,
           0.3199999928474426,
           1.4800000190734863,
           2.940000057220459,
           1.0399999618530273,
           3.569999933242798,
           672
          ],
          [
           12.329999923706055,
           0.9900000095367432,
           1.9500000476837158,
           14.800000190734863,
           136,
           1.899999976158142,
           1.850000023841858,
           0.3499999940395355,
           2.759999990463257,
           3.4000000953674316,
           1.059999942779541,
           2.309999942779541,
           750
          ],
          [
           13.170000076293945,
           2.5899999141693115,
           2.369999885559082,
           20,
           120,
           1.649999976158142,
           0.6800000071525574,
           0.5299999713897705,
           1.4600000381469727,
           9.300000190734863,
           0.6000000238418579,
           1.6200000047683716,
           840
          ],
          [
           12.079999923706055,
           1.1299999952316284,
           2.509999990463257,
           24,
           78,
           2,
           1.5800000429153442,
           0.4000000059604645,
           1.399999976158142,
           2.200000047683716,
           1.309999942779541,
           2.7200000286102295,
           630
          ],
          [
           12.079999923706055,
           2.0799999237060547,
           1.7000000476837158,
           17.5,
           97,
           2.2300000190734863,
           2.1700000762939453,
           0.25999999046325684,
           1.399999976158142,
           3.299999952316284,
           1.2699999809265137,
           2.9600000381469727,
           710
          ],
          [
           12.369999885559082,
           1.0700000524520874,
           2.0999999046325684,
           18.5,
           88,
           3.5199999809265137,
           3.75,
           0.23999999463558197,
           1.9500000476837158,
           4.5,
           1.0399999618530273,
           2.7699999809265137,
           660
          ],
          [
           11.8100004196167,
           2.119999885559082,
           2.740000009536743,
           21.5,
           134,
           1.600000023841858,
           0.9900000095367432,
           0.14000000059604645,
           1.559999942779541,
           2.5,
           0.949999988079071,
           2.259999990463257,
           625
          ],
          [
           12.079999923706055,
           1.3300000429153442,
           2.299999952316284,
           23.600000381469727,
           70,
           2.200000047683716,
           1.590000033378601,
           0.41999998688697815,
           1.3799999952316284,
           1.7400000095367432,
           1.0700000524520874,
           3.2100000381469727,
           625
          ],
          [
           12.720000267028809,
           1.809999942779541,
           2.200000047683716,
           18.799999237060547,
           86,
           2.200000047683716,
           2.5299999713897705,
           0.25999999046325684,
           1.7699999809265137,
           3.9000000953674316,
           1.159999966621399,
           3.140000104904175,
           714
          ]
         ],
         "hovertemplate": "Cluster=%{x}<br>Alcohol=%{customdata[0]}<br>Malic_Acid=%{customdata[1]}<br>Ash=%{customdata[2]}<br>Ash_Alcanity=%{customdata[3]}<br>Magnesium=%{customdata[4]}<br>Total_Phenols=%{customdata[5]}<br>Flavanoids=%{customdata[6]}<br>Nonflavanoid_Phenols=%{customdata[7]}<br>Proanthocyanins=%{customdata[8]}<br>Color_Intensity=%{customdata[9]}<br>Hue=%{customdata[10]}<br>OD280=%{customdata[11]}<br>Proline=%{customdata[12]}<extra></extra>",
         "legendgroup": "Cluster 2",
         "marker": {
          "color": "#00cc96"
         },
         "name": "Cluster 2",
         "notched": true,
         "offsetgroup": "Cluster 2",
         "showlegend": false,
         "type": "box",
         "x": [
          "Cluster 2",
          "Cluster 2",
          "Cluster 2",
          "Cluster 2",
          "Cluster 2",
          "Cluster 2",
          "Cluster 2",
          "Cluster 2",
          "Cluster 2",
          "Cluster 2",
          "Cluster 2",
          "Cluster 2",
          "Cluster 2",
          "Cluster 2",
          "Cluster 2",
          "Cluster 2",
          "Cluster 2",
          "Cluster 2",
          "Cluster 2",
          "Cluster 2",
          "Cluster 2",
          "Cluster 2",
          "Cluster 2",
          "Cluster 2",
          "Cluster 2",
          "Cluster 2",
          "Cluster 2",
          "Cluster 2",
          "Cluster 2",
          "Cluster 2",
          "Cluster 2",
          "Cluster 2",
          "Cluster 2",
          "Cluster 2",
          "Cluster 2",
          "Cluster 2",
          "Cluster 2",
          "Cluster 2",
          "Cluster 2",
          "Cluster 2",
          "Cluster 2",
          "Cluster 2",
          "Cluster 2",
          "Cluster 2",
          "Cluster 2",
          "Cluster 2",
          "Cluster 2",
          "Cluster 2",
          "Cluster 2",
          "Cluster 2",
          "Cluster 2",
          "Cluster 2",
          "Cluster 2",
          "Cluster 2",
          "Cluster 2",
          "Cluster 2",
          "Cluster 2"
         ],
         "xaxis": "x2",
         "yaxis": "y2"
        },
        {
         "alignmentgroup": "True",
         "bingroup": "x",
         "hovertemplate": "Cluster=%{x}<br>count=%{y}<extra></extra>",
         "legendgroup": "Cluster 3",
         "marker": {
          "color": "#ab63fa",
          "opacity": 0.7,
          "pattern": {
           "shape": ""
          }
         },
         "name": "Cluster 3",
         "offsetgroup": "Cluster 3",
         "orientation": "v",
         "showlegend": true,
         "type": "histogram",
         "x": [
          "Cluster 3",
          "Cluster 3",
          "Cluster 3",
          "Cluster 3",
          "Cluster 3",
          "Cluster 3",
          "Cluster 3",
          "Cluster 3",
          "Cluster 3",
          "Cluster 3",
          "Cluster 3",
          "Cluster 3",
          "Cluster 3",
          "Cluster 3",
          "Cluster 3",
          "Cluster 3",
          "Cluster 3",
          "Cluster 3",
          "Cluster 3",
          "Cluster 3",
          "Cluster 3",
          "Cluster 3",
          "Cluster 3",
          "Cluster 3",
          "Cluster 3",
          "Cluster 3",
          "Cluster 3",
          "Cluster 3",
          "Cluster 3",
          "Cluster 3",
          "Cluster 3",
          "Cluster 3"
         ],
         "xaxis": "x",
         "yaxis": "y"
        },
        {
         "alignmentgroup": "True",
         "customdata": [
          [
           12.289999961853027,
           1.6100000143051147,
           2.2100000381469727,
           20.399999618530273,
           103,
           1.100000023841858,
           1.0199999809265137,
           0.3700000047683716,
           1.4600000381469727,
           3.049999952316284,
           0.906000018119812,
           1.8200000524520874,
           870
          ],
          [
           14.020000457763672,
           1.6799999475479126,
           2.2100000381469727,
           16,
           96,
           2.6500000953674316,
           2.3299999237060547,
           0.25999999046325684,
           1.9800000190734863,
           4.699999809265137,
           1.0399999618530273,
           3.5899999141693115,
           1035
          ],
          [
           13.869999885559082,
           1.899999976158142,
           2.799999952316284,
           19.399999618530273,
           107,
           2.950000047683716,
           2.9700000286102295,
           0.3700000047683716,
           1.7599999904632568,
           4.5,
           1.25,
           3.4000000953674316,
           915
          ],
          [
           12.470000267028809,
           1.5199999809265137,
           2.200000047683716,
           19,
           162,
           2.5,
           2.2699999809265137,
           0.3199999928474426,
           3.2799999713897705,
           2.5999999046325684,
           1.159999966621399,
           2.630000114440918,
           937
          ],
          [
           13.710000038146973,
           1.8600000143051147,
           2.359999895095825,
           16.600000381469727,
           101,
           2.609999895095825,
           2.880000114440918,
           0.27000001072883606,
           1.690000057220459,
           3.799999952316284,
           1.1100000143051147,
           4,
           1035
          ],
          [
           13.680000305175781,
           1.8300000429153442,
           2.359999895095825,
           17.200000762939453,
           104,
           2.4200000762939453,
           2.690000057220459,
           0.41999998688697815,
           1.9700000286102295,
           3.8399999141693115,
           1.2300000190734863,
           2.869999885559082,
           990
          ],
          [
           13.829999923706055,
           1.5700000524520874,
           2.619999885559082,
           20,
           115,
           2.950000047683716,
           3.4000000953674316,
           0.4000000059604645,
           1.7200000286102295,
           6.599999904632568,
           1.1299999952316284,
           2.569999933242798,
           1130
          ],
          [
           14.75,
           1.7300000190734863,
           2.390000104904175,
           11.399999618530273,
           91,
           3.0999999046325684,
           3.690000057220459,
           0.4300000071525574,
           2.809999942779541,
           5.400000095367432,
           1.25,
           2.7300000190734863,
           1150
          ],
          [
           13.859999656677246,
           1.350000023841858,
           2.2699999809265137,
           16,
           98,
           2.9800000190734863,
           3.1500000953674316,
           0.2199999988079071,
           1.850000023841858,
           7.21999979019165,
           1.0099999904632568,
           3.549999952316284,
           1045
          ],
          [
           14.829999923706055,
           1.6399999856948853,
           2.1700000762939453,
           14,
           97,
           2.799999952316284,
           2.9800000190734863,
           0.28999999165534973,
           1.9800000190734863,
           5.199999809265137,
           1.0800000429153442,
           2.8499999046325684,
           1045
          ],
          [
           13.199999809265137,
           1.7799999713897705,
           2.140000104904175,
           11.199999809265137,
           100,
           2.6500000953674316,
           2.759999990463257,
           0.25999999046325684,
           1.2799999713897705,
           4.380000114440918,
           1.0499999523162842,
           3.4000000953674316,
           1050
          ],
          [
           12.850000381469727,
           1.600000023841858,
           2.5199999809265137,
           17.799999237060547,
           95,
           2.4800000190734863,
           2.369999885559082,
           0.25999999046325684,
           1.4600000381469727,
           3.930000066757202,
           1.090000033378601,
           3.630000114440918,
           1015
          ],
          [
           13.510000228881836,
           1.7999999523162842,
           2.6500000953674316,
           19,
           110,
           2.3499999046325684,
           2.5299999713897705,
           0.28999999165534973,
           1.5399999618530273,
           4.199999809265137,
           1.100000023841858,
           2.869999885559082,
           1095
          ],
          [
           13.279999732971191,
           1.6399999856948853,
           2.8399999141693115,
           15.5,
           110,
           2.5999999046325684,
           2.680000066757202,
           0.3400000035762787,
           1.3600000143051147,
           4.599999904632568,
           1.090000033378601,
           2.7799999713897705,
           880
          ],
          [
           12.449999809265137,
           3.0299999713897705,
           2.640000104904175,
           27,
           97,
           1.899999976158142,
           0.5799999833106995,
           0.6299999952316284,
           1.1399999856948853,
           7.5,
           0.6700000166893005,
           1.7300000190734863,
           880
          ],
          [
           12.989999771118164,
           1.6699999570846558,
           2.5999999046325684,
           30,
           139,
           3.299999952316284,
           2.890000104904175,
           0.20999999344348907,
           1.9600000381469727,
           3.3499999046325684,
           1.309999942779541,
           3.5,
           985
          ],
          [
           11.960000038146973,
           1.090000033378601,
           2.299999952316284,
           21,
           101,
           3.380000114440918,
           2.140000104904175,
           0.12999999523162842,
           1.649999976158142,
           3.2100000381469727,
           0.9900000095367432,
           3.130000114440918,
           886
          ],
          [
           14.220000267028809,
           1.7000000476837158,
           2.299999952316284,
           16.299999237060547,
           118,
           3.200000047683716,
           3,
           0.25999999046325684,
           2.0299999713897705,
           6.380000114440918,
           0.9399999976158142,
           3.309999942779541,
           970
          ],
          [
           13.5600004196167,
           1.7300000190734863,
           2.4600000381469727,
           20.5,
           116,
           2.9600000381469727,
           2.7799999713897705,
           0.20000000298023224,
           2.450000047683716,
           6.25,
           0.9800000190734863,
           3.0299999713897705,
           1120
          ],
          [
           13.739999771118164,
           1.6699999570846558,
           2.25,
           16.399999618530273,
           118,
           2.5999999046325684,
           2.9000000953674316,
           0.20999999344348907,
           1.6200000047683716,
           5.849999904632568,
           0.9200000166893005,
           3.200000047683716,
           1060
          ],
          [
           13.050000190734863,
           1.7300000190734863,
           2.0399999618530273,
           12.399999618530273,
           92,
           2.7200000286102295,
           3.2699999809265137,
           0.17000000178813934,
           2.9100000858306885,
           7.199999809265137,
           1.1200000047683716,
           2.9100000858306885,
           1150
          ],
          [
           14.100000381469727,
           2.0199999809265137,
           2.4000000953674316,
           18.799999237060547,
           103,
           2.75,
           2.9200000762939453,
           0.3199999928474426,
           2.380000114440918,
           6.199999809265137,
           1.0700000524520874,
           2.75,
           1060
          ],
          [
           13.899999618530273,
           1.6799999475479126,
           2.119999885559082,
           16,
           101,
           3.0999999046325684,
           3.390000104904175,
           0.20999999344348907,
           2.140000104904175,
           6.099999904632568,
           0.9100000262260437,
           3.3299999237060547,
           985
          ],
          [
           14.380000114440918,
           3.5899999141693115,
           2.2799999713897705,
           16,
           102,
           3.25,
           3.1700000762939453,
           0.27000001072883606,
           2.190000057220459,
           4.900000095367432,
           1.0399999618530273,
           3.440000057220459,
           1065
          ],
          [
           14.210000038146973,
           4.039999961853027,
           2.440000057220459,
           18.899999618530273,
           111,
           2.8499999046325684,
           2.6500000953674316,
           0.30000001192092896,
           1.25,
           5.239999771118164,
           0.8700000047683716,
           3.3299999237060547,
           1080
          ],
          [
           13.050000190734863,
           1.7699999809265137,
           2.0999999046325684,
           17,
           107,
           3,
           3,
           0.2800000011920929,
           2.0299999713897705,
           5.039999961853027,
           0.8799999952316284,
           3.3499999046325684,
           885
          ],
          [
           13.880000114440918,
           1.8899999856948853,
           2.5899999141693115,
           15,
           101,
           3.25,
           3.559999942779541,
           0.17000000178813934,
           1.7000000476837158,
           5.429999828338623,
           0.8799999952316284,
           3.559999942779541,
           1095
          ],
          [
           13.40999984741211,
           3.8399999141693115,
           2.119999885559082,
           18.799999237060547,
           90,
           2.450000047683716,
           2.680000066757202,
           0.27000001072883606,
           1.4800000190734863,
           4.28000020980835,
           0.9100000262260437,
           3,
           1035
          ],
          [
           13.069999694824219,
           1.5,
           2.0999999046325684,
           15.5,
           98,
           2.4000000953674316,
           2.640000104904175,
           0.2800000011920929,
           1.3700000047683716,
           3.700000047683716,
           1.1799999475479126,
           2.690000057220459,
           1020
          ],
          [
           13.050000190734863,
           1.649999976158142,
           2.549999952316284,
           18,
           98,
           2.450000047683716,
           2.430000066757202,
           0.28999999165534973,
           1.440000057220459,
           4.25,
           1.1200000047683716,
           2.509999990463257,
           1105
          ],
          [
           13.479999542236328,
           1.809999942779541,
           2.4100000858306885,
           20.5,
           100,
           2.700000047683716,
           2.9800000190734863,
           0.25999999046325684,
           1.8600000143051147,
           5.099999904632568,
           1.0399999618530273,
           3.4700000286102295,
           920
          ],
          [
           14.229999542236328,
           1.7100000381469727,
           2.430000066757202,
           15.600000381469727,
           127,
           2.799999952316284,
           3.059999942779541,
           0.2800000011920929,
           2.2899999618530273,
           5.639999866485596,
           1.0399999618530273,
           3.9200000762939453,
           1065
          ]
         ],
         "hovertemplate": "Cluster=%{x}<br>Alcohol=%{customdata[0]}<br>Malic_Acid=%{customdata[1]}<br>Ash=%{customdata[2]}<br>Ash_Alcanity=%{customdata[3]}<br>Magnesium=%{customdata[4]}<br>Total_Phenols=%{customdata[5]}<br>Flavanoids=%{customdata[6]}<br>Nonflavanoid_Phenols=%{customdata[7]}<br>Proanthocyanins=%{customdata[8]}<br>Color_Intensity=%{customdata[9]}<br>Hue=%{customdata[10]}<br>OD280=%{customdata[11]}<br>Proline=%{customdata[12]}<extra></extra>",
         "legendgroup": "Cluster 3",
         "marker": {
          "color": "#ab63fa"
         },
         "name": "Cluster 3",
         "notched": true,
         "offsetgroup": "Cluster 3",
         "showlegend": false,
         "type": "box",
         "x": [
          "Cluster 3",
          "Cluster 3",
          "Cluster 3",
          "Cluster 3",
          "Cluster 3",
          "Cluster 3",
          "Cluster 3",
          "Cluster 3",
          "Cluster 3",
          "Cluster 3",
          "Cluster 3",
          "Cluster 3",
          "Cluster 3",
          "Cluster 3",
          "Cluster 3",
          "Cluster 3",
          "Cluster 3",
          "Cluster 3",
          "Cluster 3",
          "Cluster 3",
          "Cluster 3",
          "Cluster 3",
          "Cluster 3",
          "Cluster 3",
          "Cluster 3",
          "Cluster 3",
          "Cluster 3",
          "Cluster 3",
          "Cluster 3",
          "Cluster 3",
          "Cluster 3",
          "Cluster 3"
         ],
         "xaxis": "x2",
         "yaxis": "y2"
        }
       ],
       "layout": {
        "barmode": "relative",
        "height": 600,
        "legend": {
         "title": {
          "text": "Cluster"
         },
         "tracegroupgap": 0
        },
        "margin": {
         "t": 60
        },
        "template": {
         "data": {
          "bar": [
           {
            "error_x": {
             "color": "#2a3f5f"
            },
            "error_y": {
             "color": "#2a3f5f"
            },
            "marker": {
             "line": {
              "color": "#E5ECF6",
              "width": 0.5
             },
             "pattern": {
              "fillmode": "overlay",
              "size": 10,
              "solidity": 0.2
             }
            },
            "type": "bar"
           }
          ],
          "barpolar": [
           {
            "marker": {
             "line": {
              "color": "#E5ECF6",
              "width": 0.5
             },
             "pattern": {
              "fillmode": "overlay",
              "size": 10,
              "solidity": 0.2
             }
            },
            "type": "barpolar"
           }
          ],
          "carpet": [
           {
            "aaxis": {
             "endlinecolor": "#2a3f5f",
             "gridcolor": "white",
             "linecolor": "white",
             "minorgridcolor": "white",
             "startlinecolor": "#2a3f5f"
            },
            "baxis": {
             "endlinecolor": "#2a3f5f",
             "gridcolor": "white",
             "linecolor": "white",
             "minorgridcolor": "white",
             "startlinecolor": "#2a3f5f"
            },
            "type": "carpet"
           }
          ],
          "choropleth": [
           {
            "colorbar": {
             "outlinewidth": 0,
             "ticks": ""
            },
            "type": "choropleth"
           }
          ],
          "contour": [
           {
            "colorbar": {
             "outlinewidth": 0,
             "ticks": ""
            },
            "colorscale": [
             [
              0,
              "#0d0887"
             ],
             [
              0.1111111111111111,
              "#46039f"
             ],
             [
              0.2222222222222222,
              "#7201a8"
             ],
             [
              0.3333333333333333,
              "#9c179e"
             ],
             [
              0.4444444444444444,
              "#bd3786"
             ],
             [
              0.5555555555555556,
              "#d8576b"
             ],
             [
              0.6666666666666666,
              "#ed7953"
             ],
             [
              0.7777777777777778,
              "#fb9f3a"
             ],
             [
              0.8888888888888888,
              "#fdca26"
             ],
             [
              1,
              "#f0f921"
             ]
            ],
            "type": "contour"
           }
          ],
          "contourcarpet": [
           {
            "colorbar": {
             "outlinewidth": 0,
             "ticks": ""
            },
            "type": "contourcarpet"
           }
          ],
          "heatmap": [
           {
            "colorbar": {
             "outlinewidth": 0,
             "ticks": ""
            },
            "colorscale": [
             [
              0,
              "#0d0887"
             ],
             [
              0.1111111111111111,
              "#46039f"
             ],
             [
              0.2222222222222222,
              "#7201a8"
             ],
             [
              0.3333333333333333,
              "#9c179e"
             ],
             [
              0.4444444444444444,
              "#bd3786"
             ],
             [
              0.5555555555555556,
              "#d8576b"
             ],
             [
              0.6666666666666666,
              "#ed7953"
             ],
             [
              0.7777777777777778,
              "#fb9f3a"
             ],
             [
              0.8888888888888888,
              "#fdca26"
             ],
             [
              1,
              "#f0f921"
             ]
            ],
            "type": "heatmap"
           }
          ],
          "heatmapgl": [
           {
            "colorbar": {
             "outlinewidth": 0,
             "ticks": ""
            },
            "colorscale": [
             [
              0,
              "#0d0887"
             ],
             [
              0.1111111111111111,
              "#46039f"
             ],
             [
              0.2222222222222222,
              "#7201a8"
             ],
             [
              0.3333333333333333,
              "#9c179e"
             ],
             [
              0.4444444444444444,
              "#bd3786"
             ],
             [
              0.5555555555555556,
              "#d8576b"
             ],
             [
              0.6666666666666666,
              "#ed7953"
             ],
             [
              0.7777777777777778,
              "#fb9f3a"
             ],
             [
              0.8888888888888888,
              "#fdca26"
             ],
             [
              1,
              "#f0f921"
             ]
            ],
            "type": "heatmapgl"
           }
          ],
          "histogram": [
           {
            "marker": {
             "pattern": {
              "fillmode": "overlay",
              "size": 10,
              "solidity": 0.2
             }
            },
            "type": "histogram"
           }
          ],
          "histogram2d": [
           {
            "colorbar": {
             "outlinewidth": 0,
             "ticks": ""
            },
            "colorscale": [
             [
              0,
              "#0d0887"
             ],
             [
              0.1111111111111111,
              "#46039f"
             ],
             [
              0.2222222222222222,
              "#7201a8"
             ],
             [
              0.3333333333333333,
              "#9c179e"
             ],
             [
              0.4444444444444444,
              "#bd3786"
             ],
             [
              0.5555555555555556,
              "#d8576b"
             ],
             [
              0.6666666666666666,
              "#ed7953"
             ],
             [
              0.7777777777777778,
              "#fb9f3a"
             ],
             [
              0.8888888888888888,
              "#fdca26"
             ],
             [
              1,
              "#f0f921"
             ]
            ],
            "type": "histogram2d"
           }
          ],
          "histogram2dcontour": [
           {
            "colorbar": {
             "outlinewidth": 0,
             "ticks": ""
            },
            "colorscale": [
             [
              0,
              "#0d0887"
             ],
             [
              0.1111111111111111,
              "#46039f"
             ],
             [
              0.2222222222222222,
              "#7201a8"
             ],
             [
              0.3333333333333333,
              "#9c179e"
             ],
             [
              0.4444444444444444,
              "#bd3786"
             ],
             [
              0.5555555555555556,
              "#d8576b"
             ],
             [
              0.6666666666666666,
              "#ed7953"
             ],
             [
              0.7777777777777778,
              "#fb9f3a"
             ],
             [
              0.8888888888888888,
              "#fdca26"
             ],
             [
              1,
              "#f0f921"
             ]
            ],
            "type": "histogram2dcontour"
           }
          ],
          "mesh3d": [
           {
            "colorbar": {
             "outlinewidth": 0,
             "ticks": ""
            },
            "type": "mesh3d"
           }
          ],
          "parcoords": [
           {
            "line": {
             "colorbar": {
              "outlinewidth": 0,
              "ticks": ""
             }
            },
            "type": "parcoords"
           }
          ],
          "pie": [
           {
            "automargin": true,
            "type": "pie"
           }
          ],
          "scatter": [
           {
            "fillpattern": {
             "fillmode": "overlay",
             "size": 10,
             "solidity": 0.2
            },
            "type": "scatter"
           }
          ],
          "scatter3d": [
           {
            "line": {
             "colorbar": {
              "outlinewidth": 0,
              "ticks": ""
             }
            },
            "marker": {
             "colorbar": {
              "outlinewidth": 0,
              "ticks": ""
             }
            },
            "type": "scatter3d"
           }
          ],
          "scattercarpet": [
           {
            "marker": {
             "colorbar": {
              "outlinewidth": 0,
              "ticks": ""
             }
            },
            "type": "scattercarpet"
           }
          ],
          "scattergeo": [
           {
            "marker": {
             "colorbar": {
              "outlinewidth": 0,
              "ticks": ""
             }
            },
            "type": "scattergeo"
           }
          ],
          "scattergl": [
           {
            "marker": {
             "colorbar": {
              "outlinewidth": 0,
              "ticks": ""
             }
            },
            "type": "scattergl"
           }
          ],
          "scattermapbox": [
           {
            "marker": {
             "colorbar": {
              "outlinewidth": 0,
              "ticks": ""
             }
            },
            "type": "scattermapbox"
           }
          ],
          "scatterpolar": [
           {
            "marker": {
             "colorbar": {
              "outlinewidth": 0,
              "ticks": ""
             }
            },
            "type": "scatterpolar"
           }
          ],
          "scatterpolargl": [
           {
            "marker": {
             "colorbar": {
              "outlinewidth": 0,
              "ticks": ""
             }
            },
            "type": "scatterpolargl"
           }
          ],
          "scatterternary": [
           {
            "marker": {
             "colorbar": {
              "outlinewidth": 0,
              "ticks": ""
             }
            },
            "type": "scatterternary"
           }
          ],
          "surface": [
           {
            "colorbar": {
             "outlinewidth": 0,
             "ticks": ""
            },
            "colorscale": [
             [
              0,
              "#0d0887"
             ],
             [
              0.1111111111111111,
              "#46039f"
             ],
             [
              0.2222222222222222,
              "#7201a8"
             ],
             [
              0.3333333333333333,
              "#9c179e"
             ],
             [
              0.4444444444444444,
              "#bd3786"
             ],
             [
              0.5555555555555556,
              "#d8576b"
             ],
             [
              0.6666666666666666,
              "#ed7953"
             ],
             [
              0.7777777777777778,
              "#fb9f3a"
             ],
             [
              0.8888888888888888,
              "#fdca26"
             ],
             [
              1,
              "#f0f921"
             ]
            ],
            "type": "surface"
           }
          ],
          "table": [
           {
            "cells": {
             "fill": {
              "color": "#EBF0F8"
             },
             "line": {
              "color": "white"
             }
            },
            "header": {
             "fill": {
              "color": "#C8D4E3"
             },
             "line": {
              "color": "white"
             }
            },
            "type": "table"
           }
          ]
         },
         "layout": {
          "annotationdefaults": {
           "arrowcolor": "#2a3f5f",
           "arrowhead": 0,
           "arrowwidth": 1
          },
          "autotypenumbers": "strict",
          "coloraxis": {
           "colorbar": {
            "outlinewidth": 0,
            "ticks": ""
           }
          },
          "colorscale": {
           "diverging": [
            [
             0,
             "#8e0152"
            ],
            [
             0.1,
             "#c51b7d"
            ],
            [
             0.2,
             "#de77ae"
            ],
            [
             0.3,
             "#f1b6da"
            ],
            [
             0.4,
             "#fde0ef"
            ],
            [
             0.5,
             "#f7f7f7"
            ],
            [
             0.6,
             "#e6f5d0"
            ],
            [
             0.7,
             "#b8e186"
            ],
            [
             0.8,
             "#7fbc41"
            ],
            [
             0.9,
             "#4d9221"
            ],
            [
             1,
             "#276419"
            ]
           ],
           "sequential": [
            [
             0,
             "#0d0887"
            ],
            [
             0.1111111111111111,
             "#46039f"
            ],
            [
             0.2222222222222222,
             "#7201a8"
            ],
            [
             0.3333333333333333,
             "#9c179e"
            ],
            [
             0.4444444444444444,
             "#bd3786"
            ],
            [
             0.5555555555555556,
             "#d8576b"
            ],
            [
             0.6666666666666666,
             "#ed7953"
            ],
            [
             0.7777777777777778,
             "#fb9f3a"
            ],
            [
             0.8888888888888888,
             "#fdca26"
            ],
            [
             1,
             "#f0f921"
            ]
           ],
           "sequentialminus": [
            [
             0,
             "#0d0887"
            ],
            [
             0.1111111111111111,
             "#46039f"
            ],
            [
             0.2222222222222222,
             "#7201a8"
            ],
            [
             0.3333333333333333,
             "#9c179e"
            ],
            [
             0.4444444444444444,
             "#bd3786"
            ],
            [
             0.5555555555555556,
             "#d8576b"
            ],
            [
             0.6666666666666666,
             "#ed7953"
            ],
            [
             0.7777777777777778,
             "#fb9f3a"
            ],
            [
             0.8888888888888888,
             "#fdca26"
            ],
            [
             1,
             "#f0f921"
            ]
           ]
          },
          "colorway": [
           "#636efa",
           "#EF553B",
           "#00cc96",
           "#ab63fa",
           "#FFA15A",
           "#19d3f3",
           "#FF6692",
           "#B6E880",
           "#FF97FF",
           "#FECB52"
          ],
          "font": {
           "color": "#2a3f5f"
          },
          "geo": {
           "bgcolor": "white",
           "lakecolor": "white",
           "landcolor": "#E5ECF6",
           "showlakes": true,
           "showland": true,
           "subunitcolor": "white"
          },
          "hoverlabel": {
           "align": "left"
          },
          "hovermode": "closest",
          "mapbox": {
           "style": "light"
          },
          "paper_bgcolor": "white",
          "plot_bgcolor": "#E5ECF6",
          "polar": {
           "angularaxis": {
            "gridcolor": "white",
            "linecolor": "white",
            "ticks": ""
           },
           "bgcolor": "#E5ECF6",
           "radialaxis": {
            "gridcolor": "white",
            "linecolor": "white",
            "ticks": ""
           }
          },
          "scene": {
           "xaxis": {
            "backgroundcolor": "#E5ECF6",
            "gridcolor": "white",
            "gridwidth": 2,
            "linecolor": "white",
            "showbackground": true,
            "ticks": "",
            "zerolinecolor": "white"
           },
           "yaxis": {
            "backgroundcolor": "#E5ECF6",
            "gridcolor": "white",
            "gridwidth": 2,
            "linecolor": "white",
            "showbackground": true,
            "ticks": "",
            "zerolinecolor": "white"
           },
           "zaxis": {
            "backgroundcolor": "#E5ECF6",
            "gridcolor": "white",
            "gridwidth": 2,
            "linecolor": "white",
            "showbackground": true,
            "ticks": "",
            "zerolinecolor": "white"
           }
          },
          "shapedefaults": {
           "line": {
            "color": "#2a3f5f"
           }
          },
          "ternary": {
           "aaxis": {
            "gridcolor": "white",
            "linecolor": "white",
            "ticks": ""
           },
           "baxis": {
            "gridcolor": "white",
            "linecolor": "white",
            "ticks": ""
           },
           "bgcolor": "#E5ECF6",
           "caxis": {
            "gridcolor": "white",
            "linecolor": "white",
            "ticks": ""
           }
          },
          "title": {
           "x": 0.05
          },
          "xaxis": {
           "automargin": true,
           "gridcolor": "white",
           "linecolor": "white",
           "ticks": "",
           "title": {
            "standoff": 15
           },
           "zerolinecolor": "white",
           "zerolinewidth": 2
          },
          "yaxis": {
           "automargin": true,
           "gridcolor": "white",
           "linecolor": "white",
           "ticks": "",
           "title": {
            "standoff": 15
           },
           "zerolinecolor": "white",
           "zerolinewidth": 2
          }
         }
        },
        "xaxis": {
         "anchor": "y",
         "categoryarray": [
          "Cluster 0",
          "Cluster 1",
          "Cluster 2",
          "Cluster 3"
         ],
         "categoryorder": "array",
         "domain": [
          0,
          1
         ],
         "title": {
          "text": "Cluster"
         }
        },
        "xaxis2": {
         "anchor": "y2",
         "domain": [
          0,
          1
         ],
         "matches": "x",
         "showgrid": true,
         "showticklabels": false
        },
        "yaxis": {
         "anchor": "x",
         "domain": [
          0,
          0.7326
         ],
         "title": {
          "text": "count"
         }
        },
        "yaxis2": {
         "anchor": "x2",
         "domain": [
          0.7426,
          1
         ],
         "matches": "y2",
         "showgrid": false,
         "showline": false,
         "showticklabels": false,
         "ticks": ""
        }
       }
      }
     },
     "metadata": {},
     "output_type": "display_data"
    }
   ],
   "source": [
    "# alternative to plot_model function\n",
    "evaluate_model(kmeans)"
   ]
  },
  {
   "cell_type": "markdown",
   "metadata": {},
   "source": [
    "# Predict"
   ]
  },
  {
   "cell_type": "code",
   "execution_count": 23,
   "metadata": {},
   "outputs": [
    {
     "data": {
      "text/html": [
       "<div>\n",
       "<style scoped>\n",
       "    .dataframe tbody tr th:only-of-type {\n",
       "        vertical-align: middle;\n",
       "    }\n",
       "\n",
       "    .dataframe tbody tr th {\n",
       "        vertical-align: top;\n",
       "    }\n",
       "\n",
       "    .dataframe thead th {\n",
       "        text-align: right;\n",
       "    }\n",
       "</style>\n",
       "<table border=\"1\" class=\"dataframe\">\n",
       "  <thead>\n",
       "    <tr style=\"text-align: right;\">\n",
       "      <th></th>\n",
       "      <th>Alcohol</th>\n",
       "      <th>Malic_Acid</th>\n",
       "      <th>Ash</th>\n",
       "      <th>Ash_Alcanity</th>\n",
       "      <th>Magnesium</th>\n",
       "      <th>Total_Phenols</th>\n",
       "      <th>Flavanoids</th>\n",
       "      <th>Nonflavanoid_Phenols</th>\n",
       "      <th>Proanthocyanins</th>\n",
       "      <th>Color_Intensity</th>\n",
       "      <th>Hue</th>\n",
       "      <th>OD280</th>\n",
       "      <th>Proline</th>\n",
       "      <th>Cluster</th>\n",
       "    </tr>\n",
       "  </thead>\n",
       "  <tbody>\n",
       "    <tr>\n",
       "      <th>0</th>\n",
       "      <td>14.23</td>\n",
       "      <td>1.71</td>\n",
       "      <td>2.43</td>\n",
       "      <td>15.6</td>\n",
       "      <td>127.0</td>\n",
       "      <td>2.80</td>\n",
       "      <td>3.06</td>\n",
       "      <td>0.28</td>\n",
       "      <td>2.29</td>\n",
       "      <td>5.64</td>\n",
       "      <td>1.04</td>\n",
       "      <td>3.92</td>\n",
       "      <td>1065.0</td>\n",
       "      <td>Cluster 3</td>\n",
       "    </tr>\n",
       "    <tr>\n",
       "      <th>1</th>\n",
       "      <td>13.20</td>\n",
       "      <td>1.78</td>\n",
       "      <td>2.14</td>\n",
       "      <td>11.2</td>\n",
       "      <td>100.0</td>\n",
       "      <td>2.65</td>\n",
       "      <td>2.76</td>\n",
       "      <td>0.26</td>\n",
       "      <td>1.28</td>\n",
       "      <td>4.38</td>\n",
       "      <td>1.05</td>\n",
       "      <td>3.40</td>\n",
       "      <td>1050.0</td>\n",
       "      <td>Cluster 3</td>\n",
       "    </tr>\n",
       "    <tr>\n",
       "      <th>2</th>\n",
       "      <td>13.16</td>\n",
       "      <td>2.36</td>\n",
       "      <td>2.67</td>\n",
       "      <td>18.6</td>\n",
       "      <td>101.0</td>\n",
       "      <td>2.80</td>\n",
       "      <td>3.24</td>\n",
       "      <td>0.30</td>\n",
       "      <td>2.81</td>\n",
       "      <td>5.68</td>\n",
       "      <td>1.03</td>\n",
       "      <td>3.17</td>\n",
       "      <td>1185.0</td>\n",
       "      <td>Cluster 0</td>\n",
       "    </tr>\n",
       "    <tr>\n",
       "      <th>3</th>\n",
       "      <td>14.37</td>\n",
       "      <td>1.95</td>\n",
       "      <td>2.50</td>\n",
       "      <td>16.8</td>\n",
       "      <td>113.0</td>\n",
       "      <td>3.85</td>\n",
       "      <td>3.49</td>\n",
       "      <td>0.24</td>\n",
       "      <td>2.18</td>\n",
       "      <td>7.80</td>\n",
       "      <td>0.86</td>\n",
       "      <td>3.45</td>\n",
       "      <td>1480.0</td>\n",
       "      <td>Cluster 0</td>\n",
       "    </tr>\n",
       "    <tr>\n",
       "      <th>4</th>\n",
       "      <td>13.24</td>\n",
       "      <td>2.59</td>\n",
       "      <td>2.87</td>\n",
       "      <td>21.0</td>\n",
       "      <td>118.0</td>\n",
       "      <td>2.80</td>\n",
       "      <td>2.69</td>\n",
       "      <td>0.39</td>\n",
       "      <td>1.82</td>\n",
       "      <td>4.32</td>\n",
       "      <td>1.04</td>\n",
       "      <td>2.93</td>\n",
       "      <td>735.0</td>\n",
       "      <td>Cluster 2</td>\n",
       "    </tr>\n",
       "    <tr>\n",
       "      <th>...</th>\n",
       "      <td>...</td>\n",
       "      <td>...</td>\n",
       "      <td>...</td>\n",
       "      <td>...</td>\n",
       "      <td>...</td>\n",
       "      <td>...</td>\n",
       "      <td>...</td>\n",
       "      <td>...</td>\n",
       "      <td>...</td>\n",
       "      <td>...</td>\n",
       "      <td>...</td>\n",
       "      <td>...</td>\n",
       "      <td>...</td>\n",
       "      <td>...</td>\n",
       "    </tr>\n",
       "    <tr>\n",
       "      <th>173</th>\n",
       "      <td>13.71</td>\n",
       "      <td>5.65</td>\n",
       "      <td>2.45</td>\n",
       "      <td>20.5</td>\n",
       "      <td>95.0</td>\n",
       "      <td>1.68</td>\n",
       "      <td>0.61</td>\n",
       "      <td>0.52</td>\n",
       "      <td>1.06</td>\n",
       "      <td>7.70</td>\n",
       "      <td>0.64</td>\n",
       "      <td>1.74</td>\n",
       "      <td>740.0</td>\n",
       "      <td>Cluster 2</td>\n",
       "    </tr>\n",
       "    <tr>\n",
       "      <th>174</th>\n",
       "      <td>13.40</td>\n",
       "      <td>3.91</td>\n",
       "      <td>2.48</td>\n",
       "      <td>23.0</td>\n",
       "      <td>102.0</td>\n",
       "      <td>1.80</td>\n",
       "      <td>0.75</td>\n",
       "      <td>0.43</td>\n",
       "      <td>1.41</td>\n",
       "      <td>7.30</td>\n",
       "      <td>0.70</td>\n",
       "      <td>1.56</td>\n",
       "      <td>750.0</td>\n",
       "      <td>Cluster 2</td>\n",
       "    </tr>\n",
       "    <tr>\n",
       "      <th>175</th>\n",
       "      <td>13.27</td>\n",
       "      <td>4.28</td>\n",
       "      <td>2.26</td>\n",
       "      <td>20.0</td>\n",
       "      <td>120.0</td>\n",
       "      <td>1.59</td>\n",
       "      <td>0.69</td>\n",
       "      <td>0.43</td>\n",
       "      <td>1.35</td>\n",
       "      <td>10.20</td>\n",
       "      <td>0.59</td>\n",
       "      <td>1.56</td>\n",
       "      <td>835.0</td>\n",
       "      <td>Cluster 2</td>\n",
       "    </tr>\n",
       "    <tr>\n",
       "      <th>176</th>\n",
       "      <td>13.17</td>\n",
       "      <td>2.59</td>\n",
       "      <td>2.37</td>\n",
       "      <td>20.0</td>\n",
       "      <td>120.0</td>\n",
       "      <td>1.65</td>\n",
       "      <td>0.68</td>\n",
       "      <td>0.53</td>\n",
       "      <td>1.46</td>\n",
       "      <td>9.30</td>\n",
       "      <td>0.60</td>\n",
       "      <td>1.62</td>\n",
       "      <td>840.0</td>\n",
       "      <td>Cluster 2</td>\n",
       "    </tr>\n",
       "    <tr>\n",
       "      <th>177</th>\n",
       "      <td>14.13</td>\n",
       "      <td>4.10</td>\n",
       "      <td>2.74</td>\n",
       "      <td>24.5</td>\n",
       "      <td>96.0</td>\n",
       "      <td>2.05</td>\n",
       "      <td>0.76</td>\n",
       "      <td>0.56</td>\n",
       "      <td>1.35</td>\n",
       "      <td>9.20</td>\n",
       "      <td>0.61</td>\n",
       "      <td>1.60</td>\n",
       "      <td>560.0</td>\n",
       "      <td>Cluster 1</td>\n",
       "    </tr>\n",
       "  </tbody>\n",
       "</table>\n",
       "<p>178 rows × 14 columns</p>\n",
       "</div>"
      ],
      "text/plain": [
       "     Alcohol  Malic_Acid   Ash  Ash_Alcanity  Magnesium  Total_Phenols  \\\n",
       "0      14.23        1.71  2.43          15.6      127.0           2.80   \n",
       "1      13.20        1.78  2.14          11.2      100.0           2.65   \n",
       "2      13.16        2.36  2.67          18.6      101.0           2.80   \n",
       "3      14.37        1.95  2.50          16.8      113.0           3.85   \n",
       "4      13.24        2.59  2.87          21.0      118.0           2.80   \n",
       "..       ...         ...   ...           ...        ...            ...   \n",
       "173    13.71        5.65  2.45          20.5       95.0           1.68   \n",
       "174    13.40        3.91  2.48          23.0      102.0           1.80   \n",
       "175    13.27        4.28  2.26          20.0      120.0           1.59   \n",
       "176    13.17        2.59  2.37          20.0      120.0           1.65   \n",
       "177    14.13        4.10  2.74          24.5       96.0           2.05   \n",
       "\n",
       "     Flavanoids  Nonflavanoid_Phenols  Proanthocyanins  Color_Intensity   Hue  \\\n",
       "0          3.06                  0.28             2.29             5.64  1.04   \n",
       "1          2.76                  0.26             1.28             4.38  1.05   \n",
       "2          3.24                  0.30             2.81             5.68  1.03   \n",
       "3          3.49                  0.24             2.18             7.80  0.86   \n",
       "4          2.69                  0.39             1.82             4.32  1.04   \n",
       "..          ...                   ...              ...              ...   ...   \n",
       "173        0.61                  0.52             1.06             7.70  0.64   \n",
       "174        0.75                  0.43             1.41             7.30  0.70   \n",
       "175        0.69                  0.43             1.35            10.20  0.59   \n",
       "176        0.68                  0.53             1.46             9.30  0.60   \n",
       "177        0.76                  0.56             1.35             9.20  0.61   \n",
       "\n",
       "     OD280  Proline    Cluster  \n",
       "0     3.92   1065.0  Cluster 3  \n",
       "1     3.40   1050.0  Cluster 3  \n",
       "2     3.17   1185.0  Cluster 0  \n",
       "3     3.45   1480.0  Cluster 0  \n",
       "4     2.93    735.0  Cluster 2  \n",
       "..     ...      ...        ...  \n",
       "173   1.74    740.0  Cluster 2  \n",
       "174   1.56    750.0  Cluster 2  \n",
       "175   1.56    835.0  Cluster 2  \n",
       "176   1.62    840.0  Cluster 2  \n",
       "177   1.60    560.0  Cluster 1  \n",
       "\n",
       "[178 rows x 14 columns]"
      ]
     },
     "execution_count": 23,
     "metadata": {},
     "output_type": "execute_result"
    }
   ],
   "source": [
    "kmeans_pred = predict_model(kmeans, data=winedata)\n",
    "kmeans_pred"
   ]
  },
  {
   "cell_type": "markdown",
   "metadata": {},
   "source": [
    "# Example of setting up experiment with different configurations."
   ]
  },
  {
   "cell_type": "code",
   "execution_count": 31,
   "metadata": {},
   "outputs": [
    {
     "data": {
      "text/html": [
       "<style type=\"text/css\">\n",
       "#T_3c27c_row4_col1, #T_3c27c_row8_col1 {\n",
       "  background-color: lightgreen;\n",
       "}\n",
       "</style>\n",
       "<table id=\"T_3c27c\">\n",
       "  <thead>\n",
       "    <tr>\n",
       "      <th class=\"blank level0\" >&nbsp;</th>\n",
       "      <th id=\"T_3c27c_level0_col0\" class=\"col_heading level0 col0\" >Description</th>\n",
       "      <th id=\"T_3c27c_level0_col1\" class=\"col_heading level0 col1\" >Value</th>\n",
       "    </tr>\n",
       "  </thead>\n",
       "  <tbody>\n",
       "    <tr>\n",
       "      <th id=\"T_3c27c_level0_row0\" class=\"row_heading level0 row0\" >0</th>\n",
       "      <td id=\"T_3c27c_row0_col0\" class=\"data row0 col0\" >Session id</td>\n",
       "      <td id=\"T_3c27c_row0_col1\" class=\"data row0 col1\" >123</td>\n",
       "    </tr>\n",
       "    <tr>\n",
       "      <th id=\"T_3c27c_level0_row1\" class=\"row_heading level0 row1\" >1</th>\n",
       "      <td id=\"T_3c27c_row1_col0\" class=\"data row1 col0\" >Original data shape</td>\n",
       "      <td id=\"T_3c27c_row1_col1\" class=\"data row1 col1\" >(178, 13)</td>\n",
       "    </tr>\n",
       "    <tr>\n",
       "      <th id=\"T_3c27c_level0_row2\" class=\"row_heading level0 row2\" >2</th>\n",
       "      <td id=\"T_3c27c_row2_col0\" class=\"data row2 col0\" >Transformed data shape</td>\n",
       "      <td id=\"T_3c27c_row2_col1\" class=\"data row2 col1\" >(178, 13)</td>\n",
       "    </tr>\n",
       "    <tr>\n",
       "      <th id=\"T_3c27c_level0_row3\" class=\"row_heading level0 row3\" >3</th>\n",
       "      <td id=\"T_3c27c_row3_col0\" class=\"data row3 col0\" >Numeric features</td>\n",
       "      <td id=\"T_3c27c_row3_col1\" class=\"data row3 col1\" >13</td>\n",
       "    </tr>\n",
       "    <tr>\n",
       "      <th id=\"T_3c27c_level0_row4\" class=\"row_heading level0 row4\" >4</th>\n",
       "      <td id=\"T_3c27c_row4_col0\" class=\"data row4 col0\" >Preprocess</td>\n",
       "      <td id=\"T_3c27c_row4_col1\" class=\"data row4 col1\" >True</td>\n",
       "    </tr>\n",
       "    <tr>\n",
       "      <th id=\"T_3c27c_level0_row5\" class=\"row_heading level0 row5\" >5</th>\n",
       "      <td id=\"T_3c27c_row5_col0\" class=\"data row5 col0\" >Imputation type</td>\n",
       "      <td id=\"T_3c27c_row5_col1\" class=\"data row5 col1\" >simple</td>\n",
       "    </tr>\n",
       "    <tr>\n",
       "      <th id=\"T_3c27c_level0_row6\" class=\"row_heading level0 row6\" >6</th>\n",
       "      <td id=\"T_3c27c_row6_col0\" class=\"data row6 col0\" >Numeric imputation</td>\n",
       "      <td id=\"T_3c27c_row6_col1\" class=\"data row6 col1\" >mean</td>\n",
       "    </tr>\n",
       "    <tr>\n",
       "      <th id=\"T_3c27c_level0_row7\" class=\"row_heading level0 row7\" >7</th>\n",
       "      <td id=\"T_3c27c_row7_col0\" class=\"data row7 col0\" >Categorical imputation</td>\n",
       "      <td id=\"T_3c27c_row7_col1\" class=\"data row7 col1\" >mode</td>\n",
       "    </tr>\n",
       "    <tr>\n",
       "      <th id=\"T_3c27c_level0_row8\" class=\"row_heading level0 row8\" >8</th>\n",
       "      <td id=\"T_3c27c_row8_col0\" class=\"data row8 col0\" >Normalize</td>\n",
       "      <td id=\"T_3c27c_row8_col1\" class=\"data row8 col1\" >True</td>\n",
       "    </tr>\n",
       "    <tr>\n",
       "      <th id=\"T_3c27c_level0_row9\" class=\"row_heading level0 row9\" >9</th>\n",
       "      <td id=\"T_3c27c_row9_col0\" class=\"data row9 col0\" >Normalize method</td>\n",
       "      <td id=\"T_3c27c_row9_col1\" class=\"data row9 col1\" >minmax</td>\n",
       "    </tr>\n",
       "    <tr>\n",
       "      <th id=\"T_3c27c_level0_row10\" class=\"row_heading level0 row10\" >10</th>\n",
       "      <td id=\"T_3c27c_row10_col0\" class=\"data row10 col0\" >CPU Jobs</td>\n",
       "      <td id=\"T_3c27c_row10_col1\" class=\"data row10 col1\" >-1</td>\n",
       "    </tr>\n",
       "    <tr>\n",
       "      <th id=\"T_3c27c_level0_row11\" class=\"row_heading level0 row11\" >11</th>\n",
       "      <td id=\"T_3c27c_row11_col0\" class=\"data row11 col0\" >Use GPU</td>\n",
       "      <td id=\"T_3c27c_row11_col1\" class=\"data row11 col1\" >False</td>\n",
       "    </tr>\n",
       "    <tr>\n",
       "      <th id=\"T_3c27c_level0_row12\" class=\"row_heading level0 row12\" >12</th>\n",
       "      <td id=\"T_3c27c_row12_col0\" class=\"data row12 col0\" >Log Experiment</td>\n",
       "      <td id=\"T_3c27c_row12_col1\" class=\"data row12 col1\" >False</td>\n",
       "    </tr>\n",
       "    <tr>\n",
       "      <th id=\"T_3c27c_level0_row13\" class=\"row_heading level0 row13\" >13</th>\n",
       "      <td id=\"T_3c27c_row13_col0\" class=\"data row13 col0\" >Experiment Name</td>\n",
       "      <td id=\"T_3c27c_row13_col1\" class=\"data row13 col1\" >cluster-default-name</td>\n",
       "    </tr>\n",
       "    <tr>\n",
       "      <th id=\"T_3c27c_level0_row14\" class=\"row_heading level0 row14\" >14</th>\n",
       "      <td id=\"T_3c27c_row14_col0\" class=\"data row14 col0\" >USI</td>\n",
       "      <td id=\"T_3c27c_row14_col1\" class=\"data row14 col1\" >b30a</td>\n",
       "    </tr>\n",
       "  </tbody>\n",
       "</table>\n"
      ],
      "text/plain": [
       "<pandas.io.formats.style.Styler at 0x275f38879d0>"
      ]
     },
     "metadata": {},
     "output_type": "display_data"
    }
   ],
   "source": [
    "# Setup experiment with normalization and 'minmax' method.\n",
    "s = setup(winedata, session_id = 123, normalize = True, normalize_method = 'minmax')"
   ]
  },
  {
   "cell_type": "code",
   "execution_count": 34,
   "metadata": {},
   "outputs": [
    {
     "data": {
      "text/plain": [
       "<AxesSubplot: >"
      ]
     },
     "execution_count": 34,
     "metadata": {},
     "output_type": "execute_result"
    },
    {
     "data": {
      "image/png": "[encoded data removed]",
      "text/plain": [
       "<Figure size 800x550 with 1 Axes>"
      ]
     },
     "metadata": {},
     "output_type": "display_data"
    }
   ],
   "source": [
    "# Original values of 'Proline'. Notice values are on a higher scale from about 350 to 1650.\n",
    "get_config('X_train')['Proline'].hist()"
   ]
  },
  {
   "cell_type": "code",
   "execution_count": 32,
   "metadata": {},
   "outputs": [
    {
     "data": {
      "text/plain": [
       "<AxesSubplot: >"
      ]
     },
     "execution_count": 32,
     "metadata": {},
     "output_type": "execute_result"
    },
    {
     "data": {
      "image/png": "[encoded data removed]",
      "text/plain": [
       "<Figure size 800x550 with 1 Axes>"
      ]
     },
     "metadata": {},
     "output_type": "display_data"
    }
   ],
   "source": [
    "# Values of 'Proline' after they have been transformed. Notice values are now between 0 and 1.\n",
    "get_config('X_train_transformed')['Proline'].hist()"
   ]
  }
 ],
 "metadata": {
  "kernelspec": {
   "display_name": "Python 3",
   "language": "python",
   "name": "python3"
  },
  "language_info": {
   "codemirror_mode": {
    "name": "ipython",
    "version": 3
   },
   "file_extension": ".py",
   "mimetype": "text/x-python",
   "name": "python",
   "nbconvert_exporter": "python",
   "pygments_lexer": "ipython3",
   "version": "3.9.9"
  }
 },
 "nbformat": 4,
 "nbformat_minor": 2
}
